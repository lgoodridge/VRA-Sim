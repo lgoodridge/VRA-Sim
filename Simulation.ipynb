{
 "cells": [
  {
   "cell_type": "markdown",
   "metadata": {},
   "source": [
    "## Simulator Feature Wishlist:\n",
    " * Have the recommender weight unwatched videos higher + have users more willing to watch new videos\n",
    " * Give each user a baseline rating: to emulate how some users rate higher than others\n",
    " * Add polarity over time graph\n",
    "\n",
    "## Potential Things to Look Into:\n",
    " * Perhaps have a more in-depth matrix of metadata for videos (e.g. vectors indicating authors / directors, run time, etc.)? This could potentially allow for more realistic viewing / recommendation schemes and also allow for more complex user simulated behaviors"
   ]
  },
  {
   "cell_type": "code",
   "execution_count": 1,
   "metadata": {
    "collapsed": true
   },
   "outputs": [],
   "source": [
    "%matplotlib inline\n",
    "from __future__ import division\n",
    "import matplotlib.pyplot as plt\n",
    "import pandas as pd\n",
    "import numpy as np\n",
    "import random\n",
    "from scipy.sparse.linalg import svds\n",
    "from IPython.display import display"
   ]
  },
  {
   "cell_type": "markdown",
   "metadata": {},
   "source": [
    "## Setup\n",
    "\n",
    "We have a matrix of films, such that each row is a vector holding the metadata for a film. Each film vector is organized as follows: [genre1, genre2, ..., genreN, quality], such that the first NUM_GENRES columns hold how aligned the film is with each genre, and the last column holds the film's quality, which dictates the mean rating for the film. The genre alignment values are all between 0 and 1, and sum to 1.\n",
    "\n",
    "The user matrix is organized analogously, with each row holding the metdata for the user, in the format: [pref1, pref2, ..., prefN, behavior]. The NUM_GENRES columns hold how much a user likes a particular genre, and the last column holds the user's behavior, which determines how the user will react to recommended videos. Similarly, the preference values are all between 0 and 1, and sum to 1."
   ]
  },
  {
   "cell_type": "code",
   "execution_count": 2,
   "metadata": {
    "collapsed": true
   },
   "outputs": [],
   "source": [
    "# Total number of film genres\n",
    "NUM_GENRES = 2\n",
    "\n",
    "# Maximum film rating (e.g. 5 uses the rating scale 0-5)\n",
    "MAX_RATING = 5\n",
    "\n",
    "# Higher values = stronger user genre preferences\n",
    "# Use higher values with higher NUM_GENRES values\n",
    "# Reasonable values are probably b/w 0.1 and 10\n",
    "USER_POLARIZATION_STRENGTH = 1\n",
    "FILM_POLARIZATION_STRENGTH = 1\n",
    "\n",
    "# A user's \"behavior\" determines how a user chooses\n",
    "# which video(s) to watch at each simulation step\n",
    "# NAMES is a one-word description of each behavior,\n",
    "# and DISTRIBUTION determines the ratio of behaviors\n",
    "# among the created users\n",
    "BEHAVIOR_PROP_IDX = NUM_GENRES\n",
    "BEHAVIOR_NAMES = ['follower', 'stubborn', 'mixed']\n",
    "BEHAVIOR_DISTRIBUTION = [1, 1, 1]\n",
    "\n",
    "# If False, all users watch recommended films with\n",
    "# probability equal to their compatibility with it\n",
    "USE_BEHAVIOR = False\n",
    "\n",
    "# A film's \"quality\" determines the mean rating\n",
    "# of the film, and is used as the baseline which\n",
    "# user preferences modify to get the final rating\n",
    "QUALITY_PROP_IDX = NUM_GENRES\n",
    "QUALITY_MIN = MAX_RATING / 4.0\n",
    "QUALITY_MAX = 3 * MAX_RATING / 4.0\n",
    "\n",
    "# If False, the average film rating is used as the\n",
    "# baseline when calculating new ratings instead\n",
    "USE_QUALITY = True\n",
    "\n",
    "# How much watched films are penalized over unwatched\n",
    "# ones when making recommendations, and when the users\n",
    "# are choosing which videos to watch respectively\n",
    "# (Effect is multiplicative: should be b/w 0 and 1)\n",
    "REWATCH_RECOMMENDATION_PENALTY = 0\n",
    "REWATCH_VIEW_PENALTY = 1\n",
    "\n",
    "# Validate and standardize the behavior configuration parameters\n",
    "if len(BEHAVIOR_NAMES) != len(BEHAVIOR_DISTRIBUTION):\n",
    "    raise ValueError(\"BEHAVIOR_NAMES and BEHAVIOR_DISTRIBUTION \"\n",
    "            \"must have the same length.\")\n",
    "BEHAVIOR_NAMES = np.array(BEHAVIOR_NAMES)\n",
    "BEHAVIOR_DISTRIBUTION = np.array(BEHAVIOR_DISTRIBUTION) / float(sum(BEHAVIOR_DISTRIBUTION))"
   ]
  },
  {
   "cell_type": "code",
   "execution_count": 3,
   "metadata": {
    "collapsed": true
   },
   "outputs": [],
   "source": [
    "def generate_users(number_of_users):\n",
    "    \"\"\"\n",
    "    Generate a user matrix, where each row of the\n",
    "    matrix stores the properties of a user:\n",
    "    [genre1_preference, ..., genreN_preference, behavior]\n",
    "    \n",
    "    The genre preferences of each user sum to 1.\n",
    "    behavior will be an integer b/w 0 and num_behaviors\n",
    "    \"\"\"\n",
    "    results = []\n",
    "    for i in range(number_of_users):\n",
    "        user_prefs = np.random.dirichlet(\n",
    "                np.ones(NUM_GENRES)/USER_POLARIZATION_STRENGTH, size=1)[0]\n",
    "        behavior = np.random.choice(np.arange(len(BEHAVIOR_NAMES)),\n",
    "                p=BEHAVIOR_DISTRIBUTION)\n",
    "        user_props = np.append(user_prefs, behavior)\n",
    "        results.append(user_props)\n",
    "    return np.array(results)\n",
    "\n",
    "def generate_films(number_of_films):\n",
    "    \"\"\"\n",
    "    Generate a film matrix, where each row of the\n",
    "    matrix represents the properties of a film:\n",
    "    [genre1, ..., genreN, quality]\n",
    "    \n",
    "    The genre values of each film sum to 1.\n",
    "    quality will be b/w QUALITY_MIN and QUALITY_MAX.\n",
    "    \"\"\"\n",
    "    results = []\n",
    "    for i in range(number_of_films):\n",
    "        film_genres = np.random.dirichlet(\n",
    "                np.ones(NUM_GENRES)/FILM_POLARIZATION_STRENGTH, size=1)[0]\n",
    "        quality = random.uniform(QUALITY_MIN, QUALITY_MAX)\n",
    "        film_props = np.append(film_genres, quality)\n",
    "        results.append(film_props)\n",
    "    return np.array(results)"
   ]
  },
  {
   "cell_type": "code",
   "execution_count": 4,
   "metadata": {
    "collapsed": true
   },
   "outputs": [],
   "source": [
    "# Given a film, [genre1, genre2], or a user, [genre1, genre2], and divide \n",
    "# the film or user into extreme genre1, mild genre1, neutral, mild genre2,\n",
    "# extreme genre 2\n",
    "# Return cat, which is the category each film belongs to\n",
    "# Return film_num, which is the number of films in each category\n",
    "# -2 -> radical genre 1\n",
    "# -1 -> mild genre 1\n",
    "# 0 -> neutral\n",
    "# 1 -> mild genre 2\n",
    "# 2 -> radical genre 2\n",
    "def divide_film_users_cat(films_or_users):\n",
    "    cat = []\n",
    "    film_num = []\n",
    "    for film_or_user in films_or_users:\n",
    "        if film_or_user[0] > film_or_user[1]:\n",
    "            if abs(film_or_user[0] - film_or_user[1]) <= 0.1:\n",
    "                cat.append(0)\n",
    "            elif abs(film_or_user[0] - film_or_user[1]) > 0.1 and abs(film_or_user[0] - film_or_user[1]) <= 0.5: \n",
    "                cat.append(-1)\n",
    "            else:\n",
    "                cat.append(-2)\n",
    "        else:\n",
    "            if abs(film_or_user[0] - film_or_user[1]) <= 0.1:\n",
    "                cat.append(0)\n",
    "            elif abs(film_or_user[0] - film_or_user[1]) > 0.1 and abs(film_or_user[0] - film_or_user[1]) <= 0.5: \n",
    "                cat.append(1)\n",
    "            else:\n",
    "                cat.append(2)\n",
    "    extreme1 = np.sum((np.array(cat) == -2).astype(int))\n",
    "    mild1 = np.sum((np.array(cat) == -1).astype(int))\n",
    "    neutral = np.sum((np.array(cat) == 0).astype(int))\n",
    "    mild2 = np.sum((np.array(cat) == 1).astype(int))\n",
    "    extreme2 = np.sum((np.array(cat) == 2).astype(int))\n",
    "    film_num.append(extreme1)\n",
    "    film_num.append(mild1)\n",
    "    film_num.append(neutral)\n",
    "    film_num.append(mild2)\n",
    "    film_num.append(extreme2)\n",
    "    return cat, film_num          "
   ]
  },
  {
   "cell_type": "code",
   "execution_count": 5,
   "metadata": {
    "collapsed": true
   },
   "outputs": [],
   "source": [
    "# Given a film, [genre1, genre2], or a user, [genre1, genre2], and divide \n",
    "# the film or user into extreme genre1, mild genre1, neutral, mild genre2,\n",
    "# extreme genre 2\n",
    "# Return cat, which is the category each film or user belongs to\n",
    "# -2 -> radical genre 1\n",
    "# -1 -> mild genre 1\n",
    "# 0 -> neutral\n",
    "# 1 -> mild genre 2\n",
    "# 2 -> radical genre 2\n",
    "def film_users_cat(film_or_user):\n",
    "    cat = 0\n",
    "    if film_or_user[0] > film_or_user[1]:\n",
    "        if abs(film_or_user[0] - film_or_user[1]) <= 0.1:\n",
    "            cat = 0\n",
    "        elif abs(film_or_user[0] - film_or_user[1]) > 0.1 and abs(film_or_user[0] - film_or_user[1]) <= 0.5: \n",
    "            cat = -1\n",
    "        else:\n",
    "            cat = -2 \n",
    "    else:\n",
    "        if abs(film_or_user[0] - film_or_user[1]) <= 0.1:\n",
    "            cat = 0\n",
    "        elif abs(film_or_user[0] - film_or_user[1]) > 0.1 and abs(film_or_user[0] - film_or_user[1]) <= 0.5: \n",
    "            cat = 1\n",
    "        else:\n",
    "            cat = 2\n",
    "    return cat"
   ]
  },
  {
   "cell_type": "code",
   "execution_count": 6,
   "metadata": {},
   "outputs": [
    {
     "data": {
      "text/plain": [
       "array([[0.40878058, 0.59121942, 0.        ],\n",
       "       [0.25535407, 0.74464593, 0.        ],\n",
       "       [0.55268939, 0.44731061, 0.        ],\n",
       "       ...,\n",
       "       [0.12325457, 0.87674543, 0.        ],\n",
       "       [0.29608614, 0.70391386, 1.        ],\n",
       "       [0.72960186, 0.27039814, 1.        ]])"
      ]
     },
     "metadata": {},
     "output_type": "display_data"
    },
    {
     "name": "stdout",
     "output_type": "stream",
     "text": [
      "(6040, 3)\n"
     ]
    },
    {
     "data": {
      "text/plain": [
       "array([[0.60646965, 0.39353035, 3.14320587],\n",
       "       [0.30227908, 0.69772092, 3.28293121],\n",
       "       [0.2288314 , 0.7711686 , 1.46631587],\n",
       "       ...,\n",
       "       [0.0565188 , 0.9434812 , 2.01386274],\n",
       "       [0.20662303, 0.79337697, 3.3350975 ],\n",
       "       [0.15160691, 0.84839309, 3.58046643]])"
      ]
     },
     "metadata": {},
     "output_type": "display_data"
    },
    {
     "name": "stdout",
     "output_type": "stream",
     "text": [
      "(3883, 3)\n"
     ]
    }
   ],
   "source": [
    "NUM_USERS = 6040 # 6040\n",
    "NUM_FILMS = 3883 # 3883\n",
    "\n",
    "users = generate_users(NUM_USERS)\n",
    "films = generate_films(NUM_FILMS)\n",
    "\n",
    "display(users)\n",
    "print(users.shape)\n",
    "display(films)\n",
    "print(films.shape)"
   ]
  },
  {
   "cell_type": "code",
   "execution_count": 10,
   "metadata": {},
   "outputs": [
    {
     "name": "stdout",
     "output_type": "stream",
     "text": [
      "Mean compatibility: 0.664154\n",
      "Max absolute compatibility: 0.999998\n"
     ]
    }
   ],
   "source": [
    "def get_user_film_compatibility(userID, filmID):\n",
    "    \"\"\"\n",
    "    Returns a value between 0 and 1 indicating how much\n",
    "    a user's preferences aligns with the film's genre(s).\n",
    "    \"\"\"\n",
    "    user_prefs = users[userID][:NUM_GENRES]\n",
    "    film_genres = films[filmID][:NUM_GENRES]\n",
    "    return 1 - (np.sum(np.abs(user_prefs - film_genres)) / NUM_GENRES)\n",
    "\n",
    "# Compute the compatabilities of a random sample of users\n",
    "# and films, so some stats can be calcuated on them\n",
    "compats = []\n",
    "sample_userIDs = random.sample(list(np.arange(NUM_USERS)), min(500, NUM_USERS))\n",
    "sample_filmIDs = random.sample(list(np.arange(NUM_FILMS)), min(500, NUM_FILMS))\n",
    "for userID in sample_userIDs:\n",
    "    for filmID in sample_filmIDs:\n",
    "        compats.append(get_user_film_compatibility(userID, filmID))\n",
    "\n",
    "mean_compatibility = 1.0 * sum(compats) / len(compats)\n",
    "max_abs_compatibility = max(max(compats), abs(min(compats)))\n",
    "\n",
    "print(\"Mean compatibility: %f\" % mean_compatibility)\n",
    "print(\"Max absolute compatibility: %f\" % max_abs_compatibility)"
   ]
  },
  {
   "cell_type": "code",
   "execution_count": 11,
   "metadata": {
    "collapsed": true
   },
   "outputs": [],
   "source": [
    "# Determines how much a user's compatibility with \n",
    "# the film affects the final rating. The final\n",
    "# rating given will be mean_film_rating + x,\n",
    "# where -CRS <= x <= CRS\n",
    "COMPATIBILITY_RATING_STRENGTH = 3\n",
    "\n",
    "def get_user_film_rating(userID, filmID, actual_ratings=None, is_initial_rating=False):\n",
    "    \"\"\"\n",
    "    Returns a value between 0 and MAX_RATING indicating the\n",
    "    rating the user would give the film upon watching it.\n",
    "    \n",
    "    actual_ratings must be provided when USE_QUALITY and\n",
    "    is_initial_rating is False, so the current mean rating\n",
    "    of the film can be calculated.\n",
    "    \n",
    "    is_initial_rating should be set True when generating the\n",
    "    starting ratings for the film.\n",
    "    \"\"\"\n",
    "    compatibility = get_user_film_compatibility(userID, filmID)\n",
    "    \n",
    "    if USE_QUALITY:\n",
    "        base_rating = films[filmID][QUALITY_PROP_IDX]\n",
    "    else:\n",
    "        if is_initial_rating:\n",
    "            return round(MAX_RATING * compatibility)\n",
    "        else:\n",
    "            film_ratings = actual_ratings[:, filmID]\n",
    "            base_rating = np.mean(film_ratings[film_ratings.nonzero()])\n",
    "\n",
    "    # Convert compatibility to a value within [-CRS, +CRS]\n",
    "    compat_influence = ((compatibility - mean_compatibility)\n",
    "            / max_abs_compatibility) * COMPATIBILITY_RATING_STRENGTH\n",
    "    return max(min(round(base_rating + compat_influence), MAX_RATING), 0)\n",
    "\n",
    "def generate_initial_ratings(users, films, view_rate, rescale_to_midline=False):\n",
    "    \"\"\"\n",
    "    Generates a (num_films, num_users) rating matrix, where\n",
    "    each row represents the ratings that film has received\n",
    "    from all users.\n",
    "    \n",
    "    view_rate is the chance a user will view a given film.\n",
    "    \n",
    "    If rescale_to_midline is True, the ratings are scaled\n",
    "    such that mean of non-zero ratings is MAX_RATING / 2.\n",
    "    \"\"\"\n",
    "    results = []\n",
    "    for userID in range(users.shape[0]):\n",
    "        user_ratings = []\n",
    "        for filmID in range(films.shape[0]):\n",
    "            ran = random.uniform(0,1)\n",
    "            if (ran <= view_rate):\n",
    "                rating = get_user_film_rating(userID, filmID, is_initial_rating=True)\n",
    "                user_ratings.append(rating)\n",
    "            else:\n",
    "                user_ratings.append(0)\n",
    "        results.append(user_ratings)\n",
    "    results = np.array(results)\n",
    "    # Perform rescaling if necessary\n",
    "    if rescale_to_midline:\n",
    "        results = results * ((MAX_RATING / 2.0) / (results[results.nonzero()].mean()))\n",
    "        results = np.clip(np.round(results), 0, MAX_RATING)\n",
    "    return results"
   ]
  },
  {
   "cell_type": "code",
   "execution_count": 12,
   "metadata": {},
   "outputs": [
    {
     "data": {
      "text/plain": [
       "array([[0., 0., 0., ..., 0., 0., 0.],\n",
       "       [3., 0., 0., ..., 0., 0., 0.],\n",
       "       [0., 0., 0., ..., 0., 0., 0.],\n",
       "       ...,\n",
       "       [0., 0., 0., ..., 0., 0., 0.],\n",
       "       [0., 0., 0., ..., 0., 0., 0.],\n",
       "       [0., 0., 0., ..., 0., 0., 0.]])"
      ]
     },
     "metadata": {},
     "output_type": "display_data"
    },
    {
     "name": "stdout",
     "output_type": "stream",
     "text": [
      "(6040, 3883)\n"
     ]
    }
   ],
   "source": [
    "INITIAL_VIEWING_RATE = 0.05 # 0.05\n",
    "RESCALE_TO_MIDLINE = True\n",
    "\n",
    "initial_ratings = generate_initial_ratings(users, films,\n",
    "        INITIAL_VIEWING_RATE, rescale_to_midline=RESCALE_TO_MIDLINE)\n",
    "\n",
    "display(initial_ratings)\n",
    "print(initial_ratings.shape)"
   ]
  },
  {
   "cell_type": "code",
   "execution_count": 13,
   "metadata": {},
   "outputs": [
    {
     "data": {
      "text/plain": [
       "array([[ 0.,  0.,  0., ...,  0.,  0.,  0.],\n",
       "       [ 0.,  0.,  0., ...,  0.,  0.,  0.],\n",
       "       [ 0.,  0.,  0., ...,  0., -0.,  0.],\n",
       "       ...,\n",
       "       [ 0.,  0.,  0., ...,  0.,  0.,  0.],\n",
       "       [ 0.,  0.,  0., ...,  0.,  0.,  0.],\n",
       "       [ 0.,  0., -0., ..., -0.,  0.,  0.]])"
      ]
     },
     "metadata": {},
     "output_type": "display_data"
    },
    {
     "name": "stdout",
     "output_type": "stream",
     "text": [
      "(6040, 3883)\n"
     ]
    }
   ],
   "source": [
    "# The number of singular values to compute with SVD\n",
    "# Larger values give more accurate predictions, but\n",
    "# take longer to compute (and give longer simulator\n",
    "# convergence times)\n",
    "# Reasonable values are probably b/w 10 and 50\n",
    "K_VAL = 50\n",
    "\n",
    "def get_predicted_ratings(actual_ratings):\n",
    "    \"\"\"\n",
    "    Returns a (num_users, num_films) matrix containing\n",
    "    the predicted ratings each user would each film.\n",
    "    \"\"\"\n",
    "    # Only consider non-zero ratings when calculating the mean\n",
    "    masked_user_ratings = np.ma.masked_equal(actual_ratings, 0)\n",
    "    user_ratings_mean = masked_user_ratings.mean(axis=1).data\n",
    "    # Calculate SVD values of demeaned ratings + estimate new ratings\n",
    "    R_demeaned = actual_ratings - user_ratings_mean.reshape(-1, 1)\n",
    "    U, sigma, Vt = svds(R_demeaned, k=K_VAL)\n",
    "    sigma = np.diag(sigma)\n",
    "    predicted_ratings = np.round(np.dot(np.dot(U, sigma), Vt) + user_ratings_mean.reshape(-1, 1))\n",
    "    return predicted_ratings\n",
    "\n",
    "example_predictions = get_predicted_ratings(initial_ratings)\n",
    "display(example_predictions)\n",
    "print(example_predictions.shape)"
   ]
  },
  {
   "cell_type": "code",
   "execution_count": 14,
   "metadata": {},
   "outputs": [
    {
     "name": "stdout",
     "output_type": "stream",
     "text": [
      "Example Film Recommendations: [2598, 3657, 1033, 360, 1801]\n",
      "Example Distribution: [2, 3]\n"
     ]
    }
   ],
   "source": [
    "NUM_RECS = 5\n",
    "\n",
    "def get_recommendations(actual_ratings, predicted_ratings, userID, num_recommendations=NUM_RECS):\n",
    "    \"\"\"\n",
    "    Gets the top num_recommendations film recommendations for\n",
    "    the provided user, using the rating prediction matrix, and\n",
    "    returns a tuple containing the recommended film IDs, and\n",
    "    counts of the recommendations received of each film genre.\n",
    "    \"\"\"\n",
    "    # Get predicted user ratings, penalizing already watched films\n",
    "    predicted_user_ratings = predicted_ratings[userID]\n",
    "    watched_films = np.apply_along_axis(lambda x: x != 0, 0, actual_ratings[userID])\n",
    "    watched_penalty = watched_films * REWATCH_RECOMMENDATION_PENALTY\n",
    "    watched_penalty[watched_penalty == 0] = 1.0\n",
    "    recommendation_matrix = predicted_user_ratings * watched_penalty\n",
    "    # Get the film recommendations + the genre distribution\n",
    "    recommended_filmIDs = np.argsort(recommendation_matrix)\\\n",
    "            [-num_recommendations:].tolist()\n",
    "    film_recs = films[recommended_filmIDs, :]\n",
    "    genre_counts = [int(round(sum(film_recs[:, genre_idx])))\n",
    "                    for genre_idx in range(NUM_GENRES)]\n",
    "    return (recommended_filmIDs, genre_counts)\n",
    "\n",
    "example_recs = get_recommendations(initial_ratings, example_predictions, 0)\n",
    "print(\"Example Film Recommendations: \" + str(example_recs[0]))\n",
    "print(\"Example Distribution: \" + str(example_recs[1]))"
   ]
  },
  {
   "cell_type": "code",
   "execution_count": null,
   "metadata": {
    "collapsed": true
   },
   "outputs": [],
   "source": []
  },
  {
   "cell_type": "code",
   "execution_count": 15,
   "metadata": {
    "collapsed": true
   },
   "outputs": [],
   "source": [
    "# Probability of a follower watching a recommended film\n",
    "FOLLOWER_VIEW_RATE = 0.5\n",
    "\n",
    "# Minimum compatibility a stubborn user must\n",
    "# have with a film in order to watch it\n",
    "STUBBORN_COMPATIBILITY_THRESHOLD = 0.8\n",
    "\n",
    "def give_recommendation(userID, filmID, actual_ratings):\n",
    "    \"\"\"\n",
    "    Actually gives a film recommendation to a user, and\n",
    "    determines whether the user will watch it, based on\n",
    "    their behavior, and returns the rating if so.\n",
    "    Returns None if the user does not watch the film.\n",
    "    \"\"\"\n",
    "    behavior_name = BEHAVIOR_NAMES[int(users[userID][BEHAVIOR_PROP_IDX])]\n",
    "    compatibility = get_user_film_compatibility(userID, filmID)\n",
    "    ran = random.uniform(0, 1)\n",
    "    \n",
    "    # Follower: watches any of the recommended films with equal weight \n",
    "    if behavior_name == \"follower\":\n",
    "        does_watch = ran <= FOLLOWER_VIEW_RATE\n",
    "    # Mixed: watches a recommended video with probability\n",
    "    # equal to their compatability with that film\n",
    "    elif behavior_name == \"mixed\":\n",
    "        does_watch = ran <= compatibility\n",
    "    # Stubborn: only watches videos above a certain compatibility threshold\n",
    "    elif behavior_name == \"stubborn\":\n",
    "        does_watch = compatibility <= STUBBORN_COMPATIBILITY_THRESHOLD\n",
    "    else:\n",
    "        raise ValueError(\"Programmer Error: Unexpected behavior value '%d'\" % behavior)\n",
    "    \n",
    "    # If the user would be rewatching the film, change their\n",
    "    # mind with some probability, according to the rewatch penalty\n",
    "    if does_watch and actual_ratings[userID][filmID] != 0:\n",
    "        ran2 = random.uniform(0, 1)\n",
    "        does_watch = ran2 <= REWATCH_VIEW_PENALTY\n",
    "        \n",
    "    if does_watch:\n",
    "        return get_user_film_rating(userID, filmID, actual_ratings)\n",
    "    else:\n",
    "        return None"
   ]
  },
  {
   "cell_type": "code",
   "execution_count": 16,
   "metadata": {},
   "outputs": [
    {
     "name": "stdout",
     "output_type": "stream",
     "text": [
      "Number of users with neutral preference: 2408\n",
      "Number of polarized films recommended to those users: 73\n",
      "Polarity: 0.0303156146179402\n"
     ]
    }
   ],
   "source": [
    "# number of neutral users\n",
    "neutral = 0\n",
    "\n",
    "# number of polarized films\n",
    "polarity = 0\n",
    "\n",
    "# thresholds for neutral user preference\n",
    "lo_threshold = 0.3\n",
    "hi_threshold = 0.7\n",
    "\n",
    "for userIdx in range(users.shape[0]):\n",
    "    if lo_threshold < users[userIdx][0] < hi_threshold and lo_threshold < users[userIdx][1] < hi_threshold:\n",
    "        neutral += 1\n",
    "        movie_recs, movie_dist = get_recommendations(initial_ratings, example_predictions, userIdx)\n",
    "        if movie_dist != [2, 3] and movie_dist != [3, 2]:\n",
    "            polarity += 1\n",
    "\n",
    "print(\"Number of users with neutral preference: \" + str(neutral))\n",
    "print(\"Number of polarized films recommended to those users: \" + str(polarity))\n",
    "print(\"Polarity: \" + str(polarity/neutral))"
   ]
  },
  {
   "cell_type": "markdown",
   "metadata": {},
   "source": [
    "## Run Simulator"
   ]
  },
  {
   "cell_type": "code",
   "execution_count": 17,
   "metadata": {},
   "outputs": [
    {
     "data": {
      "text/plain": [
       "[[2, 3],\n",
       " [2, 3],\n",
       " [4, 1],\n",
       " [3, 2],\n",
       " [2, 3],\n",
       " [4, 1],\n",
       " [3, 2],\n",
       " [2, 3],\n",
       " [2, 3],\n",
       " [2, 3]]"
      ]
     },
     "metadata": {},
     "output_type": "display_data"
    }
   ],
   "source": [
    "initial_predictions = get_predicted_ratings(initial_ratings)\n",
    "\n",
    "# A (num_users, num_genres) matrix where each row\n",
    "# is the number of recommendations that user has\n",
    "# received of each film genre\n",
    "initial_distribution_matrix = []\n",
    "\n",
    "# Get the initial recommendation genre distribution\n",
    "for userID in range(users.shape[0]):\n",
    "    (recommended_filmIDs, type_counts) = get_recommendations(initial_ratings, initial_predictions, userID)\n",
    "    initial_distribution_matrix.append(type_counts)\n",
    "\n",
    "display(initial_distribution_matrix[:10])"
   ]
  },
  {
   "cell_type": "code",
   "execution_count": 18,
   "metadata": {
    "collapsed": true
   },
   "outputs": [],
   "source": [
    "def step_simulation(actual_ratings, predicted_ratings,\n",
    "                    rec_genre_counts, verbose=False):\n",
    "    \"\"\"\n",
    "    Runs one step of the simulation:\n",
    "    \n",
    "    Gives new recommendations to each user, and simulates them\n",
    "    viewing + rating a random selection of them.\n",
    "    \n",
    "    Returns the new rating matrix, the new distribution matrix of\n",
    "    recommended film genres, the # of changes in this matrix, and\n",
    "    a vector of all recommended film IDs.\n",
    "    \n",
    "    If verbose is True, prints extra debugging information.\n",
    "    \"\"\"\n",
    "    new_ratings = actual_ratings.copy()\n",
    "    new_distribution_matrix = []\n",
    "    num_distribution_changes = 0\n",
    "    all_recommended_filmIDs = np.zeros([users.shape[0], NUM_RECS])\n",
    "    \n",
    "    for userID in range(users.shape[0]):\n",
    "        user = users[userID]\n",
    "        (recommended_filmIDs, new_genre_counts) = \\\n",
    "                get_recommendations(new_ratings, predicted_ratings, userID)\n",
    "        new_distribution_matrix.append(new_genre_counts)\n",
    "        all_recommended_filmIDs[userID] = recommended_filmIDs\n",
    "        \n",
    "        # Check for changes in the user's recommendation distribution\n",
    "        if (new_genre_counts[0] != rec_genre_counts[userID][0]) or \\\n",
    "                (new_genre_counts[1] != rec_genre_counts[userID][1]):\n",
    "            num_distribution_changes += 1\n",
    "        \n",
    "        # Determine whether the user will watch each\n",
    "        # recommended film, and assign a rating if so\n",
    "        for i, filmID in enumerate(recommended_filmIDs):\n",
    "            rating = None\n",
    "            if USE_BEHAVIOR:\n",
    "                rating = give_recommendation(userID, filmID, actual_ratings)\n",
    "            else:\n",
    "                compatibility = get_user_film_compatibility(userID, filmID)\n",
    "                has_watched = actual_ratings[userID][filmID] != 0\n",
    "                ran = random.uniform(0,1)\n",
    "                if ran <= compatibility * (REWATCH_VIEW_PENALTY if has_watched else 1.0):\n",
    "                    rating = get_user_film_rating(userID, filmID, actual_ratings)\n",
    "            if rating is not None:\n",
    "                new_ratings[userID, filmID] = rating\n",
    "    \n",
    "    return (new_ratings, new_distribution_matrix, num_distribution_changes, all_recommended_filmIDs)"
   ]
  },
  {
   "cell_type": "code",
   "execution_count": 19,
   "metadata": {},
   "outputs": [
    {
     "name": "stdout",
     "output_type": "stream",
     "text": [
      "Step #0: Num Changes = 0\n",
      "Step #1: Num Changes = 2419\n",
      "Step #2: Num Changes = 1895\n",
      "Step #3: Num Changes = 1408\n",
      "Step #4: Num Changes = 1096\n",
      "Step #5: Num Changes = 902\n",
      "Step #6: Num Changes = 778\n",
      "Step #7: Num Changes = 694\n",
      "Step #8: Num Changes = 692\n",
      "Step #9: Num Changes = 595\n",
      "Step #10: Num Changes = 573\n",
      "Step #11: Num Changes = 585\n",
      "Step #12: Num Changes = 552\n",
      "Step #13: Num Changes = 537\n",
      "Step #14: Num Changes = 544\n",
      "Step #15: Num Changes = 539\n",
      "Step #16: Num Changes = 462\n",
      "Step #17: Num Changes = 459\n",
      "Step #18: Num Changes = 445\n",
      "Step #19: Num Changes = 446\n",
      "Step #20: Num Changes = 404\n",
      "Step #21: Num Changes = 404\n",
      "Step #22: Num Changes = 391\n",
      "Step #23: Num Changes = 329\n",
      "Step #24: Num Changes = 328\n",
      "Step #25: Num Changes = 336\n",
      "Step #26: Num Changes = 331\n",
      "Step #27: Num Changes = 281\n",
      "Step #28: Num Changes = 313\n",
      "Step #29: Num Changes = 256\n",
      "Step #30: Num Changes = 255\n",
      "Step #31: Num Changes = 249\n",
      "Step #32: Num Changes = 252\n",
      "Step #33: Num Changes = 224\n",
      "Step #34: Num Changes = 226\n",
      "Step #35: Num Changes = 254\n",
      "Step #36: Num Changes = 223\n",
      "Step #37: Num Changes = 160\n",
      "Step #38: Num Changes = 174\n",
      "Step #39: Num Changes = 143\n",
      "Step #40: Num Changes = 180\n",
      "Step #41: Num Changes = 168\n",
      "Step #42: Num Changes = 163\n",
      "Step #43: Num Changes = 153\n",
      "Step #44: Num Changes = 192\n",
      "Step #45: Num Changes = 154\n",
      "Step #46: Num Changes = 128\n",
      "Step #47: Num Changes = 100\n",
      "Step #48: Num Changes = 133\n",
      "Step #49: Num Changes = 130\n",
      "Step #50: Num Changes = 123\n",
      "Step #51: Num Changes = 100\n",
      "Step #52: Num Changes = 98\n",
      "Step #53: Num Changes = 123\n",
      "Step #54: Num Changes = 118\n",
      "Step #55: Num Changes = 72\n",
      "Step #56: Num Changes = 134\n",
      "Step #57: Num Changes = 137\n",
      "Step #58: Num Changes = 96\n",
      "Step #59: Num Changes = 101\n",
      "Step #60: Num Changes = 106\n",
      "Step #61: Num Changes = 118\n",
      "Step #62: Num Changes = 102\n",
      "Step #63: Num Changes = 129\n",
      "Step #64: Num Changes = 102\n",
      "Step #65: Num Changes = 129\n",
      "Step #66: Num Changes = 98\n",
      "Step #67: Num Changes = 104\n",
      "Step #68: Num Changes = 48\n",
      "Step #69: Num Changes = 88\n",
      "Step #70: Num Changes = 28\n",
      "Step #71: Num Changes = 80\n",
      "Step #72: Num Changes = 117\n",
      "Step #73: Num Changes = 90\n",
      "Step #74: Num Changes = 118\n",
      "Step #75: Num Changes = 62\n",
      "Step #76: Num Changes = 85\n",
      "Step #77: Num Changes = 86\n",
      "Step #78: Num Changes = 75\n",
      "Step #79: Num Changes = 56\n",
      "Step #80: Num Changes = 74\n",
      "Step #81: Num Changes = 36\n",
      "Step #82: Num Changes = 60\n",
      "Step #83: Num Changes = 49\n",
      "Step #84: Num Changes = 62\n",
      "Step #85: Num Changes = 62\n",
      "Step #86: Num Changes = 60\n",
      "Step #87: Num Changes = 63\n",
      "Step #88: Num Changes = 77\n",
      "Convergence!\n"
     ]
    }
   ],
   "source": [
    "MAX_STEPS = 100\n",
    "CHANGE_THRESHOLD = 0\n",
    "VERBOSE = False\n",
    "\n",
    "ratings = initial_ratings.copy()\n",
    "predictions = initial_predictions.copy()\n",
    "rec_distribution = list(initial_distribution_matrix)\n",
    "num_changes_over_time = []\n",
    "recommended_filmIDs_over_time = []\n",
    "\n",
    "for step in range(MAX_STEPS):\n",
    "    predictions = get_predicted_ratings(ratings)\n",
    "    ratings, rec_distribution, num_changes, recommended_filmIDs = \\\n",
    "            step_simulation(ratings, predictions, rec_distribution, verbose=VERBOSE)\n",
    "    num_changes_over_time.append(num_changes)\n",
    "    recommended_filmIDs_over_time.append(recommended_filmIDs)\n",
    "    if step > 0 and num_changes <= CHANGE_THRESHOLD:\n",
    "        print(\"Convergence!\")\n",
    "        break\n",
    "    print(\"Step #%d: Num Changes = %d\" % (step, num_changes))\n",
    "    #print(recommended_filmIDs)\n",
    "    #print(recommended_filmIDs.shape)"
   ]
  },
  {
   "cell_type": "code",
   "execution_count": 20,
   "metadata": {},
   "outputs": [],
   "source": [
    "rec = np.int_(recommended_filmIDs_over_time)[-1]"
   ]
  },
  {
   "cell_type": "code",
   "execution_count": 30,
   "metadata": {},
   "outputs": [],
   "source": [
    "def plot_filter_bubble(final_rec):\n",
    "    radical1 = np.int_([0,0,0,0,0])\n",
    "    mild1 = np.int_([0,0,0,0,0])\n",
    "    neutral = np.int_([0,0,0,0,0])\n",
    "    mild2 = np.int_([0,0,0,0,0])\n",
    "    radical2 = np.int_([0,0,0,0,0])\n",
    "    for i in range(0,final_rec.shape[0]):\n",
    "        user = users[i]\n",
    "        curr_rec = final_rec[i]\n",
    "        rec_films = films[curr_rec]\n",
    "        user_cat = film_users_cat(user)\n",
    "        _,dist = divide_film_users_cat(rec_films)\n",
    "        if user_cat == -2:\n",
    "            radical1 += dist\n",
    "        elif user_cat == -1:\n",
    "            mild1 += dist\n",
    "        elif user_cat == 0:\n",
    "            neutral += dist\n",
    "        elif user_cat == 1:\n",
    "            mild2 += dist\n",
    "        else:\n",
    "            radical2 += dist\n",
    "    N = 5\n",
    "    ind = np.arange(N)  # the x locations for the groups\n",
    "    width = 0.16      # the width of the bars\n",
    "    fig, ax = plt.subplots()\n",
    "    rects1 = ax.bar(ind, radical1, width, color='r')\n",
    "    rects2 = ax.bar(ind + width, mild1, width, color='y')\n",
    "    rects3 = ax.bar(ind + 2 * width, neutral, width, color='b')\n",
    "    rects4 = ax.bar(ind + 3 * width, mild2, width, color='g')\n",
    "    rects5 = ax.bar(ind + 4 * width, radical2, width, color='c')\n",
    "    # add some text for labels, title and axes ticks\n",
    "    ax.set_ylabel('Number of Films Recommended')\n",
    "    ax.set_title('Different kinds of films received by different kinds of user')\n",
    "    ax.set_xticks(ind + width * 2)\n",
    "    ax.set_xticklabels(('Radical \\n Type1', 'Mild \\n Type1', 'Neutral', 'Mild \\n Type2', 'Radical \\n Type2'))\n",
    "    ax.legend((rects1[0], rects2[0], rects3[0], rects4[0],rects5[0]), ('Radical Type1', 'Mild Type1', 'Neutral',\n",
    "                                                                      'Mild Type2', 'Radical Type2'))"
   ]
  },
  {
   "cell_type": "code",
   "execution_count": 31,
   "metadata": {},
   "outputs": [
    {
     "data": {
      "image/png": "[encoded data removed]",
      "text/plain": [
       "<matplotlib.figure.Figure at 0x108bc5b70>"
      ]
     },
     "metadata": {},
     "output_type": "display_data"
    }
   ],
   "source": [
    "plot_filter_bubble(rec)"
   ]
  },
  {
   "cell_type": "code",
   "execution_count": 23,
   "metadata": {},
   "outputs": [
    {
     "name": "stdout",
     "output_type": "stream",
     "text": [
      "(90, 30200)\n",
      "(90, 30200, 2)\n"
     ]
    }
   ],
   "source": [
    "# NUM_STEPS x (NUM_USERS * NUM_RECS) matrix of recommended filmIDs\n",
    "flattened_rec_filmIDs_over_time = np.array([x.flatten() for x in recommended_filmIDs_over_time])\n",
    "# NUM_STEPS x (NUM_USERS * NUM_RECS) x NUM_GENRES matrix of recommeneded film genre values\n",
    "flattened_rec_film_genres_over_time = np.array([\n",
    "    [films[int(filmID)][:NUM_GENRES] for filmID in step_filmIDs]\n",
    "    for step_filmIDs in flattened_rec_filmIDs_over_time\n",
    "])\n",
    "print(flattened_rec_filmIDs_over_time.shape)\n",
    "print(flattened_rec_film_genres_over_time.shape)"
   ]
  },
  {
   "cell_type": "code",
   "execution_count": 24,
   "metadata": {},
   "outputs": [
    {
     "data": {
      "image/png": "[encoded data removed]",
      "text/plain": [
       "<matplotlib.figure.Figure at 0x10816ca58>"
      ]
     },
     "metadata": {},
     "output_type": "display_data"
    }
   ],
   "source": [
    "# Plot the recommendation distribution changes over time\n",
    "plt.plot(num_changes_over_time)\n",
    "plt.xlabel(\"Step\")\n",
    "plt.ylabel(\"# Distribution Changes\")\n",
    "plt.show()"
   ]
  },
  {
   "cell_type": "code",
   "execution_count": 25,
   "metadata": {},
   "outputs": [
    {
     "data": {
      "image/png": "[encoded data removed]",
      "text/plain": [
       "<matplotlib.figure.Figure at 0x103626c88>"
      ]
     },
     "metadata": {},
     "output_type": "display_data"
    }
   ],
   "source": [
    "# A film is considered \"polarized\" if its highest\n",
    "# film genre value is above this threshold\n",
    "POLARIZED_FILM_THRESHOLD = 0.7\n",
    "\n",
    "def get_num_polarized_recs(step_rec_film_genres):\n",
    "    is_polarized = np.apply_along_axis(lambda x: max(x) > POLARIZED_FILM_THRESHOLD, 1, step_rec_film_genres)\n",
    "    return sum(is_polarized) / len(step_rec_film_genres)\n",
    "\n",
    "# Plot the percentage of recommended films that are polarized over time\n",
    "percent_polarized_recs_over_time = [get_num_polarized_recs(x) for x in flattened_rec_film_genres_over_time]\n",
    "plt.plot(percent_polarized_recs_over_time)\n",
    "plt.xlabel(\"Step\")\n",
    "plt.ylabel(\"% Polarized Film Recommendations\")\n",
    "plt.show()"
   ]
  },
  {
   "cell_type": "code",
   "execution_count": 26,
   "metadata": {},
   "outputs": [
    {
     "data": {
      "image/png": "[encoded data removed]",
      "text/plain": [
       "<matplotlib.figure.Figure at 0x108b73550>"
      ]
     },
     "metadata": {},
     "output_type": "display_data"
    }
   ],
   "source": [
    "def get_film_polarity(film_genre_vals):\n",
    "    max_val = max(film_genre_vals)\n",
    "    return 1.0 * sum([max_val - val for val in film_genre_vals]) / (len(film_genre_vals) - 1)\n",
    "\n",
    "def get_avg_film_polarity(step_rec_film_genres):\n",
    "    return np.mean(np.apply_along_axis(lambda x: get_film_polarity(x), 1, step_rec_film_genres), axis=0)\n",
    "\n",
    "# Plot the average polarity of the film recommendations over time\n",
    "# Polarity is defined here as the average difference between the\n",
    "# maximum genre value and the other genre values for a film\n",
    "avg_rec_film_polarity_over_time = [get_avg_film_polarity(x) for x in flattened_rec_film_genres_over_time]\n",
    "plt.plot(avg_rec_film_polarity_over_time)\n",
    "plt.xlabel(\"Step\")\n",
    "plt.ylabel(\"Average Recommended Film Polarity\")\n",
    "plt.show()"
   ]
  },
  {
   "cell_type": "code",
   "execution_count": 27,
   "metadata": {},
   "outputs": [
    {
     "data": {
      "image/png": "[encoded data removed]",
      "text/plain": [
       "<matplotlib.figure.Figure at 0x108b79e10>"
      ]
     },
     "metadata": {},
     "output_type": "display_data"
    }
   ],
   "source": [
    "def get_avg_genre_values(step_rec_film_genres):\n",
    "    return np.mean(step_rec_film_genres, axis=0)\n",
    "\n",
    "# Plot the distribution of recommended film genres over time\n",
    "avg_genre_values_over_time = np.array([get_avg_genre_values(x) for x in flattened_rec_film_genres_over_time])\n",
    "for genre in range(NUM_GENRES):\n",
    "    plt.plot(avg_genre_values_over_time[:,genre], label=\"Genre %d\" % (genre+1))\n",
    "plt.xlabel(\"Step\")\n",
    "plt.ylabel(\"Average Recommended Film Genre Value\")\n",
    "plt.legend()\n",
    "plt.show()"
   ]
  },
  {
   "cell_type": "markdown",
   "metadata": {},
   "source": [
    "### Observations:\n",
    "Note that the higher the `COMPATIBILITY_RATING_STRENGTH`, the greater the difference between the average rating and the film quality, as expected. In general, the average rating should be higher than the film quality, because films will be recommended to users that the algorithm predicts will like it. An average rating that is lower the film quality suggests that the recommender made poor decisions when recommending that film to users.\n",
    "\n",
    "Also note that higher quality films have more ratings, as they are recommended to more people."
   ]
  },
  {
   "cell_type": "code",
   "execution_count": 28,
   "metadata": {},
   "outputs": [
    {
     "name": "stdout",
     "output_type": "stream",
     "text": [
      "Sample Film\n",
      "-----------\n",
      "\n",
      "Film Matrix: [0.60646965 0.39353035 3.14320587]\n",
      "Film Quality: 3.143205865360717\n",
      "Average Rating: 3.419928825622776\n"
     ]
    },
    {
     "data": {
      "text/plain": [
       "array([3., 3., 3., ..., 4., 4., 4.])"
      ]
     },
     "metadata": {},
     "output_type": "display_data"
    },
    {
     "name": "stdout",
     "output_type": "stream",
     "text": [
      "\n",
      "\n",
      "Highest Rated Film\n",
      "------------------\n",
      "\n",
      "Film Matrix: [0.62328049 0.37671951 3.74901343]\n",
      "Film Quality: 3.749013433580261\n",
      "Average Rating: 4.0638297872340425\n"
     ]
    },
    {
     "data": {
      "text/plain": [
       "array([4., 3., 4., 5., 4., 5., 4., 4., 3., 4., 3., 4., 4., 4., 4., 5., 4.,\n",
       "       5., 5., 4., 5., 5., 4., 4., 5., 4., 5., 3., 3., 3., 4., 3., 4., 4.,\n",
       "       3., 4., 4., 3., 5., 5., 4., 4., 4., 4., 4., 5., 3., 4., 4., 4., 3.,\n",
       "       4., 3., 4., 3., 3., 3., 5., 4., 4., 4., 5., 4., 4., 4., 5., 4., 4.,\n",
       "       4., 3., 3., 4., 4., 3., 4., 4., 4., 4., 4., 5., 5., 4., 5., 5., 4.,\n",
       "       4., 5., 4., 5., 4., 3., 4., 5., 4., 4., 3., 5., 5., 3., 5., 4., 3.,\n",
       "       4., 4., 5., 4., 4., 4., 4., 5., 4., 4., 4., 5., 4., 4., 4., 4., 3.,\n",
       "       4., 5., 4., 4., 3., 4., 4., 3., 3., 4., 5., 3., 4., 4., 5., 4., 4.,\n",
       "       4., 5., 4., 4., 5., 4., 5., 4., 3., 3., 5., 4., 4., 5., 4., 3., 4.,\n",
       "       3., 4., 4., 5., 3., 4., 4., 3., 4., 4., 4., 4., 5., 5., 3., 4., 3.,\n",
       "       4., 3., 4., 5., 3., 3., 4., 4., 4., 4., 4., 3., 4., 4., 4., 5., 4.,\n",
       "       5., 4., 4., 5., 5., 3., 4., 4., 5., 4., 3., 4., 4., 4., 5., 3., 4.,\n",
       "       4., 4., 4., 4., 4., 5., 4., 4., 4., 5., 4., 4., 4., 4., 3., 4., 4.,\n",
       "       5., 3., 4., 4., 5., 4., 4., 5., 5., 4., 3., 3., 5., 4., 4., 4., 5.,\n",
       "       5., 5., 4., 4., 3., 4., 4., 4., 5., 4., 4., 5., 4., 4., 5., 4., 3.,\n",
       "       4., 4., 5., 4., 3., 4., 4., 3., 4., 4., 4., 4., 3., 3., 4., 4., 4.,\n",
       "       5., 3., 4., 5., 4., 4., 4., 3., 5., 4., 5., 4., 3., 4., 4., 4., 3.,\n",
       "       5., 4., 5., 4., 4., 4., 4., 5., 4., 5., 4., 4., 3., 4., 4., 5., 4.,\n",
       "       5., 4., 4., 5., 4., 5., 5., 5., 4., 4., 4., 5., 4., 4., 4., 4., 5.,\n",
       "       4., 4., 4., 5., 5., 4., 4., 5., 4., 4., 4., 4., 4., 4., 4., 4., 3.,\n",
       "       4., 5., 5., 4., 3., 4., 4., 4., 4., 4., 5., 4., 3., 4., 4., 4., 4.,\n",
       "       4., 4., 4., 4., 3., 4., 4., 4., 4., 4., 4., 4., 4., 4., 4., 4., 5.,\n",
       "       4., 5., 4., 4., 3., 3., 4., 5., 4., 4., 5., 4., 4., 4., 4., 4., 5.,\n",
       "       4., 3., 5., 3., 4., 4., 4., 5., 4., 4., 5., 4., 4., 4., 4., 4., 4.,\n",
       "       5., 5., 5., 4., 5., 4., 4., 3., 4., 3., 4., 4., 5., 4., 5., 4., 4.,\n",
       "       5., 4., 3., 3., 4., 3., 4., 4., 4., 3., 4., 3., 4., 5., 4., 5., 4.,\n",
       "       4., 4., 5., 4., 5., 4., 5., 5., 5., 4., 3., 4., 3., 4., 3., 4., 4.,\n",
       "       4., 4., 4., 4., 4., 4., 3., 4., 5., 4., 4., 5., 4., 4., 4., 5., 4.,\n",
       "       4., 4., 5., 4., 4., 3., 5., 4., 4., 3., 4., 4., 4., 4., 4., 4., 4.,\n",
       "       4., 4., 4., 4., 4., 4., 4., 4., 4., 4., 4., 4., 5., 4., 4., 4., 4.,\n",
       "       4., 5., 4., 4., 4., 4., 3., 5., 5., 4., 4., 4., 4., 5., 4., 5., 4.,\n",
       "       4., 4., 4., 4., 3., 4., 4., 4., 4., 3., 4., 4., 5., 4., 3., 4., 3.,\n",
       "       4., 4., 4., 4., 4., 4., 5., 4., 4., 4., 4., 4., 4., 5., 4., 4., 4.,\n",
       "       4., 5., 4.])"
      ]
     },
     "metadata": {},
     "output_type": "display_data"
    },
    {
     "name": "stdout",
     "output_type": "stream",
     "text": [
      "\n",
      "Lowest Rated Film\n",
      "-----------------\n",
      "\n",
      "Film Matrix: [9.99733698e-01 2.66301915e-04 1.26651399e+00]\n",
      "Film Quality: 1.2665139878920926\n",
      "Average Rating: 1.3988439306358382\n"
     ]
    },
    {
     "data": {
      "text/plain": [
       "array([1., 1., 1., 1., 1., 2., 1., 1., 2., 1., 1., 1., 2., 2., 2., 1., 2.,\n",
       "       2., 2., 2., 1., 2., 2., 1., 2., 2., 1., 2., 1., 2., 1., 2., 1., 1.,\n",
       "       1., 1., 1., 1., 2., 1., 1., 1., 1., 1., 1., 1., 2., 2., 1., 2., 2.,\n",
       "       1., 1., 2., 2., 2., 1., 1., 1., 2., 2., 1., 1., 1., 2., 2., 2., 1.,\n",
       "       1., 2., 2., 1., 2., 1., 1., 1., 1., 1., 1., 1., 1., 1., 2., 2., 1.,\n",
       "       1., 1., 1., 1., 1., 1., 2., 1., 2., 2., 2., 2., 1., 1., 1., 1., 1.,\n",
       "       2., 1., 1., 2., 1., 1., 1., 2., 2., 1., 1., 2., 2., 1., 1., 2., 2.,\n",
       "       2., 1., 1., 1., 2., 1., 1., 2., 2., 1., 2., 1., 1., 1., 2., 2., 1.,\n",
       "       1., 2., 1., 1., 1., 2., 1., 2., 2., 1., 1., 2., 1., 2., 1., 2., 1.,\n",
       "       2., 1., 2., 1., 1., 1., 1., 2., 1., 2., 1., 2., 1., 2., 1., 2., 1.,\n",
       "       2., 1., 1.])"
      ]
     },
     "metadata": {},
     "output_type": "display_data"
    }
   ],
   "source": [
    "def display_ratings_stats(filmID):\n",
    "    film_quality = films[filmID][QUALITY_PROP_IDX]\n",
    "    film_ratings = ratings_T[filmID]\n",
    "    film_ratings = film_ratings[film_ratings.nonzero()]\n",
    "    print(\"Film Matrix: \" + str(films[filmID]))\n",
    "    print(\"Film Quality: \" + str(film_quality))\n",
    "    print(\"Average Rating: \" + str(film_ratings.mean()))\n",
    "    display(film_ratings)\n",
    "\n",
    "# Print some stats about the film ratings\n",
    "ratings_T = ratings.T\n",
    "mean_ratings = np.true_divide(ratings_T.sum(1),(ratings_T!=0).sum(1))\n",
    "print(\"Sample Film\\n-----------\\n\")\n",
    "display_ratings_stats(0)\n",
    "print(\"\\n\\nHighest Rated Film\\n------------------\\n\")\n",
    "display_ratings_stats(np.argmax(mean_ratings))\n",
    "print(\"\\nLowest Rated Film\\n-----------------\\n\")\n",
    "display_ratings_stats(np.argmin(mean_ratings))"
   ]
  },
  {
   "cell_type": "code",
   "execution_count": 29,
   "metadata": {},
   "outputs": [
    {
     "name": "stdout",
     "output_type": "stream",
     "text": [
      "Film Matrix: [0.62328049 0.37671951 3.74901343]\n",
      "Film Quality: 3.749013433580261\n",
      "Average Rating: 4.0638297872340425\n"
     ]
    },
    {
     "data": {
      "text/plain": [
       "array([4., 3., 4., 5., 4., 5., 4., 4., 3., 4., 3., 4., 4., 4., 4., 5., 4.,\n",
       "       5., 5., 4., 5., 5., 4., 4., 5., 4., 5., 3., 3., 3., 4., 3., 4., 4.,\n",
       "       3., 4., 4., 3., 5., 5., 4., 4., 4., 4., 4., 5., 3., 4., 4., 4., 3.,\n",
       "       4., 3., 4., 3., 3., 3., 5., 4., 4., 4., 5., 4., 4., 4., 5., 4., 4.,\n",
       "       4., 3., 3., 4., 4., 3., 4., 4., 4., 4., 4., 5., 5., 4., 5., 5., 4.,\n",
       "       4., 5., 4., 5., 4., 3., 4., 5., 4., 4., 3., 5., 5., 3., 5., 4., 3.,\n",
       "       4., 4., 5., 4., 4., 4., 4., 5., 4., 4., 4., 5., 4., 4., 4., 4., 3.,\n",
       "       4., 5., 4., 4., 3., 4., 4., 3., 3., 4., 5., 3., 4., 4., 5., 4., 4.,\n",
       "       4., 5., 4., 4., 5., 4., 5., 4., 3., 3., 5., 4., 4., 5., 4., 3., 4.,\n",
       "       3., 4., 4., 5., 3., 4., 4., 3., 4., 4., 4., 4., 5., 5., 3., 4., 3.,\n",
       "       4., 3., 4., 5., 3., 3., 4., 4., 4., 4., 4., 3., 4., 4., 4., 5., 4.,\n",
       "       5., 4., 4., 5., 5., 3., 4., 4., 5., 4., 3., 4., 4., 4., 5., 3., 4.,\n",
       "       4., 4., 4., 4., 4., 5., 4., 4., 4., 5., 4., 4., 4., 4., 3., 4., 4.,\n",
       "       5., 3., 4., 4., 5., 4., 4., 5., 5., 4., 3., 3., 5., 4., 4., 4., 5.,\n",
       "       5., 5., 4., 4., 3., 4., 4., 4., 5., 4., 4., 5., 4., 4., 5., 4., 3.,\n",
       "       4., 4., 5., 4., 3., 4., 4., 3., 4., 4., 4., 4., 3., 3., 4., 4., 4.,\n",
       "       5., 3., 4., 5., 4., 4., 4., 3., 5., 4., 5., 4., 3., 4., 4., 4., 3.,\n",
       "       5., 4., 5., 4., 4., 4., 4., 5., 4., 5., 4., 4., 3., 4., 4., 5., 4.,\n",
       "       5., 4., 4., 5., 4., 5., 5., 5., 4., 4., 4., 5., 4., 4., 4., 4., 5.,\n",
       "       4., 4., 4., 5., 5., 4., 4., 5., 4., 4., 4., 4., 4., 4., 4., 4., 3.,\n",
       "       4., 5., 5., 4., 3., 4., 4., 4., 4., 4., 5., 4., 3., 4., 4., 4., 4.,\n",
       "       4., 4., 4., 4., 3., 4., 4., 4., 4., 4., 4., 4., 4., 4., 4., 4., 5.,\n",
       "       4., 5., 4., 4., 3., 3., 4., 5., 4., 4., 5., 4., 4., 4., 4., 4., 5.,\n",
       "       4., 3., 5., 3., 4., 4., 4., 5., 4., 4., 5., 4., 4., 4., 4., 4., 4.,\n",
       "       5., 5., 5., 4., 5., 4., 4., 3., 4., 3., 4., 4., 5., 4., 5., 4., 4.,\n",
       "       5., 4., 3., 3., 4., 3., 4., 4., 4., 3., 4., 3., 4., 5., 4., 5., 4.,\n",
       "       4., 4., 5., 4., 5., 4., 5., 5., 5., 4., 3., 4., 3., 4., 3., 4., 4.,\n",
       "       4., 4., 4., 4., 4., 4., 3., 4., 5., 4., 4., 5., 4., 4., 4., 5., 4.,\n",
       "       4., 4., 5., 4., 4., 3., 5., 4., 4., 3., 4., 4., 4., 4., 4., 4., 4.,\n",
       "       4., 4., 4., 4., 4., 4., 4., 4., 4., 4., 4., 4., 5., 4., 4., 4., 4.,\n",
       "       4., 5., 4., 4., 4., 4., 3., 5., 5., 4., 4., 4., 4., 5., 4., 5., 4.,\n",
       "       4., 4., 4., 4., 3., 4., 4., 4., 4., 3., 4., 4., 5., 4., 3., 4., 3.,\n",
       "       4., 4., 4., 4., 4., 4., 5., 4., 4., 4., 4., 4., 4., 5., 4., 4., 4.,\n",
       "       4., 5., 4.])"
      ]
     },
     "metadata": {},
     "output_type": "display_data"
    },
    {
     "name": "stdout",
     "output_type": "stream",
     "text": [
      "Film Matrix: [0.39469822 0.60530178 3.71828403]\n",
      "Film Quality: 3.7182840310246874\n",
      "Average Rating: 4.028662420382165\n"
     ]
    },
    {
     "data": {
      "text/plain": [
       "array([5., 4., 4., 4., 4., 5., 5., 4., 5., 5., 4., 4., 4., 4., 3., 3., 4.,\n",
       "       4., 4., 4., 4., 4., 4., 4., 4., 5., 4., 4., 4., 4., 3., 4., 5., 3.,\n",
       "       5., 4., 4., 3., 4., 4., 4., 4., 4., 4., 4., 5., 3., 5., 4., 5., 4.,\n",
       "       4., 4., 5., 4., 4., 4., 4., 4., 4., 3., 4., 4., 4., 5., 4., 4., 5.,\n",
       "       3., 4., 4., 3., 5., 4., 4., 4., 4., 4., 4., 4., 4., 4., 3., 5., 4.,\n",
       "       4., 4., 4., 4., 4., 4., 5., 4., 4., 3., 4., 5., 4., 4., 4., 4., 4.,\n",
       "       4., 4., 3., 4., 4., 5., 5., 4., 5., 4., 4., 4., 5., 4., 5., 5., 4.,\n",
       "       3., 5., 5., 4., 4., 4., 3., 4., 5., 4., 5., 4., 4., 4., 4., 5., 4.,\n",
       "       3., 4., 3., 4., 5., 4., 4., 4., 4., 4., 4., 4., 4., 4., 3., 5., 4.,\n",
       "       3., 4., 5., 4., 4., 4., 4., 5., 3., 4., 3., 4., 3., 4., 4., 4., 3.,\n",
       "       4., 5., 4., 4., 5., 4., 4., 3., 4., 4., 4., 4., 4., 4., 4., 4., 4.,\n",
       "       4., 3., 4., 4., 4., 4., 4., 4., 4., 4., 4., 4., 4., 4., 4., 4., 5.,\n",
       "       4., 4., 5., 3., 4., 4., 4., 4., 4., 4., 4., 4., 4., 4., 4., 4., 4.,\n",
       "       4., 4., 4., 4., 4., 4., 4., 4., 4., 5., 4., 5., 5., 5., 4., 4., 4.,\n",
       "       4., 4., 4., 4., 4., 4., 4., 5., 4., 4., 4., 4., 5., 4., 4., 4., 4.,\n",
       "       4., 4., 4., 4., 3., 4., 4., 4., 3., 5., 3., 4., 4., 4., 4., 4., 4.,\n",
       "       3., 4., 5., 5., 4., 3., 4., 4., 4., 4., 3., 5., 4., 4., 4., 4., 3.,\n",
       "       4., 4., 3., 4., 3., 4., 4., 4., 4., 4., 4., 4., 4., 4., 4., 4., 5.,\n",
       "       4., 4., 4., 4., 4., 4., 4., 4., 4., 4., 4., 4., 4., 3., 4., 5., 5.,\n",
       "       4., 3., 5., 4., 4., 5., 5., 4., 4., 4., 4., 4., 3., 5., 4., 4., 5.,\n",
       "       4., 4., 4., 4., 4., 3., 5., 5., 4., 4., 4., 4., 3., 4., 4., 4., 5.,\n",
       "       4., 4., 4., 3., 5., 4., 4., 4., 5., 4., 5., 4., 3., 4., 5., 4., 4.,\n",
       "       4., 4., 4., 4., 4., 4., 4., 4., 4., 4., 4., 3., 4., 4., 5., 4., 4.,\n",
       "       4., 5., 3., 5., 5., 3., 4., 4., 3., 3., 5., 4., 3., 5., 4., 5., 4.,\n",
       "       4., 4., 4., 5., 3., 4., 3., 4., 4., 4., 4., 5., 4., 5., 4., 3., 4.,\n",
       "       4., 5., 3., 3., 4., 4., 4., 4., 5., 5., 4., 4., 4., 4., 5., 4., 3.,\n",
       "       4., 4., 4., 4., 4., 4., 5., 4., 4., 4., 4., 3., 4., 4., 4., 4., 4.,\n",
       "       4., 4., 4., 4., 5., 4., 4., 4., 4., 4., 4., 3., 5., 4., 4., 4., 4.,\n",
       "       4., 4., 4., 5., 4., 5., 4., 4., 4., 4., 4., 5., 3., 5., 3., 5., 4.,\n",
       "       4., 4., 5., 5., 3., 4., 4., 5., 3., 4., 4., 4., 4., 3., 3., 4., 4.,\n",
       "       4., 4., 4., 4., 4., 4., 4., 4., 5., 5., 5., 3., 3., 3., 4., 5., 4.,\n",
       "       3., 4., 3., 4., 4., 3., 4., 4., 4., 4., 4., 3., 5., 4., 4., 3., 3.,\n",
       "       4., 4., 4., 4., 4., 4., 3., 3., 5., 4., 4., 4., 4., 4., 5., 3., 4.,\n",
       "       5., 3., 4., 3., 5., 4., 5., 5., 4., 4., 4., 4., 4., 4., 4., 4., 4.,\n",
       "       4., 4., 5., 5., 4., 4., 4., 4., 4., 4., 3., 4., 4., 3., 4., 3., 4.,\n",
       "       4., 4., 4., 4., 4., 4., 4., 3., 4., 3., 4., 4., 5., 4., 4., 3., 3.,\n",
       "       4., 3., 4., 4., 4., 4., 4., 4., 4., 4., 5., 4., 5., 3., 3., 4.])"
      ]
     },
     "metadata": {},
     "output_type": "display_data"
    },
    {
     "name": "stdout",
     "output_type": "stream",
     "text": [
      "Film Matrix: [0.61653703 0.38346297 3.73687541]\n",
      "Film Quality: 3.7368754092783303\n",
      "Average Rating: 4.020408163265306\n"
     ]
    },
    {
     "data": {
      "text/plain": [
       "array([5., 4., 4., 4., 4., 4., 4., 4., 4., 4., 4., 4., 4., 3., 4., 4., 3.,\n",
       "       3., 4., 4., 4., 4., 5., 3., 4., 4., 4., 4., 3., 5., 4., 5., 4., 4.,\n",
       "       4., 3., 4., 4., 5., 4., 4., 4., 4., 4., 5., 4., 3., 5., 3., 4., 5.,\n",
       "       4., 3., 4., 3., 4., 4., 3., 4., 4., 4., 4., 4., 4., 5., 4., 4., 4.,\n",
       "       4., 4., 5., 4., 4., 3., 4., 4., 4., 5., 4., 3., 4., 4., 4., 4., 4.,\n",
       "       3., 3., 3., 5., 3., 4., 4., 4., 5., 4., 3., 4., 4., 3., 4., 4., 4.,\n",
       "       4., 4., 4., 4., 3., 4., 4., 4., 4., 3., 5., 4., 4., 4., 5., 5., 4.,\n",
       "       4., 3., 4., 4., 3., 3., 4., 4., 3., 4., 4., 4., 4., 4., 4., 4., 4.,\n",
       "       3., 4., 4., 4., 4., 4., 3., 4., 5., 4., 5., 4., 4., 4., 4., 4., 5.,\n",
       "       4., 4., 5., 3., 4., 3., 3., 3., 5., 4., 4., 4., 4., 5., 4., 4., 4.,\n",
       "       4., 4., 4., 4., 4., 4., 4., 4., 4., 3., 4., 4., 4., 4., 4., 4., 4.,\n",
       "       4., 5., 5., 4., 5., 4., 4., 3., 4., 4., 3., 4., 4., 4., 4., 3., 4.,\n",
       "       4., 4., 5., 4., 5., 3., 4., 5., 4., 4., 5., 4., 3., 4., 4., 4., 4.,\n",
       "       4., 3., 3., 4., 4., 4., 4., 4., 5., 5., 4., 5., 5., 3., 4., 4., 4.,\n",
       "       4., 4., 5., 3., 4., 5., 3., 3., 4., 4., 4., 4., 5., 4., 4., 4., 4.,\n",
       "       5., 3., 4., 4., 4., 4., 5., 4., 4., 4., 4., 4., 4., 5., 4., 4., 4.,\n",
       "       4., 4., 4., 3., 4., 4., 5., 4., 5., 5., 4., 4., 3., 4., 3., 4., 4.,\n",
       "       3., 5., 4., 4., 4., 4., 4., 4., 5., 5., 4., 5., 4., 4., 4., 3., 3.,\n",
       "       4., 4., 4., 4., 3., 4., 4., 4., 3., 5., 4., 4., 3., 4., 4., 4., 5.,\n",
       "       4., 5., 5., 4., 4., 4., 4., 4., 4., 4., 3., 4., 4., 3., 3., 3., 3.,\n",
       "       5., 4., 4., 4., 3., 4., 4., 3., 4., 4., 5., 4., 4., 4., 5., 3., 3.,\n",
       "       3., 5., 4., 4., 4., 4., 5., 4., 4., 4., 3., 4., 4., 3., 4., 4., 4.,\n",
       "       4., 4., 4., 4., 4., 5., 5., 4., 4., 4., 5., 4., 4., 4., 4., 4., 4.,\n",
       "       4., 4., 4., 4., 4., 4., 4., 5., 3., 3., 5., 4., 4., 4., 4., 4., 4.,\n",
       "       4., 5., 3., 4., 4., 5., 4., 4., 3., 3., 3., 4., 4., 4., 5., 3., 4.,\n",
       "       5., 5., 4., 4., 4., 4., 4., 5., 4., 5., 3., 4., 4., 3., 4., 4., 5.,\n",
       "       5., 4., 5., 4., 4., 4., 4., 5., 3., 4., 4., 4., 3., 4., 4., 4., 3.,\n",
       "       4., 4., 4., 4., 4., 4., 4., 4., 4., 4., 5., 4., 5., 5., 4., 5., 4.,\n",
       "       4., 4., 4., 4., 4., 4., 4., 4., 5., 3., 4., 4., 4., 4., 3., 4., 4.,\n",
       "       5., 4., 4., 3., 4., 4., 4., 4., 3., 4., 4., 4., 5., 4., 5., 4., 4.,\n",
       "       4., 4., 4., 5., 4., 4., 3., 4., 5., 4., 5., 4., 5., 5., 4., 4., 3.,\n",
       "       5., 4., 4., 4., 4., 5., 4., 5., 4., 4., 4., 4., 4., 4., 5., 4., 4.,\n",
       "       4., 4., 5., 4., 4., 4., 4., 4., 4., 4., 4., 5., 4., 5., 4., 4., 4.,\n",
       "       4., 4., 4., 5., 5., 5., 4., 4., 3., 3., 4., 4., 4., 5., 5., 5., 5.,\n",
       "       4., 5., 3., 4., 4., 3., 4., 4., 5., 4., 4., 5., 4., 4., 4., 4., 4.,\n",
       "       5., 4., 4., 3., 3., 5., 4., 4., 4., 4., 5., 4., 4., 3., 4., 4., 3.,\n",
       "       4., 5., 5., 4., 5., 4., 4., 5., 4., 4., 4., 4., 4., 4., 4., 5., 5.,\n",
       "       4., 3., 4., 3., 4., 4., 4., 4., 4., 3., 4., 4., 3., 5., 4., 4., 4.,\n",
       "       3., 4., 4., 4., 5., 5., 4., 5., 4., 4., 4., 5., 4., 4., 4., 4., 4.,\n",
       "       4., 4., 3., 3., 4., 5., 5., 4., 4., 4., 4., 5., 4., 4., 3., 4., 4.,\n",
       "       5., 4., 5., 3., 3., 5., 4., 4., 4., 3., 4., 5., 4., 4., 4., 5., 5.,\n",
       "       3., 5., 4., 3., 3., 3., 5., 4., 3., 4., 3., 4., 4., 4., 4., 4., 4.,\n",
       "       4., 4., 4., 4., 5., 3., 4., 3., 4., 3., 4., 4., 5., 3., 4., 3., 4.,\n",
       "       4., 4., 5., 3.])"
      ]
     },
     "metadata": {},
     "output_type": "display_data"
    },
    {
     "name": "stdout",
     "output_type": "stream",
     "text": [
      "Film Matrix: [0.41285017 0.58714983 3.70406981]\n",
      "Film Quality: 3.7040698064100237\n",
      "Average Rating: 4.0200729927007295\n"
     ]
    },
    {
     "data": {
      "text/plain": [
       "array([4., 4., 4., 4., 4., 4., 4., 4., 4., 4., 4., 4., 4., 5., 5., 4., 4.,\n",
       "       4., 5., 4., 4., 4., 4., 4., 4., 5., 4., 3., 5., 4., 3., 4., 4., 4.,\n",
       "       4., 4., 5., 4., 5., 4., 5., 4., 5., 4., 4., 4., 4., 5., 4., 3., 4.,\n",
       "       5., 3., 4., 4., 4., 4., 4., 4., 5., 5., 3., 4., 3., 4., 4., 4., 3.,\n",
       "       4., 5., 4., 4., 4., 4., 4., 4., 4., 4., 4., 4., 4., 4., 4., 4., 3.,\n",
       "       5., 4., 4., 4., 5., 5., 4., 4., 4., 5., 4., 4., 4., 4., 4., 4., 4.,\n",
       "       4., 4., 4., 3., 5., 4., 4., 4., 4., 4., 4., 4., 4., 4., 4., 4., 4.,\n",
       "       4., 4., 4., 4., 4., 4., 4., 5., 4., 4., 4., 4., 3., 4., 4., 4., 3.,\n",
       "       4., 4., 5., 3., 4., 4., 4., 4., 4., 4., 3., 3., 5., 3., 5., 4., 4.,\n",
       "       3., 4., 4., 4., 4., 4., 4., 4., 4., 4., 4., 4., 4., 5., 4., 4., 4.,\n",
       "       3., 4., 4., 3., 4., 4., 5., 4., 4., 4., 4., 4., 4., 5., 4., 4., 4.,\n",
       "       4., 4., 4., 4., 4., 4., 4., 4., 4., 4., 4., 3., 4., 4., 4., 4., 4.,\n",
       "       4., 4., 4., 4., 4., 4., 4., 5., 4., 4., 5., 4., 5., 4., 4., 4., 4.,\n",
       "       4., 4., 4., 4., 3., 4., 4., 4., 4., 4., 4., 4., 4., 4., 4., 4., 4.,\n",
       "       4., 4., 3., 4., 4., 4., 4., 4., 4., 5., 4., 4., 4., 4., 3., 5., 4.,\n",
       "       4., 4., 5., 3., 4., 3., 4., 4., 4., 4., 4., 4., 4., 4., 5., 4., 4.,\n",
       "       5., 5., 4., 3., 4., 4., 4., 4., 3., 3., 5., 5., 4., 4., 4., 4., 4.,\n",
       "       5., 5., 4., 3., 4., 4., 4., 4., 3., 3., 3., 4., 5., 4., 4., 3., 4.,\n",
       "       3., 4., 3., 5., 4., 4., 4., 4., 5., 4., 4., 5., 5., 5., 3., 4., 4.,\n",
       "       4., 4., 4., 4., 4., 5., 4., 4., 4., 4., 4., 4., 4., 4., 5., 4., 4.,\n",
       "       4., 4., 5., 3., 3., 4., 4., 3., 4., 3., 4., 5., 4., 4., 4., 4., 4.,\n",
       "       4., 5., 3., 4., 4., 3., 4., 5., 4., 4., 3., 4., 5., 5., 4., 4., 4.,\n",
       "       3., 4., 5., 3., 4., 4., 5., 4., 3., 4., 4., 3., 5., 4., 3., 4., 4.,\n",
       "       4., 3., 5., 4., 4., 4., 4., 5., 5., 4., 4., 4., 4., 4., 5., 4., 4.,\n",
       "       4., 4., 4., 4., 5., 3., 4., 4., 4., 4., 4., 3., 4., 3., 4., 4., 4.,\n",
       "       3., 4., 4., 4., 4., 4., 4., 5., 4., 4., 4., 4., 4., 3., 4., 5., 4.,\n",
       "       5., 4., 4., 4., 4., 4., 5., 3., 5., 4., 5., 3., 4., 3., 4., 4., 4.,\n",
       "       4., 3., 4., 3., 4., 4., 3., 5., 5., 4., 5., 4., 5., 4., 4., 3., 3.,\n",
       "       4., 4., 5., 4., 4., 3., 4., 4., 4., 3., 5., 5., 4., 4., 3., 4., 5.,\n",
       "       5., 4., 4., 5., 4., 4., 4., 4., 4., 4., 4., 4., 4., 4., 4., 4., 3.,\n",
       "       4., 4., 4., 4., 3., 4., 3., 4., 4., 4., 5., 5., 4., 4., 4., 4., 4.,\n",
       "       4., 4., 3., 3., 3., 4., 4., 4., 5., 4., 5., 4., 3., 4., 4., 4., 4.,\n",
       "       4., 5., 4., 4.])"
      ]
     },
     "metadata": {},
     "output_type": "display_data"
    },
    {
     "name": "stdout",
     "output_type": "stream",
     "text": [
      "Film Matrix: [0.40523373 0.59476627 3.73309161]\n",
      "Film Quality: 3.7330916079126344\n",
      "Average Rating: 4.016713091922005\n"
     ]
    },
    {
     "data": {
      "text/plain": [
       "array([3., 5., 4., 5., 5., 3., 5., 5., 3., 4., 4., 4., 4., 4., 4., 3., 5.,\n",
       "       4., 4., 5., 3., 3., 4., 4., 4., 4., 4., 4., 4., 5., 4., 5., 4., 4.,\n",
       "       5., 5., 5., 4., 4., 4., 5., 5., 4., 4., 4., 4., 5., 4., 4., 4., 5.,\n",
       "       4., 4., 4., 3., 5., 4., 4., 4., 5., 3., 4., 4., 3., 4., 4., 3., 4.,\n",
       "       4., 4., 4., 4., 4., 3., 4., 5., 4., 4., 5., 4., 4., 4., 4., 5., 4.,\n",
       "       4., 5., 4., 5., 4., 5., 4., 3., 4., 4., 4., 4., 4., 4., 4., 4., 3.,\n",
       "       4., 5., 5., 4., 3., 4., 4., 3., 4., 4., 3., 4., 4., 5., 4., 3., 5.,\n",
       "       4., 4., 3., 5., 4., 3., 3., 4., 4., 5., 4., 4., 3., 4., 4., 4., 4.,\n",
       "       4., 4., 4., 4., 4., 4., 4., 5., 5., 4., 3., 4., 4., 4., 4., 4., 3.,\n",
       "       3., 4., 4., 4., 3., 4., 5., 4., 4., 3., 4., 4., 3., 4., 4., 4., 4.,\n",
       "       4., 4., 5., 3., 4., 4., 4., 3., 4., 4., 3., 5., 3., 4., 3., 4., 3.,\n",
       "       4., 4., 4., 4., 4., 4., 3., 4., 5., 4., 4., 5., 3., 4., 4., 5., 3.,\n",
       "       4., 4., 3., 4., 3., 4., 3., 4., 3., 4., 3., 4., 3., 4., 4., 4., 4.,\n",
       "       4., 4., 4., 3., 4., 4., 5., 4., 5., 4., 4., 4., 5., 4., 5., 4., 4.,\n",
       "       5., 3., 5., 4., 4., 4., 5., 4., 4., 4., 4., 4., 4., 4., 4., 4., 4.,\n",
       "       4., 4., 4., 4., 3., 4., 4., 4., 3., 5., 4., 4., 3., 4., 5., 4., 5.,\n",
       "       3., 4., 5., 3., 5., 5., 5., 4., 3., 5., 4., 4., 4., 4., 3., 4., 5.,\n",
       "       5., 4., 4., 4., 5., 3., 3., 4., 4., 4., 4., 4., 3., 4., 4., 5., 4.,\n",
       "       4., 4., 4., 5., 3., 4., 4., 5., 4., 5., 4., 4., 4., 5., 4., 4., 4.,\n",
       "       4., 5., 5., 4., 4., 5., 4., 4., 4., 5., 4., 4., 5., 4., 4., 4., 4.,\n",
       "       4., 3., 4., 3., 4., 3., 4., 4., 3., 4., 3., 4., 4., 4., 4., 4., 5.,\n",
       "       3., 4.])"
      ]
     },
     "metadata": {},
     "output_type": "display_data"
    },
    {
     "name": "stdout",
     "output_type": "stream",
     "text": [
      "Film Matrix: [0.60607747 0.39392253 3.72758315]\n",
      "Film Quality: 3.727583146999144\n",
      "Average Rating: 4.014285714285714\n"
     ]
    },
    {
     "data": {
      "text/plain": [
       "array([5., 4., 4., 3., 4., 4., 3., 4., 4., 4., 4., 4., 5., 3., 4., 4., 4.,\n",
       "       4., 4., 4., 4., 4., 3., 5., 5., 4., 4., 5., 4., 4., 3., 4., 4., 4.,\n",
       "       3., 4., 4., 4., 4., 4., 4., 4., 4., 4., 5., 4., 4., 4., 3., 4., 5.,\n",
       "       4., 5., 4., 4., 4., 4., 5., 4., 4., 4., 4., 4., 4., 5., 3., 4., 4.,\n",
       "       4., 5., 4., 5., 4., 4., 4., 5., 3., 4., 4., 4., 4., 5., 4., 4., 5.,\n",
       "       4., 5., 4., 4., 4., 4., 5., 3., 3., 4., 4., 4., 5., 4., 4., 4., 3.,\n",
       "       4., 4., 4., 4., 3., 5., 4., 4., 3., 3., 4., 4., 4., 4., 4., 4., 4.,\n",
       "       5., 3., 4., 4., 3., 5., 4., 4., 5., 5., 4., 4., 4., 5., 3., 5., 3.,\n",
       "       4., 3., 4., 5., 4., 4., 5., 3., 5., 4., 3., 4., 4., 4., 4., 4., 4.,\n",
       "       4., 3., 4., 4., 4., 4., 4., 5., 4., 4., 4., 5., 4., 4., 4., 5., 4.,\n",
       "       4., 3., 3., 4., 5., 4., 4., 4., 5., 3., 4., 4., 5., 5., 3., 4., 5.,\n",
       "       3., 3., 5., 4., 4., 4., 5., 3., 4., 5., 4., 4., 4., 4., 4., 4., 4.,\n",
       "       4., 4., 5., 5., 4., 4., 5., 4., 3., 5., 4., 3., 5., 4., 3., 4., 4.,\n",
       "       3., 4., 4., 4., 4., 4., 3., 4., 4., 4., 3., 4., 4., 4., 3., 3., 4.,\n",
       "       4., 4., 4., 4., 4., 4., 3., 5., 4., 4., 4., 4., 4., 4., 4., 4., 4.,\n",
       "       5., 4., 4., 4., 4., 3., 4., 4., 3., 4., 4., 4., 3., 4., 5., 4., 4.,\n",
       "       4., 4., 5., 4., 4., 4., 5., 4., 5., 3., 5., 4., 4., 4., 5., 3., 4.,\n",
       "       5., 5., 4., 4., 3., 4., 3., 4., 4., 4., 3., 4., 5., 3., 4., 4., 4.,\n",
       "       4., 5., 4., 4., 4., 4., 4., 4., 4., 4., 4., 4., 3., 4., 4., 4., 4.,\n",
       "       4., 3., 5., 4., 4., 4., 5., 5., 3., 3., 3., 5., 4., 5., 4., 4., 4.,\n",
       "       4., 4., 4., 4., 4., 3., 4., 3., 5., 3., 4., 5., 4., 5., 4., 4., 4.,\n",
       "       4., 4., 4., 3., 3., 3., 4., 4., 4., 4., 5., 4., 4., 3., 4., 4., 4.,\n",
       "       4., 5., 4., 4., 5., 4., 5., 4., 5., 4., 4., 4., 4., 4., 4., 4., 4.,\n",
       "       4., 4., 4., 5., 3., 4., 4., 5., 4., 4., 4., 5., 3., 4., 4., 4., 3.,\n",
       "       4., 4., 3., 4., 5., 4., 4., 4., 4., 4., 5., 4., 4., 5., 4., 3., 4.,\n",
       "       3., 4., 4., 4., 5., 3., 3., 4., 4., 4., 3., 5., 3., 4., 5., 4., 4.,\n",
       "       4., 4., 4., 3., 4., 4., 4., 4., 3., 5., 4., 5., 4., 4., 4., 4., 4.,\n",
       "       5., 3., 4., 5., 4., 4., 4., 5., 4., 3., 4., 3., 4., 4., 4., 4., 4.,\n",
       "       4., 5., 4., 4., 4., 4., 4., 5., 3., 4., 4., 4., 4., 3., 4., 4., 5.,\n",
       "       5., 4., 3., 4., 4., 4., 4., 4., 3., 4., 4., 4., 3., 4., 5., 5., 4.,\n",
       "       4., 4., 5., 4., 4., 4., 3., 4., 5., 4., 4., 4., 4., 5., 5., 3., 4.,\n",
       "       5., 3., 4., 4., 5., 4., 3., 3., 4., 3., 4., 4., 4., 4., 4., 4., 4.,\n",
       "       4., 4., 3., 4., 5., 4., 3., 4., 4., 4., 4., 4., 3., 4., 4., 5.])"
      ]
     },
     "metadata": {},
     "output_type": "display_data"
    },
    {
     "name": "stdout",
     "output_type": "stream",
     "text": [
      "Film Matrix: [0.47397967 0.52602033 3.70240801]\n",
      "Film Quality: 3.702408005112221\n",
      "Average Rating: 4.004842615012106\n"
     ]
    },
    {
     "data": {
      "text/plain": [
       "array([5., 3., 5., 4., 4., 4., 4., 4., 4., 5., 3., 4., 4., 4., 4., 4., 4.,\n",
       "       4., 3., 4., 4., 3., 5., 4., 4., 3., 4., 4., 4., 4., 4., 4., 4., 3.,\n",
       "       4., 4., 4., 4., 4., 4., 3., 4., 4., 4., 5., 4., 4., 5., 5., 4., 4.,\n",
       "       4., 4., 4., 3., 4., 5., 4., 3., 4., 4., 4., 4., 3., 4., 4., 5., 4.,\n",
       "       4., 4., 3., 5., 4., 5., 4., 3., 5., 4., 4., 4., 4., 4., 4., 3., 4.,\n",
       "       4., 3., 5., 4., 4., 5., 4., 4., 4., 3., 5., 4., 4., 4., 3., 4., 4.,\n",
       "       4., 4., 4., 4., 4., 4., 3., 5., 3., 4., 5., 3., 5., 3., 3., 4., 3.,\n",
       "       3., 4., 4., 4., 4., 4., 4., 5., 3., 4., 3., 4., 4., 4., 4., 4., 4.,\n",
       "       4., 4., 5., 4., 4., 4., 5., 4., 4., 4., 4., 4., 4., 4., 4., 3., 4.,\n",
       "       5., 4., 4., 4., 4., 4., 5., 4., 4., 4., 4., 4., 3., 5., 4., 4., 4.,\n",
       "       5., 4., 4., 4., 3., 4., 4., 3., 5., 4., 4., 4., 4., 5., 4., 5., 4.,\n",
       "       4., 4., 4., 4., 4., 4., 4., 4., 3., 4., 4., 4., 4., 4., 3., 4., 4.,\n",
       "       3., 4., 4., 4., 3., 4., 5., 4., 4., 4., 4., 4., 5., 4., 4., 4., 5.,\n",
       "       3., 4., 5., 4., 4., 5., 5., 4., 4., 3., 4., 4., 5., 4., 4., 4., 4.,\n",
       "       4., 4., 4., 4., 4., 4., 5., 4., 4., 4., 3., 3., 5., 3., 3., 5., 4.,\n",
       "       4., 4., 3., 4., 3., 5., 4., 4., 4., 4., 5., 4., 4., 3., 4., 3., 4.,\n",
       "       4., 4., 4., 4., 4., 3., 3., 4., 4., 4., 4., 4., 5., 4., 5., 4., 4.,\n",
       "       4., 4., 4., 4., 5., 4., 3., 4., 4., 4., 3., 4., 4., 4., 4., 4., 4.,\n",
       "       4., 4., 3., 3., 3., 4., 4., 4., 4., 3., 4., 3., 5., 5., 5., 4., 4.,\n",
       "       4., 5., 4., 4., 4., 4., 4., 4., 4., 5., 4., 4., 5., 5., 4., 3., 4.,\n",
       "       4., 4., 4., 3., 3., 4., 4., 4., 5., 3., 5., 3., 4., 4., 4., 3., 4.,\n",
       "       5., 4., 5., 4., 3., 4., 4., 4., 5., 4., 4., 5., 4., 4., 4., 4., 3.,\n",
       "       3., 4., 4., 5., 4., 4., 4., 4., 4., 4., 4., 5., 3., 3., 4., 5., 4.,\n",
       "       3., 4., 5., 5., 5., 3., 3., 4., 5., 3., 4., 4., 4., 5., 5., 4., 5.,\n",
       "       5., 5., 5., 4., 4.])"
      ]
     },
     "metadata": {},
     "output_type": "display_data"
    },
    {
     "name": "stdout",
     "output_type": "stream",
     "text": [
      "Film Matrix: [0.51191651 0.48808349 3.71358023]\n",
      "Film Quality: 3.7135802342637554\n",
      "Average Rating: 4.004415011037527\n"
     ]
    },
    {
     "data": {
      "text/plain": [
       "array([4., 5., 4., 4., 4., 4., 4., 3., 4., 3., 4., 4., 4., 4., 4., 4., 5.,\n",
       "       5., 4., 4., 4., 4., 3., 3., 4., 3., 4., 3., 5., 4., 4., 4., 4., 5.,\n",
       "       4., 4., 4., 4., 4., 5., 4., 5., 4., 4., 5., 4., 5., 4., 3., 4., 4.,\n",
       "       4., 4., 4., 3., 4., 5., 5., 3., 3., 3., 4., 4., 4., 5., 3., 3., 4.,\n",
       "       3., 4., 4., 3., 3., 5., 4., 5., 4., 4., 4., 5., 3., 4., 4., 4., 4.,\n",
       "       5., 3., 4., 3., 4., 4., 4., 4., 4., 4., 3., 5., 4., 4., 5., 3., 4.,\n",
       "       4., 4., 4., 4., 3., 4., 3., 3., 4., 4., 4., 4., 4., 4., 5., 5., 3.,\n",
       "       5., 3., 5., 3., 4., 5., 4., 5., 4., 5., 3., 4., 4., 3., 4., 4., 5.,\n",
       "       4., 4., 3., 4., 4., 3., 4., 4., 5., 3., 4., 5., 4., 4., 4., 4., 4.,\n",
       "       5., 4., 4., 3., 3., 4., 5., 3., 4., 4., 4., 3., 5., 5., 4., 3., 5.,\n",
       "       3., 3., 4., 4., 5., 4., 5., 4., 4., 3., 5., 3., 5., 5., 4., 5., 4.,\n",
       "       4., 5., 4., 4., 4., 4., 5., 4., 4., 4., 4., 4., 5., 3., 4., 3., 5.,\n",
       "       5., 4., 4., 3., 3., 4., 4., 4., 4., 4., 3., 4., 4., 4., 4., 5., 5.,\n",
       "       4., 3., 5., 4., 4., 4., 5., 4., 4., 3., 4., 4., 4., 4., 4., 3., 4.,\n",
       "       4., 4., 4., 4., 4., 4., 4., 5., 4., 4., 3., 3., 4., 4., 4., 4., 3.,\n",
       "       4., 4., 4., 5., 4., 3., 3., 4., 4., 3., 5., 4., 5., 4., 3., 4., 4.,\n",
       "       4., 4., 4., 4., 4., 4., 4., 4., 4., 4., 4., 4., 4., 4., 4., 3., 5.,\n",
       "       4., 4., 4., 4., 4., 5., 3., 4., 4., 3., 4., 3., 4., 4., 5., 4., 4.,\n",
       "       4., 3., 4., 4., 5., 4., 4., 4., 4., 4., 3., 3., 4., 5., 3., 3., 4.,\n",
       "       3., 5., 5., 5., 4., 4., 4., 4., 4., 5., 4., 4., 4., 4., 4., 4., 4.,\n",
       "       5., 4., 5., 3., 4., 4., 3., 4., 5., 5., 4., 4., 4., 4., 5., 3., 4.,\n",
       "       4., 5., 4., 4., 5., 4., 4., 4., 4., 4., 4., 3., 4., 3., 4., 4., 4.,\n",
       "       4., 4., 4., 4., 5., 5., 3., 4., 3., 4., 3., 4., 5., 4., 3., 4., 4.,\n",
       "       4., 4., 4., 4., 4., 4., 4., 4., 4., 4., 4., 5., 5., 5., 5., 5., 4.,\n",
       "       4., 5., 4., 4., 4., 3., 4., 4., 5., 4., 4., 5., 5., 4., 4., 4., 3.,\n",
       "       4., 4., 4., 4., 3., 3., 5., 3., 5., 5., 4., 4., 4., 4., 5., 3., 4.,\n",
       "       4., 4., 3., 4., 5., 4., 4., 4., 4., 4., 3.])"
      ]
     },
     "metadata": {},
     "output_type": "display_data"
    },
    {
     "name": "stdout",
     "output_type": "stream",
     "text": [
      "Film Matrix: [0.37393269 0.62606731 3.73570686]\n",
      "Film Quality: 3.735706856373236\n",
      "Average Rating: 3.998439937597504\n"
     ]
    },
    {
     "data": {
      "text/plain": [
       "array([4., 4., 4., 4., 4., 3., 5., 4., 4., 4., 4., 4., 3., 4., 4., 4., 4.,\n",
       "       4., 4., 3., 3., 5., 4., 5., 4., 4., 4., 3., 4., 4., 3., 4., 4., 3.,\n",
       "       4., 4., 4., 4., 4., 4., 4., 4., 4., 4., 3., 4., 3., 4., 5., 3., 3.,\n",
       "       4., 5., 5., 4., 4., 3., 5., 4., 4., 5., 5., 3., 5., 3., 4., 4., 4.,\n",
       "       4., 3., 4., 4., 3., 3., 3., 4., 4., 4., 4., 4., 4., 4., 3., 5., 4.,\n",
       "       4., 4., 4., 4., 4., 4., 4., 4., 4., 4., 3., 4., 4., 4., 3., 4., 5.,\n",
       "       5., 5., 4., 4., 4., 4., 4., 3., 5., 4., 3., 5., 3., 4., 4., 4., 3.,\n",
       "       4., 5., 5., 4., 4., 4., 4., 4., 4., 4., 4., 3., 4., 4., 4., 5., 5.,\n",
       "       4., 4., 3., 4., 5., 4., 4., 4., 5., 5., 5., 4., 4., 4., 4., 4., 3.,\n",
       "       4., 4., 4., 4., 3., 4., 3., 4., 4., 4., 5., 4., 4., 5., 4., 5., 4.,\n",
       "       3., 4., 5., 4., 4., 4., 4., 4., 5., 5., 4., 4., 4., 4., 5., 4., 5.,\n",
       "       4., 4., 4., 5., 5., 4., 4., 4., 4., 4., 3., 5., 4., 4., 3., 4., 4.,\n",
       "       4., 4., 4., 5., 4., 3., 4., 4., 4., 4., 3., 5., 5., 3., 4., 4., 4.,\n",
       "       4., 4., 3., 4., 4., 5., 4., 3., 4., 3., 5., 5., 4., 4., 4., 4., 4.,\n",
       "       5., 5., 4., 4., 4., 4., 5., 5., 4., 3., 4., 3., 4., 4., 3., 4., 4.,\n",
       "       3., 5., 5., 4., 3., 3., 4., 4., 4., 4., 3., 4., 5., 4., 4., 4., 3.,\n",
       "       4., 4., 5., 4., 3., 4., 4., 4., 4., 4., 4., 5., 3., 4., 3., 4., 5.,\n",
       "       4., 3., 4., 5., 4., 5., 3., 5., 4., 4., 4., 4., 4., 3., 4., 4., 5.,\n",
       "       4., 4., 5., 4., 5., 4., 3., 3., 5., 3., 4., 5., 5., 4., 4., 5., 3.,\n",
       "       4., 4., 4., 3., 4., 4., 3., 4., 4., 4., 4., 3., 5., 3., 3., 5., 4.,\n",
       "       5., 4., 4., 4., 5., 4., 4., 4., 5., 3., 3., 4., 4., 4., 5., 3., 3.,\n",
       "       4., 4., 5., 4., 4., 4., 4., 3., 4., 4., 4., 4., 4., 3., 4., 4., 4.,\n",
       "       4., 3., 4., 4., 5., 4., 4., 4., 4., 4., 5., 3., 4., 5., 4., 4., 5.,\n",
       "       3., 5., 5., 4., 4., 4., 4., 4., 5., 5., 3., 4., 5., 5., 4., 4., 3.,\n",
       "       4., 3., 4., 5., 4., 5., 3., 4., 5., 3., 5., 4., 3., 4., 5., 4., 5.,\n",
       "       3., 4., 5., 4., 4., 3., 4., 5., 4., 4., 4., 5., 5., 4., 5., 3., 4.,\n",
       "       4., 3., 4., 4., 4., 4., 4., 3., 5., 5., 4., 3., 4., 3., 4., 3., 4.,\n",
       "       5., 4., 3., 4., 4., 4., 3., 4., 3., 4., 4., 4., 4., 4., 5., 5., 4.,\n",
       "       3., 4., 4., 4., 4., 4., 4., 4., 3., 5., 4., 4., 3., 3., 3., 4., 3.,\n",
       "       4., 4., 4., 4., 4., 4., 4., 4., 3., 5., 4., 4., 4., 4., 4., 4., 5.,\n",
       "       4., 4., 3., 3., 4., 5., 4., 4., 4., 4., 4., 5., 5., 4., 3., 4., 4.,\n",
       "       5., 5., 4., 4., 4., 5., 4., 4., 5., 3., 4., 3., 4., 4., 4., 4., 4.,\n",
       "       5., 3., 4., 5., 4., 4., 4., 3., 4., 3., 4., 5., 4., 4., 5., 4., 4.,\n",
       "       5., 4., 4., 5., 4., 5., 3., 4., 3., 4., 4., 3., 4., 4., 4., 3., 4.,\n",
       "       3., 3., 4., 3., 4., 4., 3., 4., 5., 4., 3., 4., 5., 3., 4., 4., 4.,\n",
       "       4., 4., 4., 4., 4., 3., 4., 4., 4., 4., 4., 4., 4., 4., 3., 4., 4.,\n",
       "       5., 4., 5., 4., 4., 4., 5., 4., 5., 4., 4., 3., 4., 3., 4., 3., 4.,\n",
       "       4., 4., 3., 4., 4., 4., 4., 5., 3., 4., 5., 4.])"
      ]
     },
     "metadata": {},
     "output_type": "display_data"
    },
    {
     "name": "stdout",
     "output_type": "stream",
     "text": [
      "Film Matrix: [0.74245336 0.25754664 3.71334909]\n",
      "Film Quality: 3.7133490916261804\n",
      "Average Rating: 3.9983388704318936\n"
     ]
    },
    {
     "data": {
      "text/plain": [
       "array([5., 4., 4., 5., 4., 4., 3., 4., 4., 4., 3., 4., 4., 4., 4., 3., 4.,\n",
       "       3., 4., 4., 3., 4., 4., 4., 4., 5., 3., 4., 4., 5., 4., 4., 3., 3.,\n",
       "       5., 3., 5., 4., 4., 3., 4., 5., 4., 3., 3., 4., 4., 5., 3., 4., 4.,\n",
       "       4., 3., 5., 4., 4., 4., 4., 4., 5., 4., 3., 4., 4., 4., 3., 5., 4.,\n",
       "       4., 5., 5., 5., 4., 3., 5., 3., 4., 4., 4., 4., 4., 4., 3., 4., 5.,\n",
       "       3., 4., 4., 5., 4., 3., 4., 4., 4., 4., 3., 5., 4., 4., 2., 3., 4.,\n",
       "       3., 3., 4., 3., 4., 4., 5., 4., 5., 3., 4., 4., 4., 4., 4., 4., 5.,\n",
       "       4., 4., 3., 4., 3., 4., 4., 4., 3., 4., 3., 4., 4., 4., 4., 4., 4.,\n",
       "       5., 5., 4., 3., 4., 4., 4., 5., 4., 4., 3., 5., 3., 5., 4., 4., 4.,\n",
       "       4., 5., 4., 4., 4., 5., 4., 3., 4., 4., 4., 4., 4., 4., 4., 3., 4.,\n",
       "       4., 5., 3., 4., 4., 4., 5., 5., 4., 4., 4., 4., 4., 4., 4., 4., 4.,\n",
       "       4., 4., 5., 3., 4., 4., 4., 5., 5., 4., 4., 5., 5., 4., 5., 5., 4.,\n",
       "       5., 3., 4., 4., 3., 5., 5., 4., 4., 5., 5., 5., 4., 4., 3., 5., 4.,\n",
       "       4., 4., 5., 4., 4., 4., 3., 4., 4., 4., 5., 4., 5., 3., 3., 4., 5.,\n",
       "       5., 3., 5., 4., 4., 3., 5., 4., 4., 4., 4., 5., 4., 4., 4., 4., 5.,\n",
       "       4., 5., 3., 5., 4., 4., 4., 3., 4., 4., 3., 3., 4., 4., 4., 3., 3.,\n",
       "       4., 4., 4., 4., 5., 4., 4., 5., 3., 5., 4., 5., 3., 3., 4., 3., 4.,\n",
       "       4., 4., 4., 3., 4., 3., 4., 3., 4., 5., 5., 4., 4., 4., 4., 3., 3.,\n",
       "       5., 4., 5., 3., 4., 4., 4., 4., 4., 3., 4., 5., 5., 5., 4., 4., 4.,\n",
       "       4., 4., 3., 4., 4., 4., 4., 4., 4., 3., 5., 5., 4., 3., 4., 4., 4.,\n",
       "       3., 4., 5., 4., 4., 4., 4., 3., 5., 4., 4., 3., 4., 3., 4., 3., 4.,\n",
       "       5., 4., 4., 3., 4., 4., 3., 4., 3., 3., 5., 4., 5., 4., 4., 4., 5.,\n",
       "       5., 4., 5., 5., 3., 4., 3., 4., 4., 5., 5., 4., 5., 3., 4., 4., 4.,\n",
       "       4., 4., 4., 4., 5., 4., 5., 3., 5., 4., 5., 3., 4., 4., 4., 4., 4.,\n",
       "       4., 5., 3., 5., 4., 4., 5., 4., 3., 4., 4., 4., 4., 5., 4., 4., 4.,\n",
       "       4., 4., 5., 3., 4., 4., 5., 3., 4., 4., 3., 4., 4., 3., 5., 4., 3.,\n",
       "       4., 4., 4., 5., 4., 4., 4., 4., 3., 4., 4., 3., 4., 4., 4., 5., 5.,\n",
       "       5., 4., 4., 4., 4., 4., 4., 5., 3., 3., 4., 3., 4., 4., 4., 3., 5.,\n",
       "       3., 4., 4., 4., 3., 4., 5., 4., 4., 3., 3., 4., 4., 5., 4., 4., 4.,\n",
       "       4., 5., 5., 4., 5., 5., 4., 5., 3., 4., 3., 4., 3., 5., 4., 3., 4.,\n",
       "       4., 5., 3., 3., 5., 4., 5., 5., 3., 4., 4., 4., 4., 4., 5., 4., 4.,\n",
       "       3., 5., 5., 4., 3., 5., 5., 4., 4., 4., 4., 3., 3., 3., 4., 4., 4.,\n",
       "       5., 4., 4., 4., 5., 4., 4., 4., 4., 4., 5., 3., 4., 4., 3., 3., 5.,\n",
       "       5., 4., 3., 4., 4., 5., 3., 4., 4., 4., 3., 4., 5., 3., 3., 3., 4.,\n",
       "       4., 4., 4., 4., 5., 4., 4., 4., 4., 3., 4., 4., 3., 4., 3., 3., 4.,\n",
       "       3., 4., 4., 4., 5., 3., 5.])"
      ]
     },
     "metadata": {},
     "output_type": "display_data"
    }
   ],
   "source": [
    "sorted_movies = np.argsort(-mean_ratings)\n",
    "\n",
    "for i in range(10):\n",
    "    display_ratings_stats(sorted_movies[i])"
   ]
  },
  {
   "cell_type": "code",
   "execution_count": null,
   "metadata": {
    "collapsed": true
   },
   "outputs": [],
   "source": []
  }
 ],
 "metadata": {
  "celltoolbar": "Raw Cell Format",
  "kernelspec": {
   "display_name": "Python 3",
   "language": "python",
   "name": "python3"
  },
  "language_info": {
   "codemirror_mode": {
    "name": "ipython",
    "version": 3
   },
   "file_extension": ".py",
   "mimetype": "text/x-python",
   "name": "python",
   "nbconvert_exporter": "python",
   "pygments_lexer": "ipython3",
   "version": "3.6.1"
  }
 },
 "nbformat": 4,
 "nbformat_minor": 2
}
