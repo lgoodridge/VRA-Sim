{
 "cells": [
  {
   "cell_type": "code",
   "execution_count": 1,
   "metadata": {
    "collapsed": true
   },
   "outputs": [],
   "source": [
    "%matplotlib inline\n",
    "from __future__ import division\n",
    "import matplotlib.pyplot as plt\n",
    "import pandas as pd\n",
    "import numpy as np\n",
    "import random\n",
    "from scipy.sparse.linalg import svds\n",
    "from IPython.display import display"
   ]
  },
  {
   "cell_type": "markdown",
   "metadata": {},
   "source": [
    "## Setup\n",
    "\n",
    "We have a matrix of films, such that each row is a vector holding the metadata for a film. Each film vector is organized as follows: [genre1, genre2, ..., genreN, quality], such that the first NUM_GENRES columns hold how aligned the film is with each genre, and the last column holds the film's quality, which dictates the mean rating for the film. The genre alignment values are all between 0 and 1, and sum to 1.\n",
    "\n",
    "The user matrix is organized analogously, with each row holding the metdata for the user, in the format: [pref1, pref2, ..., prefN, behavior]. The NUM_GENRES columns hold how much a user likes a particular genre, and the last column holds the user's behavior, which determines how the user will react to recommended videos. Similarly, the preference values are all between 0 and 1, and sum to 1."
   ]
  },
  {
   "cell_type": "code",
   "execution_count": 2,
   "metadata": {
    "collapsed": true
   },
   "outputs": [],
   "source": [
    "########################################\n",
    "#          SIMULATOR SETTINGS\n",
    "########################################\n",
    "\n",
    "# Total number of films and users\n",
    "NUM_USERS = 2000 # 6040\n",
    "NUM_FILMS = 1300 # 3883\n",
    "\n",
    "# Total number of film genres\n",
    "NUM_GENRES = 2\n",
    "\n",
    "# Maximum film rating (e.g. 5 uses the rating scale 0-5)\n",
    "MAX_RATING = 5\n",
    "\n",
    "# Higher values = stronger user genre preferences\n",
    "# Use higher values with higher NUM_GENRES values\n",
    "# Reasonable values are probably b/w 0.1 and 10\n",
    "USER_POLARIZATION_STRENGTH = 0.5\n",
    "FILM_POLARIZATION_STRENGTH = 0.5\n",
    "\n",
    "# A film is considered \"polarized\" if its highest\n",
    "# film genre value is above this threshold\n",
    "POLARIZED_FILM_THRESHOLD = 0.7\n",
    "\n",
    "# Percentage of films users will initially watch\n",
    "INITIAL_VIEWING_RATE = 0.05\n",
    "\n",
    "# Whether to rescale the initial ratings such that\n",
    "# mean rating is equal the half the maximum rating\n",
    "RESCALE_TO_MIDLINE = True\n",
    "\n",
    "# If True, users will always watch all recommended films\n",
    "ALWAYS_WATCH = False\n",
    "\n",
    "# A user's \"behavior\" determines how a user chooses\n",
    "# which video(s) to watch at each simulation step\n",
    "# NAMES is a one-word description of each behavior,\n",
    "# and DISTRIBUTION determines the ratio of behaviors\n",
    "# among the created users\n",
    "BEHAVIOR_PROP_IDX = NUM_GENRES\n",
    "BEHAVIOR_NAMES = ['follower', 'stubborn', 'mixed']\n",
    "BEHAVIOR_DISTRIBUTION = [1, 1, 1]\n",
    "\n",
    "# If False, all users watch recommended films with\n",
    "# probability equal to their compatibility with it\n",
    "USE_BEHAVIOR = False\n",
    "\n",
    "# A film's \"quality\" determines the mean rating\n",
    "# of the film, and is used as the baseline which\n",
    "# user preferences modify to get the final rating\n",
    "QUALITY_PROP_IDX = NUM_GENRES\n",
    "QUALITY_MIN = MAX_RATING / 4.0\n",
    "QUALITY_MAX = 3 * MAX_RATING / 4.0\n",
    "\n",
    "# If False, the average film rating is used as the\n",
    "# baseline when calculating new ratings instead\n",
    "USE_QUALITY = True\n",
    "\n",
    "# Specify the recommender system to use\n",
    "AVAILABLE_RECOMMENDER_MODELS = ['svd', 'popularity', 'random']\n",
    "RECOMMENDER_MODEL = 'svd'\n",
    "\n",
    "# Number of films to recommend at each step\n",
    "NUM_RECS = 5\n",
    "\n",
    "# The number of singular values to compute with SVD\n",
    "# Larger values give more accurate predictions, but\n",
    "# take longer to compute (and give longer simulator\n",
    "# convergence times)\n",
    "# Reasonable values are probably b/w 10 and 50\n",
    "K_VAL = 200\n",
    "\n",
    "# Determines how much a user's compatibility with \n",
    "# the film affects the final rating. The final\n",
    "# rating given will be mean_film_rating + x,\n",
    "# where -CRS <= x <= CRS\n",
    "COMPATIBILITY_RATING_STRENGTH = 3\n",
    "\n",
    "# Specify the anti-filter-bubble system to use\n",
    "AVAILABLE_ANTI_BUBBLE_SYSTEMS = ['none', 'random', 'discovery']\n",
    "ANTI_BUBBLE_SYSTEM = 'discovery'\n",
    "\n",
    "# Determines how much randomness the recommender will\n",
    "# introduce in order to prevent filter bubbles. The\n",
    "# final recommendation strength will be the predicted\n",
    "# rating + x, where -ABS <= x <= ABS\n",
    "RECOMMENDER_RANDOMNESS = 1.0\n",
    "\n",
    "# User Discovery Factor. 0 means that user does not want \n",
    "# to be recommended items of the opposing view.\n",
    "# 1 means that user really wants to be recommended \n",
    "# items of the opposing view\n",
    "# If an item's rating is greater than or equal to 4,\n",
    "# subtract USER_DISCOVERY_FACTOR * mean_rating from that rating\n",
    "# If an item's rating is less than or equal to 2, subtract\n",
    "# add USER_DISCOVERY_FACTOR * mean_rating to that rating\n",
    "USER_DISCOVERY_FACTOR = 1\n",
    "\n",
    "# Probability of a follower watching a recommended film\n",
    "FOLLOWER_VIEW_RATE = 0.5\n",
    "\n",
    "# Minimum compatibility a stubborn user must\n",
    "# have with a film in order to watch it\n",
    "STUBBORN_COMPATIBILITY_THRESHOLD = 0.8\n",
    "\n",
    "# How much watched films are penalized over unwatched\n",
    "# ones when making recommendations, and when the users\n",
    "# are choosing which videos to watch respectively\n",
    "# (Effect is multiplicative: should be b/w 0 and 1)\n",
    "REWATCH_RECOMMENDATION_PENALTY = 1.0\n",
    "REWATCH_VIEW_PENALTY = 1.0\n",
    "\n",
    "# The maximum steps to run the simulation for\n",
    "MAX_STEPS = 100\n",
    "\n",
    "# The maximum number of distribution changes allowed\n",
    "# within a simulator step before its considered \"converged\"\n",
    "CHANGE_THRESHOLD = 0\n",
    "\n",
    "# Validate and standardize the behavior configuration parameters\n",
    "if len(BEHAVIOR_NAMES) != len(BEHAVIOR_DISTRIBUTION):\n",
    "    raise ValueError(\"BEHAVIOR_NAMES and BEHAVIOR_DISTRIBUTION \"\n",
    "            \"must have the same length.\")\n",
    "BEHAVIOR_NAMES = np.array(BEHAVIOR_NAMES)\n",
    "BEHAVIOR_DISTRIBUTION = np.array(BEHAVIOR_DISTRIBUTION) / float(sum(BEHAVIOR_DISTRIBUTION))\n",
    "\n",
    "# Validate the model and ABS configuration parameters\n",
    "if RECOMMENDER_MODEL not in AVAILABLE_RECOMMENDER_MODELS:\n",
    "    raise ValueError(\"RECOMMENDER_MODEL must be a value in AVAILABLE_RECOMMENDER_MODELS.\")\n",
    "if ANTI_BUBBLE_SYSTEM not in AVAILABLE_ANTI_BUBBLE_SYSTEMS:\n",
    "    raise ValueError(\"ANTI_BUBBLE_SYSTEM must be a value in AVAILABLE_ANTI_BUBBLE_SYSTEMS.\")"
   ]
  },
  {
   "cell_type": "code",
   "execution_count": 3,
   "metadata": {
    "collapsed": true
   },
   "outputs": [],
   "source": [
    "def generate_users(number_of_users):\n",
    "    \"\"\"\n",
    "    Generate a user matrix, where each row of the\n",
    "    matrix stores the properties of a user:\n",
    "    [genre1_preference, ..., genreN_preference, behavior]\n",
    "    \n",
    "    The genre preferences of each user sum to 1.\n",
    "    behavior will be an integer b/w 0 and num_behaviors\n",
    "    \"\"\"\n",
    "    results = []\n",
    "    for i in range(number_of_users):\n",
    "        user_prefs = np.random.dirichlet(\n",
    "                np.ones(NUM_GENRES)/USER_POLARIZATION_STRENGTH, size=1)[0]\n",
    "        behavior = np.random.choice(np.arange(len(BEHAVIOR_NAMES)),\n",
    "                p=BEHAVIOR_DISTRIBUTION)\n",
    "        user_props = np.append(user_prefs, behavior)\n",
    "        results.append(user_props)\n",
    "    return np.array(results)\n",
    "\n",
    "def generate_films(number_of_films):\n",
    "    \"\"\"\n",
    "    Generate a film matrix, where each row of the\n",
    "    matrix represents the properties of a film:\n",
    "    [genre1, ..., genreN, quality]\n",
    "    \n",
    "    The genre values of each film sum to 1.\n",
    "    quality will be b/w QUALITY_MIN and QUALITY_MAX.\n",
    "    \"\"\"\n",
    "    results = []\n",
    "    for i in range(number_of_films):\n",
    "        film_genres = np.random.dirichlet(\n",
    "                np.ones(NUM_GENRES)/FILM_POLARIZATION_STRENGTH, size=1)[0]\n",
    "        quality = random.uniform(QUALITY_MIN, QUALITY_MAX)\n",
    "        film_props = np.append(film_genres, quality)\n",
    "        results.append(film_props)\n",
    "    return np.array(results)"
   ]
  },
  {
   "cell_type": "code",
   "execution_count": 4,
   "metadata": {
    "collapsed": true
   },
   "outputs": [],
   "source": [
    "def divide_film_users_cat(films_or_users):\n",
    "    \"\"\"\n",
    "    Given a film, [genre1, genre2], or a user, [genre1, genre2], and divide \n",
    "    the film or user into extreme genre1, mild genre1, neutral, mild genre2,\n",
    "    extreme genre 2.\n",
    "    Returns cat, which is the category each film belongs to.\n",
    "    Returns film_num, which is the number of films in each category.\n",
    "    -2 -> radical genre 1\n",
    "    -1 -> mild genre 1\n",
    "    0 -> neutral\n",
    "    1 -> mild genre 2\n",
    "    2 -> radical genre 2\n",
    "    \"\"\"\n",
    "    cat = []\n",
    "    film_num = []\n",
    "    for film_or_user in films_or_users:\n",
    "        if film_or_user[0] > film_or_user[1]:\n",
    "            if abs(film_or_user[0] - film_or_user[1]) <= 0.1:\n",
    "                cat.append(0)\n",
    "            elif abs(film_or_user[0] - film_or_user[1]) > 0.1 and abs(film_or_user[0] - film_or_user[1]) <= 0.5: \n",
    "                cat.append(-1)\n",
    "            else:\n",
    "                cat.append(-2)\n",
    "        else:\n",
    "            if abs(film_or_user[0] - film_or_user[1]) <= 0.1:\n",
    "                cat.append(0)\n",
    "            elif abs(film_or_user[0] - film_or_user[1]) > 0.1 and abs(film_or_user[0] - film_or_user[1]) <= 0.5: \n",
    "                cat.append(1)\n",
    "            else:\n",
    "                cat.append(2)\n",
    "    extreme1 = np.sum((np.array(cat) == -2).astype(int))\n",
    "    mild1 = np.sum((np.array(cat) == -1).astype(int))\n",
    "    neutral = np.sum((np.array(cat) == 0).astype(int))\n",
    "    mild2 = np.sum((np.array(cat) == 1).astype(int))\n",
    "    extreme2 = np.sum((np.array(cat) == 2).astype(int))\n",
    "    film_num.append(extreme1)\n",
    "    film_num.append(mild1)\n",
    "    film_num.append(neutral)\n",
    "    film_num.append(mild2)\n",
    "    film_num.append(extreme2)\n",
    "    return cat, film_num          "
   ]
  },
  {
   "cell_type": "code",
   "execution_count": 5,
   "metadata": {
    "collapsed": true
   },
   "outputs": [],
   "source": [
    "def film_users_cat(film_or_user):\n",
    "    \"\"\"\n",
    "    Given a film, [genre1, genre2], or a user, [genre1, genre2], and divide \n",
    "    the film or user into extreme genre1, mild genre1, neutral, mild genre2,\n",
    "    extreme genre 2.\n",
    "    Return cat, which is the category each film or user belongs to.\n",
    "    -2 -> radical genre 1\n",
    "    -1 -> mild genre 1\n",
    "    0 -> neutral\n",
    "    1 -> mild genre 2\n",
    "    2 -> radical genre 2\n",
    "    \"\"\"\n",
    "    cat = 0\n",
    "    if film_or_user[0] > film_or_user[1]:\n",
    "        if abs(film_or_user[0] - film_or_user[1]) <= 0.1:\n",
    "            cat = 0\n",
    "        elif abs(film_or_user[0] - film_or_user[1]) > 0.1 and abs(film_or_user[0] - film_or_user[1]) <= 0.5: \n",
    "            cat = -1\n",
    "        else:\n",
    "            cat = -2 \n",
    "    else:\n",
    "        if abs(film_or_user[0] - film_or_user[1]) <= 0.1:\n",
    "            cat = 0\n",
    "        elif abs(film_or_user[0] - film_or_user[1]) > 0.1 and abs(film_or_user[0] - film_or_user[1]) <= 0.5: \n",
    "            cat = 1\n",
    "        else:\n",
    "            cat = 2\n",
    "    return cat"
   ]
  },
  {
   "cell_type": "code",
   "execution_count": 6,
   "metadata": {},
   "outputs": [
    {
     "data": {
      "text/plain": [
       "array([[0.69678687, 0.30321313, 0.        ],\n",
       "       [0.57810264, 0.42189736, 2.        ],\n",
       "       [0.84298226, 0.15701774, 2.        ],\n",
       "       ...,\n",
       "       [0.53405415, 0.46594585, 0.        ],\n",
       "       [0.43906583, 0.56093417, 1.        ],\n",
       "       [0.59259531, 0.40740469, 0.        ]])"
      ]
     },
     "metadata": {},
     "output_type": "display_data"
    },
    {
     "name": "stdout",
     "output_type": "stream",
     "text": [
      "(2000, 3)\n"
     ]
    },
    {
     "data": {
      "text/plain": [
       "array([[0.55479238, 0.44520762, 3.70833313],\n",
       "       [0.77754128, 0.22245872, 2.36850424],\n",
       "       [0.18137332, 0.81862668, 3.10602748],\n",
       "       ...,\n",
       "       [0.68995643, 0.31004357, 3.16468351],\n",
       "       [0.24660032, 0.75339968, 2.05099205],\n",
       "       [0.25623592, 0.74376408, 1.90189041]])"
      ]
     },
     "metadata": {},
     "output_type": "display_data"
    },
    {
     "name": "stdout",
     "output_type": "stream",
     "text": [
      "(1300, 3)\n"
     ]
    }
   ],
   "source": [
    "users = generate_users(NUM_USERS)\n",
    "films = generate_films(NUM_FILMS)\n",
    "\n",
    "display(users)\n",
    "print(users.shape)\n",
    "display(films)\n",
    "print(films.shape)"
   ]
  },
  {
   "cell_type": "code",
   "execution_count": 7,
   "metadata": {},
   "outputs": [
    {
     "data": {
      "image/png": "[encoded data removed]",
      "text/plain": [
       "<matplotlib.figure.Figure at 0x114cc8630>"
      ]
     },
     "metadata": {},
     "output_type": "display_data"
    },
    {
     "data": {
      "image/png": "[encoded data removed]",
      "text/plain": [
       "<matplotlib.figure.Figure at 0x1161f6f28>"
      ]
     },
     "metadata": {},
     "output_type": "display_data"
    }
   ],
   "source": [
    "CATEGORY_NAMES = [\"Radical 1\", \"Mild 1\", \"Neutral\", \"Mild 2\", \"Radical 2\"]\n",
    "\n",
    "def get_categories(users_or_films):\n",
    "    return [film_users_cat(x) for x in users_or_films]\n",
    "\n",
    "def get_categorical_distribution(categories):\n",
    "    results = []\n",
    "    for category in range(-2, 3):\n",
    "        num_of_category = len([x for x in categories if x == category])\n",
    "        results.append(num_of_category)\n",
    "    return results\n",
    "\n",
    "def plot_categorical_distribution(cat_distribution, title):\n",
    "    plt.bar(range(len(CATEGORY_NAMES)), cat_distribution)\n",
    "    plt.xticks(range(len(CATEGORY_NAMES)), CATEGORY_NAMES)\n",
    "    plt.title(title)\n",
    "    plt.show()\n",
    "\n",
    "# Get the categories and categorical distribution of the users and films\n",
    "user_categories = get_categories(users)\n",
    "film_categories = get_categories(films)\n",
    "user_cat_distribution = get_categorical_distribution(user_categories)\n",
    "film_cat_distribution = get_categorical_distribution(film_categories)\n",
    "\n",
    "# Plot the categorical distribution of the users andfilms\n",
    "plot_categorical_distribution(user_cat_distribution, \"User Distribution by Category\")\n",
    "plot_categorical_distribution(film_cat_distribution, \"Film Distribution by Category\")"
   ]
  },
  {
   "cell_type": "code",
   "execution_count": 8,
   "metadata": {},
   "outputs": [
    {
     "name": "stdout",
     "output_type": "stream",
     "text": [
      "Mean compatibility: 0.740228\n",
      "Max absolute compatibility: 0.999996\n"
     ]
    }
   ],
   "source": [
    "def get_user_film_compatibility(userID, filmID):\n",
    "    \"\"\"\n",
    "    Returns a value between 0 and 1 indicating how much\n",
    "    a user's preferences aligns with the film's genre(s).\n",
    "    \"\"\"\n",
    "    user_prefs = users[userID][:NUM_GENRES]\n",
    "    film_genres = films[filmID][:NUM_GENRES]\n",
    "    return 1 - (np.sum(np.abs(user_prefs - film_genres)) / NUM_GENRES)\n",
    "\n",
    "# Compute the compatabilities of a random sample of users\n",
    "# and films, so some stats can be calcuated on them\n",
    "compats = []\n",
    "sample_userIDs = random.sample(list(np.arange(NUM_USERS)), min(500, NUM_USERS))\n",
    "sample_filmIDs = random.sample(list(np.arange(NUM_FILMS)), min(500, NUM_FILMS))\n",
    "for userID in sample_userIDs:\n",
    "    for filmID in sample_filmIDs:\n",
    "        compats.append(get_user_film_compatibility(userID, filmID))\n",
    "\n",
    "mean_compatibility = 1.0 * sum(compats) / len(compats)\n",
    "max_abs_compatibility = max(max(compats), abs(min(compats)))\n",
    "\n",
    "print(\"Mean compatibility: %f\" % mean_compatibility)\n",
    "print(\"Max absolute compatibility: %f\" % max_abs_compatibility)"
   ]
  },
  {
   "cell_type": "code",
   "execution_count": 9,
   "metadata": {
    "collapsed": true
   },
   "outputs": [],
   "source": [
    "def get_user_film_rating(userID, filmID, actual_ratings=None, is_initial_rating=False):\n",
    "    \"\"\"\n",
    "    Returns a value between 0 and MAX_RATING indicating the\n",
    "    rating the user would give the film upon watching it.\n",
    "    \n",
    "    actual_ratings must be provided when USE_QUALITY and\n",
    "    is_initial_rating is False, so the current mean rating\n",
    "    of the film can be calculated.\n",
    "    \n",
    "    is_initial_rating should be set True when generating the\n",
    "    starting ratings for the film.\n",
    "    \"\"\"\n",
    "    compatibility = get_user_film_compatibility(userID, filmID)\n",
    "    \n",
    "    if USE_QUALITY:\n",
    "        base_rating = films[filmID][QUALITY_PROP_IDX]\n",
    "    else:\n",
    "        if is_initial_rating:\n",
    "            return round(MAX_RATING * compatibility)\n",
    "        else:\n",
    "            film_ratings = actual_ratings[:, filmID]\n",
    "            base_rating = np.mean(film_ratings[film_ratings.nonzero()])\n",
    "\n",
    "    # Convert compatibility to a value within [-CRS, +CRS]\n",
    "    compat_influence = ((compatibility - mean_compatibility)\n",
    "            / max_abs_compatibility) * COMPATIBILITY_RATING_STRENGTH\n",
    "    return max(min(round(base_rating + compat_influence), MAX_RATING), 0)\n",
    "\n",
    "def generate_initial_ratings(users, films, view_rate, rescale_to_midline=False):\n",
    "    \"\"\"\n",
    "    Generates a (num_films, num_users) rating matrix, where\n",
    "    each row represents the ratings that film has received\n",
    "    from all users.\n",
    "    \n",
    "    view_rate is the chance a user will view a given film.\n",
    "    \n",
    "    If rescale_to_midline is True, the ratings are scaled\n",
    "    such that mean of non-zero ratings is MAX_RATING / 2.\n",
    "    \"\"\"\n",
    "    results = []\n",
    "    for userID in range(users.shape[0]):\n",
    "        user_ratings = []\n",
    "        for filmID in range(films.shape[0]):\n",
    "            ran = random.uniform(0,1)\n",
    "            if (ran <= view_rate):\n",
    "                rating = get_user_film_rating(userID, filmID, is_initial_rating=True)\n",
    "                user_ratings.append(rating)\n",
    "            else:\n",
    "                user_ratings.append(0)\n",
    "        results.append(user_ratings)\n",
    "    results = np.array(results)\n",
    "    # Perform rescaling if necessary\n",
    "    if rescale_to_midline:\n",
    "        results = results * ((MAX_RATING / 2.0) / (results[results.nonzero()].mean()))\n",
    "        results = np.clip(np.round(results), 0, MAX_RATING)\n",
    "    return results"
   ]
  },
  {
   "cell_type": "code",
   "execution_count": 10,
   "metadata": {},
   "outputs": [
    {
     "data": {
      "text/plain": [
       "array([[0., 0., 0., ..., 0., 0., 0.],\n",
       "       [0., 0., 0., ..., 0., 0., 0.],\n",
       "       [0., 0., 0., ..., 0., 0., 0.],\n",
       "       ...,\n",
       "       [0., 0., 0., ..., 0., 0., 0.],\n",
       "       [0., 0., 0., ..., 0., 0., 0.],\n",
       "       [0., 0., 0., ..., 0., 0., 0.]])"
      ]
     },
     "metadata": {},
     "output_type": "display_data"
    },
    {
     "name": "stdout",
     "output_type": "stream",
     "text": [
      "(2000, 1300)\n"
     ]
    }
   ],
   "source": [
    "initial_ratings = generate_initial_ratings(users, films,\n",
    "        INITIAL_VIEWING_RATE, rescale_to_midline=RESCALE_TO_MIDLINE)\n",
    "\n",
    "display(initial_ratings)\n",
    "print(initial_ratings.shape)"
   ]
  },
  {
   "cell_type": "code",
   "execution_count": 11,
   "metadata": {},
   "outputs": [
    {
     "data": {
      "text/plain": [
       "array([[-0.,  0., -0., ...,  0., -1., -0.],\n",
       "       [ 0., -1., -0., ..., -0.,  1., -1.],\n",
       "       [-0., -0., -0., ..., -0.,  0.,  1.],\n",
       "       ...,\n",
       "       [-0.,  0., -0., ..., -0.,  0.,  1.],\n",
       "       [-0., -0.,  0., ...,  0., -0.,  0.],\n",
       "       [ 0., -0.,  0., ..., -0.,  0.,  1.]])"
      ]
     },
     "metadata": {},
     "output_type": "display_data"
    },
    {
     "name": "stdout",
     "output_type": "stream",
     "text": [
      "(2000, 1300)\n"
     ]
    }
   ],
   "source": [
    "def get_predicted_ratings(actual_ratings):\n",
    "    \"\"\"\n",
    "    Returns a (num_users, num_films) matrix containing\n",
    "    the predicted ratings each user would each film.\n",
    "    \"\"\"\n",
    "    ratings = actual_ratings\n",
    "    \n",
    "    # If specified, move polarized ratings closer to the median\n",
    "    # so users can discover content that disagrees with their prefs\n",
    "    if ANTI_BUBBLE_SYSTEM == 'discovery':\n",
    "        ratings = np.copy(actual_ratings)\n",
    "        mask1 = (ratings > 0) & (ratings <= 2)\n",
    "        mask2 = (ratings >= 4)\n",
    "        ratings = ratings.astype(float)\n",
    "        mean_value = np.sum(ratings) / float(np.count_nonzero(ratings))\n",
    "        ratings[mask1] = ratings[mask1] + USER_DISCOVERY_FACTOR * mean_value\n",
    "        ratings[mask2] = ratings[mask2] - USER_DISCOVERY_FACTOR * mean_value\n",
    "    \n",
    "    if RECOMMENDER_MODEL == 'svd':\n",
    "        # Only consider non-zero ratings when calculating the mean\n",
    "        masked_user_ratings = np.ma.masked_equal(ratings, 0)\n",
    "        user_ratings_mean = masked_user_ratings.mean(axis=1).data\n",
    "        # Calculate SVD values of demeaned ratings + estimate new ratings\n",
    "        R_demeaned = ratings - user_ratings_mean.reshape(-1, 1)\n",
    "        U, sigma, Vt = svds(R_demeaned, k=K_VAL)\n",
    "        sigma = np.diag(sigma)\n",
    "        predicted_ratings = np.round(np.dot(np.dot(U, sigma), Vt) + user_ratings_mean.reshape(-1, 1))\n",
    "        return predicted_ratings\n",
    "    \n",
    "    elif RECOMMENDER_MODEL == 'popularity':\n",
    "        # IMDB weighted ratings for popularity-based \n",
    "        # recommendation system: (v/(v+m) * R) + (m/(v+m) * C)\n",
    "        # v : number of ratings\n",
    "        # m : minimum votes required\n",
    "        # R : average ratings of film\n",
    "        # C : mean ratings of whole report\n",
    "        v = np.count_nonzero(ratings, axis=0)\n",
    "        popularity_ratings = pd.DataFrame(v)\n",
    "        m = popularity_ratings.quantile(0.90)\n",
    "        m = m.values[0]\n",
    "        R = pd.DataFrame(ratings).replace(0, np.nan)\n",
    "        R = R.mean(axis=0)\n",
    "        C = R.mean()\n",
    "        popularity_map = (v / (v + m) * R) + (m / (v + m) * C)\n",
    "        popularity_ratings = pd.DataFrame(ratings).replace(0, np.nan)\n",
    "        popularity_ratings = popularity_ratings.fillna(popularity_map)\n",
    "        return popularity_ratings.values\n",
    "        \n",
    "    elif RECOMMENDER_MODEL == 'random':\n",
    "        random_ratings = pd.DataFrame(ratings).replace(0, np.nan)\n",
    "        random_idx = random_ratings.isnull()\n",
    "        random_ratings[random_idx] = np.random.uniform(1, 5,\n",
    "                (users.shape[0], films.shape[0]))\n",
    "        return random_ratings.values\n",
    "\n",
    "example_predictions = get_predicted_ratings(initial_ratings)\n",
    "display(example_predictions)\n",
    "print(example_predictions.shape)"
   ]
  },
  {
   "cell_type": "code",
   "execution_count": 12,
   "metadata": {},
   "outputs": [
    {
     "name": "stdout",
     "output_type": "stream",
     "text": [
      "Example Film Recommendations: [698, 979, 1199, 489, 769]\n",
      "Example Distribution: [3, 2]\n"
     ]
    }
   ],
   "source": [
    "def get_recommendations(actual_ratings, predicted_ratings, userID, num_recommendations=NUM_RECS):\n",
    "    \"\"\"\n",
    "    Gets the top num_recommendations film recommendations for\n",
    "    the provided user, using the rating prediction matrix, and\n",
    "    returns a tuple containing the recommended film IDs, and\n",
    "    counts of the recommendations received of each film genre.\n",
    "    Returns (None, []) if no films can be recommended.\n",
    "    \"\"\"\n",
    "    # Get predicted user ratings + films that were already watched\n",
    "    predicted_user_ratings = predicted_ratings[userID]\n",
    "    watched_films = np.apply_along_axis(lambda x: x != 0, 0, actual_ratings[userID])\n",
    "    # If there are no films that can be recommended, return None\n",
    "    if np.sum(watched_films) == watched_films.shape[0]:\n",
    "        return (None, [])\n",
    "    # Penalize already watched films\n",
    "    watched_penalty = watched_films * REWATCH_RECOMMENDATION_PENALTY\n",
    "    watched_penalty[watched_films == 0] = 1.0\n",
    "    recommendation_matrix = predicted_user_ratings * watched_penalty\n",
    "    # Add some amount of randomness to the recommendations,\n",
    "    # according to how much we want to prevent filter bubbles\n",
    "    if ANTI_BUBBLE_SYSTEM == \"random\":\n",
    "        anti_bubble_matrix = (np.random.random(films.shape[0]) - 0.5) * \\\n",
    "                2.0 * RECOMMENDER_RANDOMNESS\n",
    "        recommendation_matrix += anti_bubble_matrix\n",
    "    # Get the film recommendations + the genre distribution\n",
    "    recommended_filmIDs = np.argsort(recommendation_matrix)\\\n",
    "            [-num_recommendations:].tolist()\n",
    "    film_recs = films[recommended_filmIDs, :]\n",
    "    genre_counts = [int(round(sum(film_recs[:, genre_idx])))\n",
    "            for genre_idx in range(NUM_GENRES)]\n",
    "    return (recommended_filmIDs, genre_counts)\n",
    "\n",
    "example_recs = get_recommendations(initial_ratings, example_predictions, 0)\n",
    "print(\"Example Film Recommendations: \" + str(example_recs[0]))\n",
    "print(\"Example Distribution: \" + str(example_recs[1]))"
   ]
  },
  {
   "cell_type": "code",
   "execution_count": 13,
   "metadata": {
    "collapsed": true
   },
   "outputs": [],
   "source": [
    "def give_recommendation(userID, filmID, actual_ratings):\n",
    "    \"\"\"\n",
    "    Actually gives a film recommendation to a user, and\n",
    "    determines whether the user will watch it, based on\n",
    "    their behavior, and returns the rating if so.\n",
    "    Returns None if the user does not watch the film.\n",
    "    \"\"\"\n",
    "    behavior_name = BEHAVIOR_NAMES[int(users[userID][BEHAVIOR_PROP_IDX])]\n",
    "    compatibility = get_user_film_compatibility(userID, filmID)\n",
    "    ran = random.uniform(0, 1)\n",
    "    \n",
    "    # Follower: watches any of the recommended films with equal weight \n",
    "    if behavior_name == \"follower\":\n",
    "        does_watch = ran <= FOLLOWER_VIEW_RATE\n",
    "    # Mixed: watches a recommended video with probability\n",
    "    # equal to their compatability with that film\n",
    "    elif behavior_name == \"mixed\":\n",
    "        does_watch = ran <= compatibility\n",
    "    # Stubborn: only watches videos above a certain compatibility threshold\n",
    "    elif behavior_name == \"stubborn\":\n",
    "        does_watch = compatibility <= STUBBORN_COMPATIBILITY_THRESHOLD\n",
    "    else:\n",
    "        raise ValueError(\"Programmer Error: Unexpected behavior value '%d'\" % behavior)\n",
    "    \n",
    "    # If the user would be rewatching the film, change their\n",
    "    # mind with some probability, according to the rewatch penalty\n",
    "    if does_watch and actual_ratings[userID][filmID] != 0:\n",
    "        ran2 = random.uniform(0, 1)\n",
    "        does_watch = ran2 <= REWATCH_VIEW_PENALTY\n",
    "        \n",
    "    if does_watch:\n",
    "        return get_user_film_rating(userID, filmID, actual_ratings)\n",
    "    else:\n",
    "        return None"
   ]
  },
  {
   "cell_type": "markdown",
   "metadata": {},
   "source": [
    "## Run Simulator"
   ]
  },
  {
   "cell_type": "code",
   "execution_count": 14,
   "metadata": {},
   "outputs": [
    {
     "data": {
      "text/plain": [
       "[[3, 2],\n",
       " [3, 2],\n",
       " [3, 2],\n",
       " [3, 2],\n",
       " [2, 3],\n",
       " [2, 3],\n",
       " [3, 2],\n",
       " [2, 3],\n",
       " [2, 3],\n",
       " [3, 2]]"
      ]
     },
     "metadata": {},
     "output_type": "display_data"
    }
   ],
   "source": [
    "initial_predictions = get_predicted_ratings(initial_ratings)\n",
    "\n",
    "# A (num_users, num_genres) matrix where each row\n",
    "# is the number of recommendations that user has\n",
    "# received of each film genre\n",
    "initial_distribution_matrix = []\n",
    "\n",
    "# Get the initial recommendation genre distribution\n",
    "for userID in range(users.shape[0]):\n",
    "    (recommended_filmIDs, type_counts) = get_recommendations(initial_ratings, initial_predictions, userID)\n",
    "    initial_distribution_matrix.append(type_counts)\n",
    "\n",
    "display(initial_distribution_matrix[:10])"
   ]
  },
  {
   "cell_type": "code",
   "execution_count": 15,
   "metadata": {
    "collapsed": true
   },
   "outputs": [],
   "source": [
    "def step_simulation(actual_ratings, predicted_ratings, rec_genre_counts,\n",
    "                    prev_user_satisfaction_vector):\n",
    "    \"\"\"\n",
    "    Runs one step of the simulation:\n",
    "    \n",
    "    Gives new recommendations to each user, and simulates them\n",
    "    viewing + rating a random selection of them.\n",
    "    \n",
    "    Returns the new rating matrix, the new distribution matrix of\n",
    "    recommended film genres, the # of changes in this matrix, a\n",
    "    vector of all recommended film IDs, the user satisfaction\n",
    "    vector, and the filter bubble measurement vectors.\n",
    "    \"\"\"\n",
    "    new_ratings = actual_ratings.copy()\n",
    "    new_distribution_matrix = []\n",
    "    num_distribution_changes = 0\n",
    "    all_recommended_filmIDs = np.zeros([users.shape[0], NUM_RECS])\n",
    "    user_satisfaction_vector = np.zeros([users.shape[0]])\n",
    "    ideological_isolation_vector = np.zeros([users.shape[0]])\n",
    "    categorical_disparity_vector = np.zeros([users.shape[0]])\n",
    "    \n",
    "    for userID in range(users.shape[0]):\n",
    "        user = users[userID]\n",
    "        (recommended_filmIDs, new_genre_counts) = \\\n",
    "                get_recommendations(new_ratings, predicted_ratings, userID)\n",
    "        if recommended_filmIDs is None:\n",
    "            raise ValueError(\"Ran out of films.\")\n",
    "        new_distribution_matrix.append(new_genre_counts)\n",
    "        all_recommended_filmIDs[userID] = recommended_filmIDs\n",
    "        \n",
    "        # Check for changes in the user's recommendation distribution\n",
    "        if (new_genre_counts[0] != rec_genre_counts[userID][0]) or \\\n",
    "                (new_genre_counts[1] != rec_genre_counts[userID][1]):\n",
    "            num_distribution_changes += 1\n",
    "        \n",
    "        # Determine whether the user will watch each\n",
    "        # recommended film, and assign a rating if so\n",
    "        user_ratings = []\n",
    "        for i, filmID in enumerate(recommended_filmIDs):\n",
    "            rating = None\n",
    "            if ALWAYS_WATCH:\n",
    "                rating = get_user_film_rating(userID, filmID, actual_ratings)\n",
    "            elif USE_BEHAVIOR:\n",
    "                rating = give_recommendation(userID, filmID, actual_ratings)\n",
    "            else:\n",
    "                compatibility = get_user_film_compatibility(userID, filmID)\n",
    "                has_watched = actual_ratings[userID][filmID] != 0\n",
    "                ran = random.uniform(0,1)\n",
    "                if ran <= compatibility * (REWATCH_VIEW_PENALTY if has_watched else 1.0):\n",
    "                    rating = get_user_film_rating(userID, filmID, actual_ratings)\n",
    "            if rating is not None:\n",
    "                new_ratings[userID, filmID] = rating\n",
    "                user_ratings.append(rating)\n",
    "        \n",
    "        # Determine the user's satisfaction with this step's recommendations\n",
    "        # If the user did not watch any videos, use the previous satisfaction\n",
    "        user_satisfaction_vector[userID] = np.mean(user_ratings) \\\n",
    "                if len(user_ratings) > 0 else prev_user_satisfaction_vector[userID]\n",
    "        \n",
    "        # Determine the filter bubble meaurement vectors with this step's recommendations\n",
    "        ideological_isolation_vector[userID] = np.mean([1 - (np.sum(np.abs(\n",
    "                users[userID][:NUM_GENRES] - films[filmID][:NUM_GENRES])))\n",
    "                for filmID in recommended_filmIDs])\n",
    "        categorical_disparity_vector[userID] = np.std(get_categorical_distribution(\n",
    "                [film_categories[filmID] for filmID in recommended_filmIDs])) / 2.0\n",
    "    \n",
    "    return (new_ratings, new_distribution_matrix, num_distribution_changes,\n",
    "            all_recommended_filmIDs, user_satisfaction_vector,\n",
    "            ideological_isolation_vector, categorical_disparity_vector)"
   ]
  },
  {
   "cell_type": "code",
   "execution_count": 16,
   "metadata": {},
   "outputs": [
    {
     "name": "stdout",
     "output_type": "stream",
     "text": [
      "Step #0: Num Changes = 0\n",
      "Step #1: Num Changes = 535\n",
      "Step #2: Num Changes = 463\n",
      "Step #3: Num Changes = 522\n",
      "Step #4: Num Changes = 502\n",
      "Step #5: Num Changes = 489\n",
      "Step #6: Num Changes = 512\n",
      "Step #7: Num Changes = 507\n",
      "Convergence!\n"
     ]
    }
   ],
   "source": [
    "ratings = initial_ratings.copy()\n",
    "predictions = initial_predictions.copy()\n",
    "rec_distribution = list(initial_distribution_matrix)\n",
    "user_satisfaction = np.zeros(users.shape[0])\n",
    "num_changes_over_time = []\n",
    "recommended_filmIDs_over_time = []\n",
    "user_satisfaction_over_time = []\n",
    "ideological_isolation_over_time = []\n",
    "categorical_disparity_over_time = []\n",
    "\n",
    "for step in range(MAX_STEPS):\n",
    "    predictions = get_predicted_ratings(ratings)\n",
    "    ratings, rec_distribution, num_changes, recommended_filmIDs, \\\n",
    "            user_satisfaction, ideological_isolation, categorical_disparity = \\\n",
    "            step_simulation(ratings, predictions, rec_distribution, user_satisfaction)\n",
    "    num_changes_over_time.append(num_changes)\n",
    "    recommended_filmIDs_over_time.append(recommended_filmIDs)\n",
    "    user_satisfaction_over_time.append(user_satisfaction)\n",
    "    ideological_isolation_over_time.append(ideological_isolation)\n",
    "    categorical_disparity_over_time.append(categorical_disparity)\n",
    "    if step > 0 and num_changes <= CHANGE_THRESHOLD:\n",
    "        print(\"Convergence!\")\n",
    "        break\n",
    "    print(\"Step #%d: Num Changes = %d\" % (step, num_changes))\n",
    "    if step == MAX_STEPS-1:\n",
    "        print(\"Max simulation steps reached.\")"
   ]
  },
  {
   "cell_type": "code",
   "execution_count": 17,
   "metadata": {},
   "outputs": [
    {
     "data": {
      "image/png": "[encoded data removed]",
      "text/plain": [
       "<matplotlib.figure.Figure at 0x1162eeba8>"
      ]
     },
     "metadata": {},
     "output_type": "display_data"
    }
   ],
   "source": [
    "# Plot the recommendation distribution changes over time\n",
    "plt.plot(num_changes_over_time)\n",
    "plt.xlabel(\"Step\")\n",
    "plt.ylabel(\"# Distribution Changes\")\n",
    "plt.show()"
   ]
  },
  {
   "cell_type": "code",
   "execution_count": 18,
   "metadata": {},
   "outputs": [
    {
     "data": {
      "image/png": "[encoded data removed]",
      "text/plain": [
       "<matplotlib.figure.Figure at 0x116746ba8>"
      ]
     },
     "metadata": {},
     "output_type": "display_data"
    }
   ],
   "source": [
    "def plot_filter_bubble(final_rec):\n",
    "    radical1 = np.int_([0,0,0,0,0])\n",
    "    mild1 = np.int_([0,0,0,0,0])\n",
    "    neutral = np.int_([0,0,0,0,0])\n",
    "    mild2 = np.int_([0,0,0,0,0])\n",
    "    radical2 = np.int_([0,0,0,0,0])\n",
    "    for i in range(0,final_rec.shape[0]):\n",
    "        user = users[i]\n",
    "        curr_rec = final_rec[i]\n",
    "        rec_films = films[curr_rec]\n",
    "        user_cat = film_users_cat(user)\n",
    "        _,dist = divide_film_users_cat(rec_films)\n",
    "        if user_cat == -2:\n",
    "            radical1 += dist\n",
    "        elif user_cat == -1:\n",
    "            mild1 += dist\n",
    "        elif user_cat == 0:\n",
    "            neutral += dist\n",
    "        elif user_cat == 1:\n",
    "            mild2 += dist\n",
    "        else:\n",
    "            radical2 += dist\n",
    "    N = 5\n",
    "\n",
    "    radical1_film = np.int_([0,0,0,0,0])\n",
    "    mild1_film = np.int_([0,0,0,0,0])\n",
    "    neutral_film = np.int_([0,0,0,0,0])\n",
    "    mild2_film = np.int_([0,0,0,0,0])\n",
    "    radical2_film = np.int_([0,0,0,0,0])\n",
    "\n",
    "    radical1_film[0] = radical1[0]\n",
    "    radical1_film[1] = mild1[0]\n",
    "    radical1_film[2] = neutral[0]\n",
    "    radical1_film[3] = mild2[0]\n",
    "    radical1_film[4] = radical2[0]\n",
    "\n",
    "    mild1_film[0] = radical1[1]\n",
    "    mild1_film[1] = mild1[1]\n",
    "    mild1_film[2] = neutral[1]\n",
    "    mild1_film[3] = mild2[1]\n",
    "    mild1_film[4] = radical2[1]\n",
    "\n",
    "    neutral_film[0] = radical1[2]\n",
    "    neutral_film[1] = mild1[2]\n",
    "    neutral_film[2] = neutral[2]\n",
    "    neutral_film[3] = mild2[2]\n",
    "    neutral_film[4] = radical2[2]\n",
    "\n",
    "    mild2_film[0] = radical1[3]\n",
    "    mild2_film[1] = mild1[3]\n",
    "    mild2_film[2] = neutral[3]\n",
    "    mild2_film[3] = mild2[3]\n",
    "    mild2_film[4] = radical2[3]\n",
    "\n",
    "    radical2_film[0] = radical1[4]\n",
    "    radical2_film[1] = mild1[4]\n",
    "    radical2_film[2] = neutral[4]\n",
    "    radical2_film[3] = mild2[4]\n",
    "    radical2_film[4] = radical2[4]\n",
    "\n",
    "    ind = np.arange(N)  # the x locations for the groups\n",
    "    width = 0.16        # the width of the bars\n",
    "    fig, ax = plt.subplots()\n",
    "    rects1 = ax.bar(ind, radical1_film, width, color='r')\n",
    "    rects2 = ax.bar(ind + width, mild1_film, width, color='y')\n",
    "    rects3 = ax.bar(ind + 2 * width, neutral_film, width, color='b')\n",
    "    rects4 = ax.bar(ind + 3 * width, mild2_film, width, color='g')\n",
    "    rects5 = ax.bar(ind + 4 * width, radical2_film, width, color='c')\n",
    "\n",
    "    # add some text for labels, title and axes ticks\n",
    "    ax.set_ylabel('Number of Films Recommended')\n",
    "    ax.set_xlabel('Users Grouped by Opinion')\n",
    "    ax.set_title('Different kinds of films received by different kinds of user')\n",
    "    ax.set_xticks(ind + width * 2)\n",
    "    ax.set_xticklabels(('Radical \\n Type1 \\n User', 'Mild \\n Type1 \\n User', 'Neutral \\n User', 'Mild \\n Type2 \\n User', 'Radical \\n Type2 \\n User'))\n",
    "    ax.legend((rects1[0], rects2[0], rects3[0], rects4[0],rects5[0]), ('Radical1 Film', 'Mild1 Film', 'Neutral Film',\n",
    "                                                                      'Mild2 Film', 'Radical2 Film'))\n",
    "\n",
    "rec = np.int_(recommended_filmIDs_over_time)[-1]\n",
    "plot_filter_bubble(rec)"
   ]
  },
  {
   "cell_type": "code",
   "execution_count": 19,
   "metadata": {},
   "outputs": [
    {
     "data": {
      "image/png": "[encoded data removed]",
      "text/plain": [
       "<matplotlib.figure.Figure at 0x1162de320>"
      ]
     },
     "metadata": {},
     "output_type": "display_data"
    }
   ],
   "source": [
    "# Plot the average user satisfaction over time\n",
    "avg_user_satisfaction_over_time = [np.mean(x) for x in user_satisfaction_over_time]\n",
    "plt.plot(avg_user_satisfaction_over_time)\n",
    "plt.xlabel(\"Step\")\n",
    "plt.ylabel(\"Average User Satisfaction\")\n",
    "plt.show()"
   ]
  },
  {
   "cell_type": "code",
   "execution_count": 20,
   "metadata": {},
   "outputs": [
    {
     "data": {
      "image/png": "[encoded data removed]",
      "text/plain": [
       "<matplotlib.figure.Figure at 0x1162eea90>"
      ]
     },
     "metadata": {},
     "output_type": "display_data"
    }
   ],
   "source": [
    "# Plot the satisfaction over time for each user group\n",
    "for cat in range(-2, 3):\n",
    "    group_satisfaction_over_time = [\n",
    "        np.mean([x for i,x in enumerate(user_satisfaction) if user_categories[i] == cat])\n",
    "        for user_satisfaction in user_satisfaction_over_time\n",
    "    ]\n",
    "    label = [\"Radical Type 1\", \"Mild Type 1\", \"Neutral\", \"Mild Type 2\", \"Radical Type 2\"][cat+2]\n",
    "    plt.plot(group_satisfaction_over_time, label=label)\n",
    "plt.xlabel(\"Step\")\n",
    "plt.ylabel(\"Average Group Satisfaction\")\n",
    "plt.legend()\n",
    "plt.show()"
   ]
  },
  {
   "cell_type": "code",
   "execution_count": 21,
   "metadata": {},
   "outputs": [
    {
     "data": {
      "image/png": "[encoded data removed]",
      "text/plain": [
       "<matplotlib.figure.Figure at 0x116893860>"
      ]
     },
     "metadata": {},
     "output_type": "display_data"
    }
   ],
   "source": [
    "# Plot the average ideological isolation over time\n",
    "avg_ideological_isolation_over_time = [np.mean(x) for x in ideological_isolation_over_time]\n",
    "plt.plot(avg_ideological_isolation_over_time)\n",
    "plt.xlabel(\"Step\")\n",
    "plt.ylabel(\"Average Ideological Isolation\")\n",
    "plt.show()"
   ]
  },
  {
   "cell_type": "code",
   "execution_count": 22,
   "metadata": {},
   "outputs": [
    {
     "data": {
      "image/png": "[encoded data removed]",
      "text/plain": [
       "<matplotlib.figure.Figure at 0x1518fec390>"
      ]
     },
     "metadata": {},
     "output_type": "display_data"
    }
   ],
   "source": [
    "# Plot the average categorical disparity over time\n",
    "avg_categorical_disparity_over_time = [np.mean(x) for x in categorical_disparity_over_time]\n",
    "plt.plot(avg_categorical_disparity_over_time)\n",
    "plt.xlabel(\"Step\")\n",
    "plt.ylabel(\"Average Categorical Disparity\")\n",
    "plt.show()"
   ]
  },
  {
   "cell_type": "code",
   "execution_count": 23,
   "metadata": {},
   "outputs": [
    {
     "name": "stdout",
     "output_type": "stream",
     "text": [
      "(9, 10000)\n",
      "(9, 10000, 2)\n"
     ]
    }
   ],
   "source": [
    "# NUM_STEPS x (NUM_USERS * NUM_RECS) matrix of recommended filmIDs\n",
    "flattened_rec_filmIDs_over_time = np.array([x.flatten() for x in recommended_filmIDs_over_time])\n",
    "# NUM_STEPS x (NUM_USERS * NUM_RECS) x NUM_GENRES matrix of recommeneded film genre values\n",
    "flattened_rec_film_genres_over_time = np.array([\n",
    "    [films[int(filmID)][:NUM_GENRES] for filmID in step_filmIDs]\n",
    "    for step_filmIDs in flattened_rec_filmIDs_over_time\n",
    "])\n",
    "print(flattened_rec_filmIDs_over_time.shape)\n",
    "print(flattened_rec_film_genres_over_time.shape)"
   ]
  },
  {
   "cell_type": "code",
   "execution_count": 24,
   "metadata": {},
   "outputs": [
    {
     "data": {
      "image/png": "[encoded data removed]",
      "text/plain": [
       "<matplotlib.figure.Figure at 0x1167ab8d0>"
      ]
     },
     "metadata": {},
     "output_type": "display_data"
    }
   ],
   "source": [
    "def get_num_polarized_recs(step_rec_film_genres):\n",
    "    is_polarized = np.apply_along_axis(lambda x: max(x) > POLARIZED_FILM_THRESHOLD, 1, step_rec_film_genres)\n",
    "    return sum(is_polarized) / len(step_rec_film_genres)\n",
    "\n",
    "# Plot the percentage of recommended films that are polarized over time\n",
    "percent_polarized_recs_over_time = [get_num_polarized_recs(x) for x in flattened_rec_film_genres_over_time]\n",
    "plt.plot(percent_polarized_recs_over_time)\n",
    "plt.xlabel(\"Step\")\n",
    "plt.ylabel(\"% Polarized Film Recommendations\")\n",
    "plt.show()"
   ]
  },
  {
   "cell_type": "code",
   "execution_count": 25,
   "metadata": {},
   "outputs": [
    {
     "data": {
      "image/png": "[encoded data removed]",
      "text/plain": [
       "<matplotlib.figure.Figure at 0x15190d50f0>"
      ]
     },
     "metadata": {},
     "output_type": "display_data"
    }
   ],
   "source": [
    "def get_film_polarity(film_genre_vals):\n",
    "    max_val = max(film_genre_vals)\n",
    "    return 1.0 * sum([max_val - val for val in film_genre_vals]) / (len(film_genre_vals) - 1)\n",
    "\n",
    "def get_avg_film_polarity(step_rec_film_genres):\n",
    "    return np.mean(np.apply_along_axis(lambda x: get_film_polarity(x), 1, step_rec_film_genres), axis=0)\n",
    "\n",
    "# Plot the average polarity of the film recommendations over time\n",
    "# Polarity is defined here as the average difference between the\n",
    "# maximum genre value and the other genre values for a film\n",
    "avg_rec_film_polarity_over_time = [get_avg_film_polarity(x) for x in flattened_rec_film_genres_over_time]\n",
    "plt.plot(avg_rec_film_polarity_over_time)\n",
    "plt.xlabel(\"Step\")\n",
    "plt.ylabel(\"Average Recommended Film Polarity\")\n",
    "plt.show()"
   ]
  },
  {
   "cell_type": "code",
   "execution_count": 26,
   "metadata": {},
   "outputs": [
    {
     "data": {
      "image/png": "[encoded data removed]",
      "text/plain": [
       "<matplotlib.figure.Figure at 0x15190d52b0>"
      ]
     },
     "metadata": {},
     "output_type": "display_data"
    }
   ],
   "source": [
    "def get_avg_genre_values(step_rec_film_genres):\n",
    "    return np.mean(step_rec_film_genres, axis=0)\n",
    "\n",
    "# Plot the distribution of recommended film genres over time\n",
    "avg_genre_values_over_time = np.array([get_avg_genre_values(x) for x in flattened_rec_film_genres_over_time])\n",
    "for genre in range(NUM_GENRES):\n",
    "    plt.plot(avg_genre_values_over_time[:,genre], label=\"Genre %d\" % (genre+1))\n",
    "plt.xlabel(\"Step\")\n",
    "plt.ylabel(\"Average Recommended Film Genre Value\")\n",
    "plt.legend()\n",
    "plt.show()"
   ]
  },
  {
   "cell_type": "markdown",
   "metadata": {},
   "source": [
    "### Observations:\n",
    "Note that the higher the `COMPATIBILITY_RATING_STRENGTH`, the greater the difference between the average rating and the film quality, as expected. In general, the average rating should be higher than the film quality, because films will be recommended to users that the algorithm predicts will like it. An average rating that is lower the film quality suggests that the recommender made poor decisions when recommending that film to users.\n",
    "\n",
    "Also note that higher quality films have more ratings, as they are recommended to more people."
   ]
  },
  {
   "cell_type": "code",
   "execution_count": 27,
   "metadata": {},
   "outputs": [
    {
     "name": "stdout",
     "output_type": "stream",
     "text": [
      "Sample Film\n",
      "-----------\n",
      "\n",
      "Film Matrix: [0.55479238 0.44520762 3.70833313]\n",
      "Film Quality: 3.7083331331537943\n",
      "Average Rating: 3.786324786324786\n"
     ]
    },
    {
     "data": {
      "text/plain": [
       "array([4., 4., 4., 4., 4., 4., 4., 4., 4., 3., 4., 4., 4., 4., 4., 3., 3.,\n",
       "       4., 4., 4., 4., 4., 4., 4., 4., 4., 3., 3., 4., 4., 4., 4., 3., 4.,\n",
       "       3., 4., 4., 4., 4., 4., 4., 3., 4., 4., 3., 4., 4., 3., 4., 4., 4.,\n",
       "       4., 4., 4., 4., 4., 3., 3., 4., 4., 4., 3., 4., 4., 4., 3., 4., 4.,\n",
       "       3., 4., 4., 4., 4., 3., 4., 4., 3., 4., 4., 4., 4., 4., 4., 4., 4.,\n",
       "       4., 4., 4., 3., 3., 4., 4., 4., 4., 4., 4., 4., 4., 3., 4., 3., 3.,\n",
       "       3., 4., 4., 4., 4., 4., 3., 4., 4., 3., 4., 4., 4., 4., 4.])"
      ]
     },
     "metadata": {},
     "output_type": "display_data"
    },
    {
     "name": "stdout",
     "output_type": "stream",
     "text": [
      "\n",
      "\n",
      "Highest Rated Film\n",
      "------------------\n",
      "\n",
      "Film Matrix: [0.50792862 0.49207138 3.74389459]\n",
      "Film Quality: 3.743894589717719\n",
      "Average Rating: 3.9479166666666665\n"
     ]
    },
    {
     "data": {
      "text/plain": [
       "array([4., 4., 4., 4., 4., 4., 4., 4., 4., 4., 4., 4., 4., 4., 4., 4., 4.,\n",
       "       4., 4., 4., 4., 3., 4., 4., 4., 4., 4., 4., 4., 4., 4., 4., 4., 4.,\n",
       "       4., 4., 4., 3., 5., 4., 4., 4., 4., 4., 4., 4., 3., 4., 4., 4., 4.,\n",
       "       4., 4., 4., 4., 4., 4., 4., 4., 4., 4., 4., 4., 4., 4., 4., 4., 4.,\n",
       "       4., 4., 4., 4., 4., 4., 4., 4., 4., 4., 4., 4., 4., 3., 4., 4., 4.,\n",
       "       4., 4., 3., 4., 4., 3., 4., 4., 4., 4., 4.])"
      ]
     },
     "metadata": {},
     "output_type": "display_data"
    },
    {
     "name": "stdout",
     "output_type": "stream",
     "text": [
      "\n",
      "Lowest Rated Film\n",
      "-----------------\n",
      "\n",
      "Film Matrix: [0.04969175 0.95030825 1.27219432]\n",
      "Film Quality: 1.2721943230045536\n",
      "Average Rating: 1.1538461538461537\n"
     ]
    },
    {
     "data": {
      "text/plain": [
       "array([1., 1., 1., 1., 1., 2., 2., 1., 2., 2., 1., 1., 1., 1., 1., 2., 1.,\n",
       "       1., 1., 1., 1., 1., 1., 1., 1., 1., 1., 1., 2., 1., 1., 1., 1., 1.,\n",
       "       1., 1., 1., 1., 1., 2., 1., 1., 1., 1., 1., 1., 1., 1., 1., 1., 1.,\n",
       "       2.])"
      ]
     },
     "metadata": {},
     "output_type": "display_data"
    }
   ],
   "source": [
    "def display_ratings_stats(filmID):\n",
    "    film_quality = films[filmID][QUALITY_PROP_IDX]\n",
    "    film_ratings = ratings_T[filmID]\n",
    "    film_ratings = film_ratings[film_ratings.nonzero()]\n",
    "    print(\"Film Matrix: \" + str(films[filmID]))\n",
    "    print(\"Film Quality: \" + str(film_quality))\n",
    "    print(\"Average Rating: \" + str(film_ratings.mean()))\n",
    "    display(film_ratings)\n",
    "\n",
    "# Print some stats about the film ratings\n",
    "ratings_T = ratings.T\n",
    "mean_ratings = np.true_divide(ratings_T.sum(1),(ratings_T!=0).sum(1))\n",
    "print(\"Sample Film\\n-----------\\n\")\n",
    "display_ratings_stats(0)\n",
    "print(\"\\n\\nHighest Rated Film\\n------------------\\n\")\n",
    "display_ratings_stats(np.argmax(mean_ratings))\n",
    "print(\"\\nLowest Rated Film\\n-----------------\\n\")\n",
    "display_ratings_stats(np.argmin(mean_ratings))"
   ]
  },
  {
   "cell_type": "code",
   "execution_count": 28,
   "metadata": {},
   "outputs": [
    {
     "name": "stdout",
     "output_type": "stream",
     "text": [
      "Film Matrix: [0.50792862 0.49207138 3.74389459]\n",
      "Film Quality: 3.743894589717719\n",
      "Average Rating: 3.9479166666666665\n"
     ]
    },
    {
     "data": {
      "text/plain": [
       "array([4., 4., 4., 4., 4., 4., 4., 4., 4., 4., 4., 4., 4., 4., 4., 4., 4.,\n",
       "       4., 4., 4., 4., 3., 4., 4., 4., 4., 4., 4., 4., 4., 4., 4., 4., 4.,\n",
       "       4., 4., 4., 3., 5., 4., 4., 4., 4., 4., 4., 4., 3., 4., 4., 4., 4.,\n",
       "       4., 4., 4., 4., 4., 4., 4., 4., 4., 4., 4., 4., 4., 4., 4., 4., 4.,\n",
       "       4., 4., 4., 4., 4., 4., 4., 4., 4., 4., 4., 4., 4., 3., 4., 4., 4.,\n",
       "       4., 4., 3., 4., 4., 3., 4., 4., 4., 4., 4.])"
      ]
     },
     "metadata": {},
     "output_type": "display_data"
    },
    {
     "name": "stdout",
     "output_type": "stream",
     "text": [
      "Film Matrix: [0.5073032  0.4926968  3.71465102]\n",
      "Film Quality: 3.7146510249826745\n",
      "Average Rating: 3.8941176470588235\n"
     ]
    },
    {
     "data": {
      "text/plain": [
       "array([4., 4., 4., 4., 4., 4., 4., 4., 4., 4., 3., 4., 4., 4., 4., 4., 4.,\n",
       "       4., 4., 4., 3., 4., 3., 4., 4., 4., 3., 4., 4., 4., 4., 4., 4., 4.,\n",
       "       4., 3., 4., 4., 4., 4., 3., 4., 4., 4., 4., 4., 4., 4., 4., 4., 4.,\n",
       "       4., 4., 4., 4., 4., 4., 4., 4., 4., 4., 4., 4., 4., 4., 4., 4., 4.,\n",
       "       3., 4., 4., 3., 3., 4., 4., 4., 4., 4., 4., 4., 4., 4., 4., 4., 4.])"
      ]
     },
     "metadata": {},
     "output_type": "display_data"
    },
    {
     "name": "stdout",
     "output_type": "stream",
     "text": [
      "Film Matrix: [0.53925059 0.46074941 3.73533938]\n",
      "Film Quality: 3.7353393766032994\n",
      "Average Rating: 3.89010989010989\n"
     ]
    },
    {
     "data": {
      "text/plain": [
       "array([4., 4., 4., 4., 4., 4., 4., 4., 3., 4., 4., 4., 3., 4., 4., 4., 4.,\n",
       "       4., 4., 4., 4., 4., 4., 3., 4., 4., 4., 4., 4., 4., 3., 4., 4., 4.,\n",
       "       4., 4., 4., 4., 3., 4., 4., 4., 4., 4., 3., 4., 4., 4., 4., 4., 3.,\n",
       "       4., 4., 4., 4., 4., 4., 4., 4., 4., 4., 4., 4., 4., 4., 4., 3., 4.,\n",
       "       4., 4., 4., 4., 4., 4., 4., 4., 3., 4., 4., 4., 4., 4., 4., 4., 4.,\n",
       "       4., 4., 4., 4., 3., 4.])"
      ]
     },
     "metadata": {},
     "output_type": "display_data"
    },
    {
     "name": "stdout",
     "output_type": "stream",
     "text": [
      "Film Matrix: [0.52093645 0.47906355 3.72581594]\n",
      "Film Quality: 3.725815937208008\n",
      "Average Rating: 3.876190476190476\n"
     ]
    },
    {
     "data": {
      "text/plain": [
       "array([4., 4., 4., 4., 3., 4., 4., 4., 4., 3., 4., 3., 4., 4., 4., 4., 4.,\n",
       "       4., 4., 4., 3., 4., 4., 4., 4., 4., 4., 4., 4., 3., 3., 4., 4., 4.,\n",
       "       4., 4., 4., 4., 4., 4., 4., 4., 4., 4., 4., 3., 4., 4., 3., 4., 4.,\n",
       "       4., 4., 4., 4., 3., 4., 3., 4., 3., 4., 4., 4., 4., 4., 4., 4., 4.,\n",
       "       4., 4., 4., 4., 4., 4., 4., 4., 4., 4., 5., 4., 4., 4., 4., 4., 4.,\n",
       "       3., 4., 3., 4., 4., 4., 4., 4., 4., 4., 4., 4., 4., 4., 4., 3., 4.,\n",
       "       4., 4., 4.])"
      ]
     },
     "metadata": {},
     "output_type": "display_data"
    },
    {
     "name": "stdout",
     "output_type": "stream",
     "text": [
      "Film Matrix: [0.45504246 0.54495754 3.74813856]\n",
      "Film Quality: 3.74813855796116\n",
      "Average Rating: 3.8636363636363638\n"
     ]
    },
    {
     "data": {
      "text/plain": [
       "array([4., 4., 4., 4., 4., 4., 4., 4., 4., 4., 4., 4., 4., 4., 4., 4., 4.,\n",
       "       4., 4., 4., 4., 4., 4., 4., 3., 3., 3., 3., 4., 4., 4., 4., 5., 4.,\n",
       "       4., 4., 4., 4., 4., 4., 3., 4., 4., 4., 4., 4., 4., 4., 3., 4., 3.,\n",
       "       4., 4., 4., 3., 4., 4., 4., 4., 4., 4., 4., 4., 4., 4., 3., 4., 4.,\n",
       "       4., 4., 4., 4., 4., 3., 4., 4., 4., 4., 3., 3., 4., 4., 4., 4., 4.,\n",
       "       4., 4., 3.])"
      ]
     },
     "metadata": {},
     "output_type": "display_data"
    },
    {
     "name": "stdout",
     "output_type": "stream",
     "text": [
      "Film Matrix: [0.53022967 0.46977033 3.70021147]\n",
      "Film Quality: 3.7002114719014876\n",
      "Average Rating: 3.8526315789473684\n"
     ]
    },
    {
     "data": {
      "text/plain": [
       "array([4., 4., 4., 4., 3., 3., 4., 4., 4., 4., 4., 4., 4., 3., 4., 4., 4.,\n",
       "       4., 4., 4., 3., 4., 4., 4., 3., 4., 4., 4., 4., 4., 4., 4., 4., 4.,\n",
       "       4., 4., 4., 4., 4., 4., 4., 4., 4., 4., 4., 4., 4., 4., 4., 4., 4.,\n",
       "       4., 4., 4., 3., 4., 4., 4., 4., 3., 4., 4., 4., 4., 4., 4., 4., 4.,\n",
       "       4., 4., 4., 4., 4., 4., 4., 3., 3., 4., 4., 3., 4., 3., 4., 3., 4.,\n",
       "       4., 4., 4., 3., 3., 4., 4., 4., 4., 4.])"
      ]
     },
     "metadata": {},
     "output_type": "display_data"
    },
    {
     "name": "stdout",
     "output_type": "stream",
     "text": [
      "Film Matrix: [0.49596175 0.50403825 3.70831385]\n",
      "Film Quality: 3.708313846749967\n",
      "Average Rating: 3.8514851485148514\n"
     ]
    },
    {
     "data": {
      "text/plain": [
       "array([4., 4., 4., 4., 3., 4., 3., 4., 4., 4., 4., 4., 4., 4., 3., 3., 4.,\n",
       "       4., 3., 4., 4., 4., 4., 4., 4., 3., 4., 4., 3., 4., 4., 4., 4., 4.,\n",
       "       4., 4., 4., 4., 4., 4., 4., 4., 4., 4., 4., 4., 4., 3., 4., 4., 4.,\n",
       "       4., 4., 4., 4., 4., 4., 4., 4., 4., 4., 4., 4., 4., 4., 4., 4., 4.,\n",
       "       4., 3., 4., 4., 4., 4., 4., 3., 4., 4., 4., 4., 3., 3., 4., 4., 4.,\n",
       "       4., 4., 3., 4., 4., 4., 4., 4., 3., 4., 4., 4., 4., 4., 3., 4.])"
      ]
     },
     "metadata": {},
     "output_type": "display_data"
    },
    {
     "name": "stdout",
     "output_type": "stream",
     "text": [
      "Film Matrix: [0.52718083 0.47281917 3.70165399]\n",
      "Film Quality: 3.701653992163462\n",
      "Average Rating: 3.848101265822785\n"
     ]
    },
    {
     "data": {
      "text/plain": [
       "array([4., 4., 4., 4., 3., 3., 3., 4., 3., 3., 3., 4., 4., 4., 4., 4., 4.,\n",
       "       4., 4., 4., 4., 4., 4., 4., 4., 3., 4., 4., 4., 4., 4., 3., 4., 4.,\n",
       "       4., 4., 4., 4., 4., 4., 4., 4., 4., 4., 4., 4., 4., 3., 4., 4., 4.,\n",
       "       4., 4., 4., 4., 4., 4., 4., 4., 4., 4., 4., 3., 4., 4., 4., 4., 4.,\n",
       "       3., 4., 4., 4., 4., 4., 4., 4., 4., 3., 4.])"
      ]
     },
     "metadata": {},
     "output_type": "display_data"
    },
    {
     "name": "stdout",
     "output_type": "stream",
     "text": [
      "Film Matrix: [0.67626134 0.32373866 3.67978411]\n",
      "Film Quality: 3.679784111848918\n",
      "Average Rating: 3.836734693877551\n"
     ]
    },
    {
     "data": {
      "text/plain": [
       "array([4., 4., 4., 3., 4., 3., 4., 4., 4., 4., 4., 4., 4., 4., 4., 4., 4.,\n",
       "       3., 4., 4., 4., 4., 4., 4., 4., 4., 4., 4., 4., 4., 4., 4., 4., 4.,\n",
       "       3., 3., 4., 4., 4., 3., 4., 3., 4., 4., 4., 4., 4., 3., 4., 4., 4.,\n",
       "       4., 4., 4., 4., 4., 4., 4., 4., 4., 4., 4., 4., 3., 4., 4., 4., 4.,\n",
       "       3., 3., 4., 4., 3., 4., 4., 4., 3., 4., 4., 4., 3., 4., 4., 4., 4.,\n",
       "       4., 4., 4., 4., 4., 4., 4., 4., 3., 4., 3., 4., 4.])"
      ]
     },
     "metadata": {},
     "output_type": "display_data"
    },
    {
     "name": "stdout",
     "output_type": "stream",
     "text": [
      "Film Matrix: [0.51612591 0.48387409 3.71177124]\n",
      "Film Quality: 3.711771241418419\n",
      "Average Rating: 3.8118811881188117\n"
     ]
    },
    {
     "data": {
      "text/plain": [
       "array([4., 3., 3., 4., 3., 4., 4., 4., 4., 4., 4., 4., 4., 3., 3., 3., 4.,\n",
       "       4., 4., 4., 4., 4., 4., 4., 4., 4., 4., 4., 4., 4., 4., 4., 3., 4.,\n",
       "       4., 4., 4., 4., 4., 3., 4., 4., 4., 4., 4., 4., 4., 4., 4., 3., 4.,\n",
       "       4., 3., 3., 3., 4., 4., 4., 4., 4., 4., 4., 3., 4., 4., 4., 3., 4.,\n",
       "       4., 4., 3., 4., 4., 3., 4., 4., 4., 4., 4., 3., 4., 4., 4., 3., 4.,\n",
       "       4., 4., 4., 4., 4., 4., 4., 4., 4., 4., 4., 4., 4., 4., 3., 4.])"
      ]
     },
     "metadata": {},
     "output_type": "display_data"
    }
   ],
   "source": [
    "sorted_movies = np.argsort(-mean_ratings)\n",
    "for i in range(10):\n",
    "    display_ratings_stats(sorted_movies[i])"
   ]
  }
 ],
 "metadata": {
  "celltoolbar": "Raw Cell Format",
  "kernelspec": {
   "display_name": "Python 3",
   "language": "python",
   "name": "python3"
  },
  "language_info": {
   "codemirror_mode": {
    "name": "ipython",
    "version": 3
   },
   "file_extension": ".py",
   "mimetype": "text/x-python",
   "name": "python",
   "nbconvert_exporter": "python",
   "pygments_lexer": "ipython3",
   "version": "3.6.1"
  }
 },
 "nbformat": 4,
 "nbformat_minor": 2
}
