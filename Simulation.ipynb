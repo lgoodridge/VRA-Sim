{
 "cells": [
  {
   "cell_type": "markdown",
   "metadata": {},
   "source": [
    "## TODO:\n",
    " * Figure out why the current simulation won't converge\n",
    " * Introduce notion of \"film quality\": determines the base value of ratings\n",
    " * Implement different user behaviors in response to recommendations"
   ]
  },
  {
   "cell_type": "code",
   "execution_count": 1,
   "metadata": {},
   "outputs": [],
   "source": [
    "import pandas as pd\n",
    "import numpy as np\n",
    "import random\n",
    "from scipy.sparse.linalg import svds\n",
    "from IPython.display import display"
   ]
  },
  {
   "cell_type": "markdown",
   "metadata": {},
   "source": [
    "## Setup\n",
    "\n",
    "We have two types of movies, type 1 and type 2. Each movie has a vector assciotated with them, [x,y]. x and y are binary variables with possible values of 0 and 1. x = 1 means that the film is of type 1, and y = 1 means that the film is of type2.\n",
    "Each user also has a hidden vector associated with him or her, [b,c], where b and c are preferences for type 1 and type 2 films respectively. $0 \\leq b,c \\leq 1$ and $b + c = 1$. If a user's perference for a type of film is [a,b], then this user has $a$ chance of accepting recommendations of films of type 1 and $b$ chance of accepting recommendations of films of type 2. This user will rate a film of type 1: $a*5 $"
   ]
  },
  {
   "cell_type": "code",
   "execution_count": 2,
   "metadata": {},
   "outputs": [],
   "source": [
    "# Generate number_of_users of users. Return a number_of_users * 2 array, \n",
    "# where each row of the array indicates the user's movie preference.\n",
    "def generate_Users(number_of_users):\n",
    "    result = []\n",
    "    for i in range(number_of_users):\n",
    "        a = random.uniform(0,1)\n",
    "        result.append([a, 1 - a])\n",
    "    return(np.array(result))"
   ]
  },
  {
   "cell_type": "code",
   "execution_count": 3,
   "metadata": {},
   "outputs": [],
   "source": [
    "# Generate a film matrix, where each row of the matrix\n",
    "# represents the properties of a single film.\n",
    "def generate_Films(number_of_films):\n",
    "    result = []\n",
    "    for i in range(number_of_films):\n",
    "        a = random.randint(0,1)\n",
    "        result.append([a, 1-a])\n",
    "    return(np.array(result))"
   ]
  },
  {
   "cell_type": "code",
   "execution_count": 4,
   "metadata": {},
   "outputs": [],
   "source": [
    "# Generates num_films x num_users rating matrix, where\n",
    "# each row represents the ratings that film has received\n",
    "# from all users.\n",
    "# Percentage is the chance a user will view a given film\n",
    "def generate_initial_ratings(films, users, percentage):\n",
    "    num_films = films.shape[0]\n",
    "    film_list = films.tolist()\n",
    "    user_list = users.tolist()\n",
    "    results = []\n",
    "    for film in film_list:\n",
    "        ratings = []\n",
    "        for user in user_list:\n",
    "            ran = random.uniform(0,1)\n",
    "            if (ran <= percentage):\n",
    "                t = round(5.0 * (user[0]*film[0] + user[1]*film[1]) / 2)\n",
    "                if t == 0:\n",
    "                    t = round(5 * random.uniform(0.1,1))\n",
    "                ratings.append(t)\n",
    "            else:\n",
    "                ratings.append(0)\n",
    "        results.append(ratings)\n",
    "    return(np.array(results))"
   ]
  },
  {
   "cell_type": "code",
   "execution_count": 5,
   "metadata": {},
   "outputs": [
    {
     "data": {
      "text/plain": [
       "array([[0., 0., 0., ..., 0., 0., 0.],\n",
       "       [0., 0., 0., ..., 0., 2., 0.],\n",
       "       [0., 0., 0., ..., 0., 0., 0.],\n",
       "       ...,\n",
       "       [0., 0., 0., ..., 0., 0., 0.],\n",
       "       [0., 0., 0., ..., 0., 0., 0.],\n",
       "       [0., 0., 0., ..., 0., 0., 0.]])"
      ]
     },
     "metadata": {},
     "output_type": "display_data"
    },
    {
     "name": "stdout",
     "output_type": "stream",
     "text": [
      "(3883, 6040)\n"
     ]
    }
   ],
   "source": [
    "users = generate_Users(6040)\n",
    "films = generate_Films(3883)\n",
    "initial_ratings = generate_initial_ratings(films, users, 0.05)\n",
    "\n",
    "display(initial_ratings)\n",
    "print(initial_ratings.shape)"
   ]
  },
  {
   "cell_type": "code",
   "execution_count": 6,
   "metadata": {},
   "outputs": [
    {
     "data": {
      "text/plain": [
       "array([[-0.,  0.,  0., ...,  0.,  0.,  0.],\n",
       "       [ 0.,  0.,  0., ...,  0.,  0.,  0.],\n",
       "       [ 0.,  0.,  0., ...,  0.,  0., -0.],\n",
       "       ...,\n",
       "       [ 0.,  0.,  0., ...,  0.,  0., -0.],\n",
       "       [-0., -0.,  0., ...,  0.,  0.,  0.],\n",
       "       [ 0., -0.,  0., ...,  0.,  0.,  0.]])"
      ]
     },
     "metadata": {},
     "output_type": "display_data"
    },
    {
     "name": "stdout",
     "output_type": "stream",
     "text": [
      "(6040, 3883)\n"
     ]
    }
   ],
   "source": [
    "# Returns a num_users x num_films matrix containing\n",
    "# the predicted ratings each user would give each film\n",
    "def get_predicted_ratings(actual_ratings):\n",
    "    user_ratings_mean = np.mean(actual_ratings.T, axis = 1)\n",
    "    R_demeaned = actual_ratings.T - user_ratings_mean.reshape(-1, 1)\n",
    "    U, sigma, Vt = svds(R_demeaned, k = 50)\n",
    "    sigma = np.diag(sigma)\n",
    "    all_user_predicted_ratings = np.round(np.dot(np.dot(U, sigma), Vt) +\n",
    "            user_ratings_mean.reshape(-1, 1))\n",
    "    return all_user_predicted_ratings\n",
    "\n",
    "example_predictions = get_predicted_ratings(initial_ratings)\n",
    "display(example_predictions)\n",
    "print(example_predictions.shape)"
   ]
  },
  {
   "cell_type": "markdown",
   "metadata": {},
   "source": [
    "Question: Should we also recommend videos that users have already viewed? At least for me, Youtube recommends videos that I have already watched all the time."
   ]
  },
  {
   "cell_type": "code",
   "execution_count": 12,
   "metadata": {},
   "outputs": [
    {
     "data": {
      "text/plain": [
       "array([1614,  888, 3817, 2764,   63])"
      ]
     },
     "metadata": {},
     "output_type": "display_data"
    }
   ],
   "source": [
    "# Returns the IDs of the top num_recommendations\n",
    "# film recommendations for the provided user\n",
    "def get_recommendations(predicted_ratings, userID, num_recommendations=5):\n",
    "    predicted_user_ratings = predicted_ratings[userID]\n",
    "    recommendations = np.argsort(predicted_user_ratings)[-num_recommendations:]\n",
    "    return recommendations\n",
    "\n",
    "example_recs = get_recommendations(example_predictions, 0)\n",
    "display(example_recs)"
   ]
  },
  {
   "cell_type": "markdown",
   "metadata": {},
   "source": [
    "## Run the Simulation:"
   ]
  },
  {
   "cell_type": "code",
   "execution_count": 8,
   "metadata": {},
   "outputs": [],
   "source": [
    "initial_predictions = get_predicted_ratings(initial_ratings)"
   ]
  },
  {
   "cell_type": "code",
   "execution_count": 9,
   "metadata": {},
   "outputs": [
    {
     "data": {
      "text/plain": [
       "[[0, 5],\n",
       " [0, 5],\n",
       " [0, 5],\n",
       " [0, 5],\n",
       " [0, 5],\n",
       " [0, 5],\n",
       " [0, 5],\n",
       " [0, 5],\n",
       " [0, 5],\n",
       " [0, 5]]"
      ]
     },
     "metadata": {},
     "output_type": "display_data"
    }
   ],
   "source": [
    "# Recommends films to the user, and returns a tuple\n",
    "# containing the recommended film IDs, and counts\n",
    "# of the recommendations received of each film type\n",
    "def give_recommendations(predicted_ratings, userID):\n",
    "    recommended_filmIDs = get_recommendations(predicted_ratings, userID).tolist()\n",
    "    film_recs = films[recommended_filmIDs, :]\n",
    "    num_type1_films = sum(film_recs[:, 0])\n",
    "    num_type2_films = sum(film_recs[:, 1])\n",
    "    return (recommended_filmIDs, [num_type1_films, num_type2_films])\n",
    "\n",
    "# A num_users x num_types matrix where each row\n",
    "# is the number of recommendations that user has\n",
    "# received of each film type\n",
    "initial_distribution_matrix = []\n",
    "\n",
    "# Get the initial recommendation type counts\n",
    "for userID in range(users.shape[0]):\n",
    "    (recommended_filmIDs, type_counts) = give_recommendations(initial_predictions, userID)\n",
    "    initial_distribution_matrix.append(type_counts)\n",
    "\n",
    "display(initial_distribution_matrix[:10])"
   ]
  },
  {
   "cell_type": "code",
   "execution_count": 10,
   "metadata": {},
   "outputs": [],
   "source": [
    "# Runs one step of the simulation:\n",
    "# Gives new recommendations to each user, and simulates them\n",
    "# viewing + rating a random selection of them.\n",
    "# Returns the new rating matrix, the new distribution matrix of\n",
    "# recommended film types, and the # of changes in this matrix\n",
    "def step_simulation(actual_ratings, predicted_ratings, rec_type_counts):\n",
    "    new_ratings = actual_ratings.copy()\n",
    "    new_distribution_matrix = []\n",
    "    num_distribution_changes = 0\n",
    "    \n",
    "    for userID in range(users.shape[0]):\n",
    "        user = users[userID]\n",
    "        (recommended_filmIDs, new_type_counts) = \\\n",
    "                give_recommendations(predicted_ratings, userID)\n",
    "        new_distribution_matrix.append(new_type_counts)\n",
    "        \n",
    "        # Check for changes in the user's recommendation distribution\n",
    "        if (new_type_counts[0] != rec_type_counts[userID][0]) or \\\n",
    "                (new_type_counts[1] != rec_type_counts[userID][1]):\n",
    "            num_distribution_changes += 1\n",
    "        \n",
    "        # Determine whether the user will watch each\n",
    "        # recommended film, and assign a rating if so\n",
    "        for filmID in recommended_filmIDs:\n",
    "            film_type = 0 if films[filmID][0] == 1 else 1\n",
    "            ran = random.uniform(0,1)\n",
    "            if ran <= user[film_type]:\n",
    "                mean_rating = np.mean(actual_ratings[:, filmID])\n",
    "                rating = min(round(mean_rating + user[film_type]), 5)\n",
    "                new_ratings[filmID, userID] = rating\n",
    "\n",
    "    return (new_ratings, new_distribution_matrix, num_distribution_changes)"
   ]
  },
  {
   "cell_type": "code",
   "execution_count": 11,
   "metadata": {},
   "outputs": [
    {
     "name": "stdout",
     "output_type": "stream",
     "text": [
      "Step #0: Num Changes = 0\n",
      "Step #1: Num Changes = 1456\n",
      "Step #2: Num Changes = 1379\n",
      "Step #3: Num Changes = 1370\n",
      "Step #4: Num Changes = 1386\n",
      "Step #5: Num Changes = 1397\n",
      "Step #6: Num Changes = 1366\n",
      "Step #7: Num Changes = 1400\n",
      "Step #8: Num Changes = 1345\n",
      "Step #9: Num Changes = 1384\n"
     ]
    }
   ],
   "source": [
    "MAX_STEPS = 10\n",
    "CHANGE_THRESHOLD = 0\n",
    "\n",
    "ratings = initial_ratings.copy()\n",
    "predictions = initial_predictions.copy()\n",
    "rec_distribution = list(initial_distribution_matrix)\n",
    "\n",
    "for step in range(MAX_STEPS):\n",
    "    predictions = get_predicted_ratings(ratings)\n",
    "    ratings, rec_distribution, num_changes = step_simulation(ratings,\n",
    "            predictions, rec_distribution)\n",
    "    if step > 0 and num_changes <= CHANGE_THRESHOLD:\n",
    "        print(\"Convergence!\")\n",
    "        break\n",
    "    print(\"Step #%d: Num Changes = %d\" % (step, num_changes))"
   ]
  },
  {
   "cell_type": "code",
   "execution_count": null,
   "metadata": {},
   "outputs": [],
   "source": []
  }
 ],
 "metadata": {
  "kernelspec": {
   "display_name": "Python 2",
   "language": "python",
   "name": "python2"
  },
  "language_info": {
   "codemirror_mode": {
    "name": "ipython",
    "version": 2
   },
   "file_extension": ".py",
   "mimetype": "text/x-python",
   "name": "python",
   "nbconvert_exporter": "python",
   "pygments_lexer": "ipython2",
   "version": "2.7.14"
  }
 },
 "nbformat": 4,
 "nbformat_minor": 2
}
