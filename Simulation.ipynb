{
 "cells": [
  {
   "cell_type": "markdown",
   "metadata": {},
   "source": [
    "## Simulator Feature Wishlist:\n",
    " * Have the recommender weight unwatched videos higher + have users more willing to watch new videos\n",
    " * Give each user a baseline rating: to emulate how some users rate higher than others\n",
    " * Add polarity over time graph\n",
    "\n",
    "## Potential Things to Look Into:\n",
    " * Perhaps have a more in-depth matrix of metadata for videos (e.g. vectors indicating authors / directors, run time, etc.)? This could potentially allow for more realistic viewing / recommendation schemes and also allow for more complex user simulated behaviors"
   ]
  },
  {
   "cell_type": "code",
   "execution_count": 1,
   "metadata": {},
   "outputs": [],
   "source": [
    "%matplotlib inline\n",
    "from __future__ import division\n",
    "import matplotlib.pyplot as plt\n",
    "import pandas as pd\n",
    "import numpy as np\n",
    "import random\n",
    "from scipy.sparse.linalg import svds\n",
    "from IPython.display import display"
   ]
  },
  {
   "cell_type": "markdown",
   "metadata": {},
   "source": [
    "## Setup\n",
    "\n",
    "We have a matrix of films, such that each row is a vector holding the metadata for a film. Each film vector is organized as follows: [genre1, genre2, ..., genreN, quality], such that the first NUM_GENRES columns hold how aligned the film is with each genre, and the last column holds the film's quality, which dictates the mean rating for the film. The genre alignment values are all between 0 and 1, and sum to 1.\n",
    "\n",
    "The user matrix is organized analogously, with each row holding the metdata for the user, in the format: [pref1, pref2, ..., prefN, behavior]. The NUM_GENRES columns hold how much a user likes a particular genre, and the last column holds the user's behavior, which determines how the user will react to recommended videos. Similarly, the preference values are all between 0 and 1, and sum to 1."
   ]
  },
  {
   "cell_type": "code",
   "execution_count": 2,
   "metadata": {},
   "outputs": [],
   "source": [
    "# Total number of film genres\n",
    "NUM_GENRES = 2\n",
    "\n",
    "# Maximum film rating (e.g. 5 uses the rating scale 0-5)\n",
    "MAX_RATING = 5\n",
    "\n",
    "# Higher values = stronger user genre preferences\n",
    "# Use higher values with higher NUM_GENRES values\n",
    "# Reasonable values are probably b/w 0.1 and 10\n",
    "USER_POLARIZATION_STRENGTH = 1\n",
    "FILM_POLARIZATION_STRENGTH = 1\n",
    "\n",
    "# A user's \"behavior\" determines how a user chooses\n",
    "# which video(s) to watch at each simulation step\n",
    "# NAMES is a one-word description of each behavior,\n",
    "# and DISTRIBUTION determines the ratio of behaviors\n",
    "# among the created users\n",
    "BEHAVIOR_PROP_IDX = NUM_GENRES\n",
    "BEHAVIOR_NAMES = ['follower', 'stubborn', 'mixed']\n",
    "BEHAVIOR_DISTRIBUTION = [1, 1, 1]\n",
    "\n",
    "# If False, all users watch recommended films with\n",
    "# probability equal to their compatibility with it\n",
    "USE_BEHAVIOR = False\n",
    "\n",
    "# A film's \"quality\" determines the mean rating\n",
    "# of the film, and is used as the baseline which\n",
    "# user preferences modify to get the final rating\n",
    "QUALITY_PROP_IDX = NUM_GENRES\n",
    "QUALITY_MIN = MAX_RATING / 4.0\n",
    "QUALITY_MAX = 3 * MAX_RATING / 4.0\n",
    "\n",
    "# If False, the average film rating is used as the\n",
    "# baseline when calculating new ratings instead\n",
    "USE_QUALITY = True\n",
    "\n",
    "# How much watched films are penalized over unwatched\n",
    "# ones when making recommendations, and when the users\n",
    "# are choosing which videos to watch respectively\n",
    "# (Effect is multiplicative: should be b/w 0 and 1)\n",
    "REWATCH_RECOMMENDATION_PENALTY = 0.5\n",
    "REWATCH_VIEW_PENALTY = 0.5\n",
    "\n",
    "# Validate and standardize the behavior configuration parameters\n",
    "if len(BEHAVIOR_NAMES) != len(BEHAVIOR_DISTRIBUTION):\n",
    "    raise ValueError(\"BEHAVIOR_NAMES and BEHAVIOR_DISTRIBUTION \"\n",
    "            \"must have the same length.\")\n",
    "BEHAVIOR_NAMES = np.array(BEHAVIOR_NAMES)\n",
    "BEHAVIOR_DISTRIBUTION = np.array(BEHAVIOR_DISTRIBUTION) / float(sum(BEHAVIOR_DISTRIBUTION))"
   ]
  },
  {
   "cell_type": "code",
   "execution_count": 3,
   "metadata": {},
   "outputs": [],
   "source": [
    "def generate_users(number_of_users):\n",
    "    \"\"\"\n",
    "    Generate a user matrix, where each row of the\n",
    "    matrix stores the properties of a user:\n",
    "    [genre1_preference, ..., genreN_preference, behavior]\n",
    "    \n",
    "    The genre preferences of each user sum to 1.\n",
    "    behavior will be an integer b/w 0 and num_behaviors\n",
    "    \"\"\"\n",
    "    results = []\n",
    "    for i in range(number_of_users):\n",
    "        user_prefs = np.random.dirichlet(\n",
    "                np.ones(NUM_GENRES)/USER_POLARIZATION_STRENGTH, size=1)[0]\n",
    "        behavior = np.random.choice(np.arange(len(BEHAVIOR_NAMES)),\n",
    "                p=BEHAVIOR_DISTRIBUTION)\n",
    "        user_props = np.append(user_prefs, behavior)\n",
    "        results.append(user_props)\n",
    "    return np.array(results)\n",
    "\n",
    "def generate_films(number_of_films):\n",
    "    \"\"\"\n",
    "    Generate a film matrix, where each row of the\n",
    "    matrix represents the properties of a film:\n",
    "    [genre1, ..., genreN, quality]\n",
    "    \n",
    "    The genre values of each film sum to 1.\n",
    "    quality will be b/w QUALITY_MIN and QUALITY_MAX.\n",
    "    \"\"\"\n",
    "    results = []\n",
    "    for i in range(number_of_films):\n",
    "        film_genres = np.random.dirichlet(\n",
    "                np.ones(NUM_GENRES)/FILM_POLARIZATION_STRENGTH, size=1)[0]\n",
    "        quality = random.uniform(QUALITY_MIN, QUALITY_MAX)\n",
    "        film_props = np.append(film_genres, quality)\n",
    "        results.append(film_props)\n",
    "    return np.array(results)"
   ]
  },
  {
   "cell_type": "code",
   "execution_count": 4,
   "metadata": {},
   "outputs": [
    {
     "data": {
      "text/plain": [
       "array([[0.65586558, 0.34413442, 0.        ],\n",
       "       [0.8910619 , 0.1089381 , 1.        ],\n",
       "       [0.19269272, 0.80730728, 2.        ],\n",
       "       ...,\n",
       "       [0.04348812, 0.95651188, 1.        ],\n",
       "       [0.07784112, 0.92215888, 2.        ],\n",
       "       [0.68650487, 0.31349513, 2.        ]])"
      ]
     },
     "metadata": {},
     "output_type": "display_data"
    },
    {
     "name": "stdout",
     "output_type": "stream",
     "text": [
      "(6040, 3)\n"
     ]
    },
    {
     "data": {
      "text/plain": [
       "array([[0.30045385, 0.69954615, 2.31118946],\n",
       "       [0.52610659, 0.47389341, 1.524721  ],\n",
       "       [0.29489521, 0.70510479, 3.22324619],\n",
       "       ...,\n",
       "       [0.51179996, 0.48820004, 2.38873228],\n",
       "       [0.38427689, 0.61572311, 1.81761006],\n",
       "       [0.11635492, 0.88364508, 1.41252098]])"
      ]
     },
     "metadata": {},
     "output_type": "display_data"
    },
    {
     "name": "stdout",
     "output_type": "stream",
     "text": [
      "(3883, 3)\n"
     ]
    }
   ],
   "source": [
    "NUM_USERS = 6040 # 6040\n",
    "NUM_FILMS = 3883 # 3883\n",
    "\n",
    "users = generate_users(NUM_USERS)\n",
    "films = generate_films(NUM_FILMS)\n",
    "\n",
    "display(users)\n",
    "print(users.shape)\n",
    "display(films)\n",
    "print(films.shape)"
   ]
  },
  {
   "cell_type": "code",
   "execution_count": 5,
   "metadata": {},
   "outputs": [
    {
     "name": "stdout",
     "output_type": "stream",
     "text": [
      "Mean compatibility: 0.671592\n",
      "Max absolute compatibility: 0.999999\n"
     ]
    }
   ],
   "source": [
    "def get_user_film_compatibility(userID, filmID):\n",
    "    \"\"\"\n",
    "    Returns a value between 0 and 1 indicating how much\n",
    "    a user's preferences aligns with the film's genre(s).\n",
    "    \"\"\"\n",
    "    user_prefs = users[userID][:NUM_GENRES]\n",
    "    film_genres = films[filmID][:NUM_GENRES]\n",
    "    return 1 - (np.sum(np.abs(user_prefs - film_genres)) / NUM_GENRES)\n",
    "\n",
    "# Compute the compatabilities of a random sample of users\n",
    "# and films, so some stats can be calcuated on them\n",
    "compats = []\n",
    "sample_userIDs = random.sample(np.arange(NUM_USERS), min(500, NUM_USERS))\n",
    "sample_filmIDs = random.sample(np.arange(NUM_FILMS), min(500, NUM_FILMS))\n",
    "for userID in sample_userIDs:\n",
    "    for filmID in sample_filmIDs:\n",
    "        compats.append(get_user_film_compatibility(userID, filmID))\n",
    "\n",
    "mean_compatibility = 1.0 * sum(compats) / len(compats)\n",
    "max_abs_compatibility = max(max(compats), abs(min(compats)))\n",
    "\n",
    "print(\"Mean compatibility: %f\" % mean_compatibility)\n",
    "print(\"Max absolute compatibility: %f\" % max_abs_compatibility)"
   ]
  },
  {
   "cell_type": "code",
   "execution_count": 6,
   "metadata": {},
   "outputs": [],
   "source": [
    "# Determines how much a user's compatibility with \n",
    "# the film affects the final rating. The final\n",
    "# rating given will be mean_film_rating + x,\n",
    "# where -CRS <= x <= CRS\n",
    "COMPATIBILITY_RATING_STRENGTH = 3\n",
    "\n",
    "def get_user_film_rating(userID, filmID, actual_ratings=None, is_initial_rating=False):\n",
    "    \"\"\"\n",
    "    Returns a value between 0 and MAX_RATING indicating the\n",
    "    rating the user would give the film upon watching it.\n",
    "    \n",
    "    actual_ratings must be provided when USE_QUALITY and\n",
    "    is_initial_rating is False, so the current mean rating\n",
    "    of the film can be calculated.\n",
    "    \n",
    "    is_initial_rating should be set True when generating the\n",
    "    starting ratings for the film.\n",
    "    \"\"\"\n",
    "    compatibility = get_user_film_compatibility(userID, filmID)\n",
    "    \n",
    "    if USE_QUALITY:\n",
    "        base_rating = films[filmID][QUALITY_PROP_IDX]\n",
    "    else:\n",
    "        if is_initial_rating:\n",
    "            return round(MAX_RATING * compatibility)\n",
    "        else:\n",
    "            film_ratings = actual_ratings[:, filmID]\n",
    "            base_rating = np.mean(film_ratings[film_ratings.nonzero()])\n",
    "\n",
    "    # Convert compatibility to a value within [-CRS, +CRS]\n",
    "    compat_influence = ((compatibility - mean_compatibility)\n",
    "            / max_abs_compatibility) * COMPATIBILITY_RATING_STRENGTH\n",
    "    return max(min(round(base_rating + compat_influence), MAX_RATING), 0)\n",
    "\n",
    "def generate_initial_ratings(users, films, view_rate, rescale_to_midline=False):\n",
    "    \"\"\"\n",
    "    Generates a (num_films, num_users) rating matrix, where\n",
    "    each row represents the ratings that film has received\n",
    "    from all users.\n",
    "    \n",
    "    view_rate is the chance a user will view a given film.\n",
    "    \n",
    "    If rescale_to_midline is True, the ratings are scaled\n",
    "    such that mean of non-zero ratings is MAX_RATING / 2.\n",
    "    \"\"\"\n",
    "    results = []\n",
    "    for userID in range(users.shape[0]):\n",
    "        user_ratings = []\n",
    "        for filmID in range(films.shape[0]):\n",
    "            ran = random.uniform(0,1)\n",
    "            if (ran <= view_rate):\n",
    "                rating = get_user_film_rating(userID, filmID, is_initial_rating=True)\n",
    "                user_ratings.append(rating)\n",
    "            else:\n",
    "                user_ratings.append(0)\n",
    "        results.append(user_ratings)\n",
    "    results = np.array(results)\n",
    "    # Perform rescaling if necessary\n",
    "    if rescale_to_midline:\n",
    "        results = results * ((MAX_RATING / 2.0) / (results[results.nonzero()].mean()))\n",
    "        results = np.clip(np.round(results), 0, MAX_RATING)\n",
    "    return results"
   ]
  },
  {
   "cell_type": "code",
   "execution_count": 7,
   "metadata": {},
   "outputs": [
    {
     "data": {
      "text/plain": [
       "array([[0., 0., 0., ..., 0., 0., 0.],\n",
       "       [0., 0., 0., ..., 0., 0., 0.],\n",
       "       [0., 0., 0., ..., 0., 0., 0.],\n",
       "       ...,\n",
       "       [0., 0., 0., ..., 0., 0., 0.],\n",
       "       [0., 0., 0., ..., 0., 0., 0.],\n",
       "       [0., 0., 0., ..., 0., 0., 0.]])"
      ]
     },
     "metadata": {},
     "output_type": "display_data"
    },
    {
     "name": "stdout",
     "output_type": "stream",
     "text": [
      "(6040, 3883)\n"
     ]
    }
   ],
   "source": [
    "INITIAL_VIEWING_RATE = 0.05 # 0.05\n",
    "RESCALE_TO_MIDLINE = True\n",
    "\n",
    "initial_ratings = generate_initial_ratings(users, films,\n",
    "        INITIAL_VIEWING_RATE, rescale_to_midline=RESCALE_TO_MIDLINE)\n",
    "\n",
    "display(initial_ratings)\n",
    "print(initial_ratings.shape)"
   ]
  },
  {
   "cell_type": "code",
   "execution_count": 8,
   "metadata": {},
   "outputs": [
    {
     "data": {
      "text/plain": [
       "array([[ 0.,  0.,  0., ...,  0.,  0.,  0.],\n",
       "       [ 0.,  0.,  0., ...,  0.,  0., -0.],\n",
       "       [ 0.,  0.,  0., ...,  0.,  0.,  0.],\n",
       "       ...,\n",
       "       [ 0.,  0.,  0., ...,  0.,  0.,  0.],\n",
       "       [ 0., -0.,  0., ...,  0.,  0.,  0.],\n",
       "       [ 0.,  0.,  0., ...,  0.,  0.,  0.]])"
      ]
     },
     "metadata": {},
     "output_type": "display_data"
    },
    {
     "name": "stdout",
     "output_type": "stream",
     "text": [
      "(6040, 3883)\n"
     ]
    }
   ],
   "source": [
    "# The number of singular values to compute with SVD\n",
    "# Larger values give more accurate predictions, but\n",
    "# take longer to compute (and give longer simulator\n",
    "# convergence times)\n",
    "# Reasonable values are probably b/w 10 and 50\n",
    "K_VAL = 50\n",
    "\n",
    "def get_predicted_ratings(actual_ratings):\n",
    "    \"\"\"\n",
    "    Returns a (num_users, num_films) matrix containing\n",
    "    the predicted ratings each user would each film.\n",
    "    \"\"\"\n",
    "    # Only consider non-zero ratings when calculating the mean\n",
    "    masked_user_ratings = np.ma.masked_equal(actual_ratings, 0)\n",
    "    user_ratings_mean = masked_user_ratings.mean(axis=1).data\n",
    "    # Calculate SVD values of demeaned ratings + estimate new ratings\n",
    "    R_demeaned = actual_ratings - user_ratings_mean.reshape(-1, 1)\n",
    "    U, sigma, Vt = svds(R_demeaned, k=K_VAL)\n",
    "    sigma = np.diag(sigma)\n",
    "    predicted_ratings = np.round(np.dot(np.dot(U, sigma), Vt) +\n",
    "            user_ratings_mean.reshape(-1, 1))\n",
    "    return predicted_ratings\n",
    "\n",
    "example_predictions = get_predicted_ratings(initial_ratings)\n",
    "display(example_predictions)\n",
    "print(example_predictions.shape)"
   ]
  },
  {
   "cell_type": "code",
   "execution_count": 9,
   "metadata": {},
   "outputs": [
    {
     "name": "stdout",
     "output_type": "stream",
     "text": [
      "Example Film Recommendations: [2617, 3069, 2938, 805, 2540]\n",
      "Example Distribution: [2, 3]\n"
     ]
    }
   ],
   "source": [
    "NUM_RECS = 5\n",
    "\n",
    "def get_recommendations(actual_ratings, predicted_ratings, userID, num_recommendations=NUM_RECS):\n",
    "    \"\"\"\n",
    "    Gets the top num_recommendations film recommendations for\n",
    "    the provided user, using the rating prediction matrix, and\n",
    "    returns a tuple containing the recommended film IDs, and\n",
    "    counts of the recommendations received of each film genre.\n",
    "    \"\"\"\n",
    "    # Get predicted user ratings, penalizing already watched films\n",
    "    predicted_user_ratings = predicted_ratings[userID]\n",
    "    watched_films = np.apply_along_axis(lambda x: x != 0, 0, actual_ratings[userID])\n",
    "    watched_penalty = watched_films * REWATCH_RECOMMENDATION_PENALTY\n",
    "    watched_penalty[watched_penalty == 0] = 1.0\n",
    "    recommendation_matrix = predicted_user_ratings * watched_penalty\n",
    "    # Get the film recommendations + the genre distribution\n",
    "    recommended_filmIDs = np.argsort(recommendation_matrix)\\\n",
    "            [-num_recommendations:].tolist()\n",
    "    film_recs = films[recommended_filmIDs, :]\n",
    "    genre_counts = [int(round(sum(film_recs[:, genre_idx])))\n",
    "                    for genre_idx in range(NUM_GENRES)]\n",
    "    return (recommended_filmIDs, genre_counts)\n",
    "\n",
    "example_recs = get_recommendations(initial_ratings, example_predictions, 0)\n",
    "print(\"Example Film Recommendations: \" + str(example_recs[0]))\n",
    "print(\"Example Distribution: \" + str(example_recs[1]))"
   ]
  },
  {
   "cell_type": "code",
   "execution_count": 10,
   "metadata": {},
   "outputs": [],
   "source": [
    "# Probability of a follower watching a recommended film\n",
    "FOLLOWER_VIEW_RATE = 0.5\n",
    "\n",
    "# Minimum compatibility a stubborn user must\n",
    "# have with a film in order to watch it\n",
    "STUBBORN_COMPATIBILITY_THRESHOLD = 0.8\n",
    "\n",
    "def give_recommendation(userID, filmID, actual_ratings):\n",
    "    \"\"\"\n",
    "    Actually gives a film recommendation to a user, and\n",
    "    determines whether the user will watch it, based on\n",
    "    their behavior, and returns the rating if so.\n",
    "    Returns None if the user does not watch the film.\n",
    "    \"\"\"\n",
    "    behavior_name = BEHAVIOR_NAMES[int(users[userID][BEHAVIOR_PROP_IDX])]\n",
    "    compatibility = get_user_film_compatibility(userID, filmID)\n",
    "    ran = random.uniform(0, 1)\n",
    "    \n",
    "    # Follower: watches any of the recommended films with equal weight \n",
    "    if behavior_name == \"follower\":\n",
    "        does_watch = ran <= FOLLOWER_VIEW_RATE\n",
    "    # Mixed: watches a recommended video with probability\n",
    "    # equal to their compatability with that film\n",
    "    elif behavior_name == \"mixed\":\n",
    "        does_watch = ran <= compatibility\n",
    "    # Stubborn: only watches videos above a certain compatibility threshold\n",
    "    elif behavior_name == \"stubborn\":\n",
    "        does_watch = compatibility <= STUBBORN_COMPATIBILITY_THRESHOLD\n",
    "    else:\n",
    "        raise ValueError(\"Programmer Error: Unexpected behavior value '%d'\" % behavior)\n",
    "    \n",
    "    # If the user would be rewatching the film, change their\n",
    "    # mind with some probability, according to the rewatch penalty\n",
    "    if does_watch and actual_ratings[userID][filmID] != 0:\n",
    "        ran2 = random.uniform(0, 1)\n",
    "        does_watch = ran2 <= REWATCH_VIEW_PENALTY\n",
    "        \n",
    "    if does_watch:\n",
    "        return get_user_film_rating(userID, filmID, actual_ratings)\n",
    "    else:\n",
    "        return None"
   ]
  },
  {
   "cell_type": "code",
   "execution_count": 11,
   "metadata": {},
   "outputs": [
    {
     "name": "stdout",
     "output_type": "stream",
     "text": [
      "Number of users with neutral preference: 2413\n",
      "Number of polarized films recommended to those users: 104\n",
      "Polarity: 0.0430998756734\n"
     ]
    }
   ],
   "source": [
    "# number of neutral users\n",
    "neutral = 0\n",
    "\n",
    "# number of polarized films\n",
    "polarity = 0\n",
    "\n",
    "# thresholds for neutral user preference\n",
    "lo_threshold = 0.3\n",
    "hi_threshold = 0.7\n",
    "\n",
    "for userIdx in range(users.shape[0]):\n",
    "    if lo_threshold < users[userIdx][0] < hi_threshold and lo_threshold < users[userIdx][1] < hi_threshold:\n",
    "        neutral += 1\n",
    "        movie_recs, movie_dist = get_recommendations(initial_ratings, example_predictions, userIdx)\n",
    "        if movie_dist != [2, 3] and movie_dist != [3, 2]:\n",
    "            polarity += 1\n",
    "\n",
    "print(\"Number of users with neutral preference: \" + str(neutral))\n",
    "print(\"Number of polarized films recommended to those users: \" + str(polarity))\n",
    "print(\"Polarity: \" + str(polarity/neutral))"
   ]
  },
  {
   "cell_type": "markdown",
   "metadata": {},
   "source": [
    "## Run Simulator"
   ]
  },
  {
   "cell_type": "code",
   "execution_count": 12,
   "metadata": {},
   "outputs": [
    {
     "data": {
      "text/plain": [
       "[[2, 3],\n",
       " [3, 2],\n",
       " [2, 3],\n",
       " [3, 2],\n",
       " [1, 4],\n",
       " [2, 3],\n",
       " [2, 3],\n",
       " [2, 3],\n",
       " [2, 3],\n",
       " [2, 3]]"
      ]
     },
     "metadata": {},
     "output_type": "display_data"
    }
   ],
   "source": [
    "initial_predictions = get_predicted_ratings(initial_ratings)\n",
    "\n",
    "# A (num_users, num_genres) matrix where each row\n",
    "# is the number of recommendations that user has\n",
    "# received of each film genre\n",
    "initial_distribution_matrix = []\n",
    "\n",
    "# Get the initial recommendation genre distribution\n",
    "for userID in range(users.shape[0]):\n",
    "    (recommended_filmIDs, type_counts) = get_recommendations(initial_ratings, initial_predictions, userID)\n",
    "    initial_distribution_matrix.append(type_counts)\n",
    "\n",
    "display(initial_distribution_matrix[:10])"
   ]
  },
  {
   "cell_type": "code",
   "execution_count": 13,
   "metadata": {},
   "outputs": [],
   "source": [
    "def step_simulation(actual_ratings, predicted_ratings,\n",
    "                    rec_genre_counts, verbose=False):\n",
    "    \"\"\"\n",
    "    Runs one step of the simulation:\n",
    "    \n",
    "    Gives new recommendations to each user, and simulates them\n",
    "    viewing + rating a random selection of them.\n",
    "    \n",
    "    Returns the new rating matrix, the new distribution matrix of\n",
    "    recommended film genres, the # of changes in this matrix, and\n",
    "    a vector of all recommended film IDs.\n",
    "    \n",
    "    If verbose is True, prints extra debugging information.\n",
    "    \"\"\"\n",
    "    new_ratings = actual_ratings.copy()\n",
    "    new_distribution_matrix = []\n",
    "    num_distribution_changes = 0\n",
    "    all_recommended_filmIDs = np.zeros([users.shape[0], NUM_RECS])\n",
    "    \n",
    "    for userID in range(users.shape[0]):\n",
    "        user = users[userID]\n",
    "        (recommended_filmIDs, new_genre_counts) = \\\n",
    "                get_recommendations(new_ratings, predicted_ratings, userID)\n",
    "        new_distribution_matrix.append(new_genre_counts)\n",
    "        all_recommended_filmIDs[userID] = recommended_filmIDs\n",
    "        \n",
    "        # Check for changes in the user's recommendation distribution\n",
    "        if (new_genre_counts[0] != rec_genre_counts[userID][0]) or \\\n",
    "                (new_genre_counts[1] != rec_genre_counts[userID][1]):\n",
    "            num_distribution_changes += 1\n",
    "        \n",
    "        # Determine whether the user will watch each\n",
    "        # recommended film, and assign a rating if so\n",
    "        for i, filmID in enumerate(recommended_filmIDs):\n",
    "            rating = None\n",
    "            if USE_BEHAVIOR:\n",
    "                rating = give_recommendation(userID, filmID, actual_ratings)\n",
    "            else:\n",
    "                compatibility = get_user_film_compatibility(userID, filmID)\n",
    "                has_watched = actual_ratings[userID][filmID] != 0\n",
    "                ran = random.uniform(0,1)\n",
    "                if ran <= compatibility * (REWATCH_VIEW_PENALTY if has_watched else 1.0):\n",
    "                    rating = get_user_film_rating(userID, filmID, actual_ratings)\n",
    "            if rating is not None:\n",
    "                new_ratings[userID, filmID] = rating\n",
    "    \n",
    "    return (new_ratings, new_distribution_matrix, num_distribution_changes, all_recommended_filmIDs)"
   ]
  },
  {
   "cell_type": "code",
   "execution_count": 14,
   "metadata": {},
   "outputs": [
    {
     "name": "stdout",
     "output_type": "stream",
     "text": [
      "Step #0: Num Changes = 0\n",
      "Step #1: Num Changes = 2650\n",
      "Step #2: Num Changes = 2432\n",
      "Step #3: Num Changes = 2157\n",
      "Step #4: Num Changes = 1786\n",
      "Step #5: Num Changes = 1551\n",
      "Step #6: Num Changes = 1469\n",
      "Step #7: Num Changes = 1369\n",
      "Step #8: Num Changes = 1409\n",
      "Step #9: Num Changes = 1433\n",
      "Step #10: Num Changes = 1367\n",
      "Step #11: Num Changes = 1325\n",
      "Step #12: Num Changes = 1332\n",
      "Step #13: Num Changes = 1355\n",
      "Step #14: Num Changes = 1319\n",
      "Step #15: Num Changes = 1267\n",
      "Step #16: Num Changes = 1263\n",
      "Step #17: Num Changes = 1293\n",
      "Step #18: Num Changes = 1322\n",
      "Step #19: Num Changes = 1235\n",
      "Step #20: Num Changes = 1238\n",
      "Step #21: Num Changes = 1197\n",
      "Step #22: Num Changes = 1196\n",
      "Step #23: Num Changes = 1210\n",
      "Step #24: Num Changes = 1178\n",
      "Step #25: Num Changes = 1143\n",
      "Step #26: Num Changes = 1186\n",
      "Step #27: Num Changes = 1180\n",
      "Step #28: Num Changes = 1127\n",
      "Step #29: Num Changes = 1126\n",
      "Step #30: Num Changes = 1108\n",
      "Step #31: Num Changes = 1070\n",
      "Step #32: Num Changes = 1027\n",
      "Step #33: Num Changes = 1034\n",
      "Step #34: Num Changes = 984\n",
      "Step #35: Num Changes = 952\n",
      "Step #36: Num Changes = 988\n",
      "Step #37: Num Changes = 930\n",
      "Step #38: Num Changes = 941\n",
      "Step #39: Num Changes = 967\n",
      "Step #40: Num Changes = 951\n",
      "Step #41: Num Changes = 921\n",
      "Step #42: Num Changes = 863\n",
      "Step #43: Num Changes = 917\n",
      "Step #44: Num Changes = 825\n",
      "Step #45: Num Changes = 841\n",
      "Step #46: Num Changes = 795\n",
      "Step #47: Num Changes = 859\n",
      "Step #48: Num Changes = 839\n",
      "Step #49: Num Changes = 861\n",
      "Step #50: Num Changes = 782\n",
      "Step #51: Num Changes = 835\n",
      "Step #52: Num Changes = 762\n",
      "Step #53: Num Changes = 774\n",
      "Step #54: Num Changes = 744\n",
      "Step #55: Num Changes = 711\n",
      "Step #56: Num Changes = 736\n",
      "Step #57: Num Changes = 737\n",
      "Step #58: Num Changes = 696\n",
      "Step #59: Num Changes = 630\n",
      "Step #60: Num Changes = 637\n",
      "Step #61: Num Changes = 623\n",
      "Step #62: Num Changes = 593\n",
      "Step #63: Num Changes = 572\n",
      "Step #64: Num Changes = 647\n",
      "Step #65: Num Changes = 648\n",
      "Step #66: Num Changes = 579\n",
      "Step #67: Num Changes = 619\n",
      "Step #68: Num Changes = 522\n",
      "Step #69: Num Changes = 528\n",
      "Step #70: Num Changes = 564\n",
      "Step #71: Num Changes = 497\n",
      "Step #72: Num Changes = 525\n",
      "Step #73: Num Changes = 508\n",
      "Step #74: Num Changes = 504\n",
      "Step #75: Num Changes = 497\n",
      "Step #76: Num Changes = 484\n",
      "Step #77: Num Changes = 486\n",
      "Step #78: Num Changes = 494\n",
      "Step #79: Num Changes = 530\n",
      "Step #80: Num Changes = 536\n",
      "Step #81: Num Changes = 536\n",
      "Step #82: Num Changes = 455\n",
      "Step #83: Num Changes = 470\n",
      "Step #84: Num Changes = 463\n",
      "Step #85: Num Changes = 444\n",
      "Step #86: Num Changes = 422\n",
      "Step #87: Num Changes = 430\n",
      "Step #88: Num Changes = 432\n",
      "Step #89: Num Changes = 416\n",
      "Step #90: Num Changes = 470\n",
      "Step #91: Num Changes = 452\n",
      "Step #92: Num Changes = 401\n",
      "Step #93: Num Changes = 360\n",
      "Step #94: Num Changes = 400\n",
      "Step #95: Num Changes = 408\n",
      "Step #96: Num Changes = 442\n",
      "Step #97: Num Changes = 408\n",
      "Step #98: Num Changes = 408\n",
      "Step #99: Num Changes = 373\n",
      "Step #100: Num Changes = 335\n",
      "Step #101: Num Changes = 345\n",
      "Step #102: Num Changes = 325\n",
      "Step #103: Num Changes = 350\n",
      "Step #104: Num Changes = 296\n",
      "Step #105: Num Changes = 272\n",
      "Step #106: Num Changes = 342\n",
      "Step #107: Num Changes = 369\n",
      "Step #108: Num Changes = 369\n",
      "Step #109: Num Changes = 369\n",
      "Step #110: Num Changes = 333\n",
      "Step #111: Num Changes = 343\n",
      "Step #112: Num Changes = 386\n",
      "Step #113: Num Changes = 360\n",
      "Step #114: Num Changes = 351\n",
      "Step #115: Num Changes = 336\n",
      "Step #116: Num Changes = 287\n",
      "Step #117: Num Changes = 321\n",
      "Step #118: Num Changes = 337\n",
      "Step #119: Num Changes = 341\n",
      "Step #120: Num Changes = 326\n",
      "Step #121: Num Changes = 345\n",
      "Step #122: Num Changes = 286\n",
      "Step #123: Num Changes = 298\n",
      "Step #124: Num Changes = 245\n",
      "Step #125: Num Changes = 249\n",
      "Step #126: Num Changes = 261\n",
      "Step #127: Num Changes = 245\n",
      "Step #128: Num Changes = 295\n",
      "Step #129: Num Changes = 244\n",
      "Step #130: Num Changes = 255\n",
      "Step #131: Num Changes = 230\n",
      "Step #132: Num Changes = 187\n",
      "Step #133: Num Changes = 220\n",
      "Step #134: Num Changes = 183\n",
      "Step #135: Num Changes = 170\n",
      "Step #136: Num Changes = 143\n",
      "Step #137: Num Changes = 138\n",
      "Step #138: Num Changes = 144\n",
      "Step #139: Num Changes = 199\n",
      "Step #140: Num Changes = 177\n",
      "Step #141: Num Changes = 156\n",
      "Step #142: Num Changes = 166\n",
      "Step #143: Num Changes = 148\n",
      "Step #144: Num Changes = 120\n",
      "Step #145: Num Changes = 123\n",
      "Step #146: Num Changes = 141\n",
      "Step #147: Num Changes = 163\n",
      "Step #148: Num Changes = 157\n",
      "Step #149: Num Changes = 109\n",
      "Step #150: Num Changes = 164\n",
      "Step #151: Num Changes = 113\n",
      "Step #152: Num Changes = 153\n",
      "Step #153: Num Changes = 137\n",
      "Step #154: Num Changes = 159\n",
      "Step #155: Num Changes = 146\n",
      "Step #156: Num Changes = 156\n",
      "Step #157: Num Changes = 140\n",
      "Step #158: Num Changes = 161\n",
      "Step #159: Num Changes = 109\n",
      "Step #160: Num Changes = 148\n",
      "Step #161: Num Changes = 131\n",
      "Step #162: Num Changes = 161\n",
      "Step #163: Num Changes = 172\n",
      "Step #164: Num Changes = 201\n",
      "Step #165: Num Changes = 119\n",
      "Step #166: Num Changes = 208\n",
      "Step #167: Num Changes = 174\n",
      "Step #168: Num Changes = 231\n",
      "Step #169: Num Changes = 158\n",
      "Step #170: Num Changes = 165\n",
      "Step #171: Num Changes = 203\n",
      "Step #172: Num Changes = 173\n",
      "Step #173: Num Changes = 229\n",
      "Step #174: Num Changes = 187\n",
      "Step #175: Num Changes = 165\n",
      "Step #176: Num Changes = 178\n",
      "Step #177: Num Changes = 198\n",
      "Step #178: Num Changes = 168\n",
      "Step #179: Num Changes = 177\n",
      "Step #180: Num Changes = 193\n",
      "Step #181: Num Changes = 149\n",
      "Step #182: Num Changes = 145\n",
      "Step #183: Num Changes = 178\n",
      "Step #184: Num Changes = 149\n",
      "Step #185: Num Changes = 121\n",
      "Step #186: Num Changes = 116\n",
      "Step #187: Num Changes = 153\n",
      "Step #188: Num Changes = 142\n",
      "Step #189: Num Changes = 101\n",
      "Step #190: Num Changes = 124\n",
      "Step #191: Num Changes = 142\n",
      "Step #192: Num Changes = 193\n",
      "Step #193: Num Changes = 107\n",
      "Step #194: Num Changes = 97\n",
      "Step #195: Num Changes = 76\n",
      "Step #196: Num Changes = 69\n",
      "Step #197: Num Changes = 60\n",
      "Step #198: Num Changes = 94\n",
      "Step #199: Num Changes = 123\n",
      "Step #200: Num Changes = 100\n",
      "Step #201: Num Changes = 153\n",
      "Step #202: Num Changes = 135\n",
      "Step #203: Num Changes = 132\n",
      "Step #204: Num Changes = 114\n",
      "Step #205: Num Changes = 125\n",
      "Step #206: Num Changes = 103\n",
      "Step #207: Num Changes = 100\n",
      "Step #208: Num Changes = 73\n",
      "Step #209: Num Changes = 60\n",
      "Step #210: Num Changes = 66\n",
      "Step #211: Num Changes = 80\n",
      "Step #212: Num Changes = 119\n",
      "Step #213: Num Changes = 132\n",
      "Step #214: Num Changes = 124\n",
      "Step #215: Num Changes = 139\n",
      "Step #216: Num Changes = 65\n",
      "Step #217: Num Changes = 130\n",
      "Step #218: Num Changes = 176\n",
      "Step #219: Num Changes = 132\n",
      "Step #220: Num Changes = 141\n",
      "Step #221: Num Changes = 106\n",
      "Step #222: Num Changes = 136\n",
      "Step #223: Num Changes = 96\n",
      "Step #224: Num Changes = 122\n",
      "Step #225: Num Changes = 135\n",
      "Step #226: Num Changes = 148\n",
      "Step #227: Num Changes = 147\n",
      "Step #228: Num Changes = 155\n",
      "Step #229: Num Changes = 116\n",
      "Step #230: Num Changes = 75\n",
      "Step #231: Num Changes = 92\n",
      "Step #232: Num Changes = 135\n",
      "Step #233: Num Changes = 98\n",
      "Step #234: Num Changes = 116\n",
      "Step #235: Num Changes = 95\n",
      "Step #236: Num Changes = 101\n",
      "Step #237: Num Changes = 137\n",
      "Step #238: Num Changes = 138\n",
      "Step #239: Num Changes = 145\n",
      "Step #240: Num Changes = 183\n",
      "Step #241: Num Changes = 143\n",
      "Step #242: Num Changes = 131\n",
      "Step #243: Num Changes = 98\n",
      "Step #244: Num Changes = 60\n",
      "Step #245: Num Changes = 115\n",
      "Step #246: Num Changes = 105\n",
      "Step #247: Num Changes = 83\n",
      "Step #248: Num Changes = 84\n",
      "Step #249: Num Changes = 72\n",
      "Step #250: Num Changes = 52\n",
      "Convergence!\n"
     ]
    }
   ],
   "source": [
    "MAX_STEPS = 300\n",
    "CHANGE_THRESHOLD = 0\n",
    "VERBOSE = False\n",
    "\n",
    "ratings = initial_ratings.copy()\n",
    "predictions = initial_predictions.copy()\n",
    "rec_distribution = list(initial_distribution_matrix)\n",
    "num_changes_over_time = []\n",
    "recommended_filmIDs_over_time = []\n",
    "\n",
    "for step in range(MAX_STEPS):\n",
    "    predictions = get_predicted_ratings(ratings)\n",
    "    ratings, rec_distribution, num_changes, recommended_filmIDs = \\\n",
    "            step_simulation(ratings, predictions, rec_distribution, verbose=VERBOSE)\n",
    "    num_changes_over_time.append(num_changes)\n",
    "    recommended_filmIDs_over_time.append(recommended_filmIDs)\n",
    "    if step > 0 and num_changes <= CHANGE_THRESHOLD:\n",
    "        print(\"Convergence!\")\n",
    "        break\n",
    "    print(\"Step #%d: Num Changes = %d\" % (step, num_changes))"
   ]
  },
  {
   "cell_type": "code",
   "execution_count": 15,
   "metadata": {},
   "outputs": [
    {
     "name": "stdout",
     "output_type": "stream",
     "text": [
      "(252, 30200)\n",
      "(252, 30200, 2)\n"
     ]
    }
   ],
   "source": [
    "# NUM_STEPS x (NUM_USERS * NUM_RECS) matrix of recommended filmIDs\n",
    "flattened_rec_filmIDs_over_time = np.array([x.flatten() for x in recommended_filmIDs_over_time])\n",
    "# NUM_STEPS x (NUM_USERS * NUM_RECS) x NUM_GENRES matrix of recommeneded film genre values\n",
    "flattened_rec_film_genres_over_time = np.array([\n",
    "    [films[int(filmID)][:NUM_GENRES] for filmID in step_filmIDs]\n",
    "    for step_filmIDs in flattened_rec_filmIDs_over_time\n",
    "])\n",
    "print(flattened_rec_filmIDs_over_time.shape)\n",
    "print(flattened_rec_film_genres_over_time.shape)"
   ]
  },
  {
   "cell_type": "code",
   "execution_count": 16,
   "metadata": {},
   "outputs": [
    {
     "data": {
      "image/png": "[encoded data removed]",
      "text/plain": [
       "<matplotlib.figure.Figure at 0x10ae3b350>"
      ]
     },
     "metadata": {},
     "output_type": "display_data"
    }
   ],
   "source": [
    "# Plot the recommendation distribution changes over time\n",
    "plt.plot(num_changes_over_time)\n",
    "plt.xlabel(\"Step\")\n",
    "plt.ylabel(\"# Distribution Changes\")\n",
    "plt.show()"
   ]
  },
  {
   "cell_type": "code",
   "execution_count": 17,
   "metadata": {},
   "outputs": [
    {
     "data": {
      "image/png": "[encoded data removed]",
      "text/plain": [
       "<matplotlib.figure.Figure at 0x10fa6eb10>"
      ]
     },
     "metadata": {},
     "output_type": "display_data"
    }
   ],
   "source": [
    "# A film is considered \"polarized\" if its highest\n",
    "# film genre value is above this threshold\n",
    "POLARIZED_FILM_THRESHOLD = 0.7\n",
    "\n",
    "def get_num_polarized_recs(step_rec_film_genres):\n",
    "    is_polarized = np.apply_along_axis(lambda x: max(x) > POLARIZED_FILM_THRESHOLD, 1, step_rec_film_genres)\n",
    "    return sum(is_polarized) / len(step_rec_film_genres)\n",
    "\n",
    "# Plot the percentage of recommended films that are polarized over time\n",
    "percent_polarized_recs_over_time = [get_num_polarized_recs(x) for x in flattened_rec_film_genres_over_time]\n",
    "plt.plot(percent_polarized_recs_over_time)\n",
    "plt.xlabel(\"Step\")\n",
    "plt.ylabel(\"% Polarized Film Recommendations\")\n",
    "plt.show()"
   ]
  },
  {
   "cell_type": "code",
   "execution_count": 18,
   "metadata": {},
   "outputs": [
    {
     "data": {
      "image/png": "[encoded data removed]",
      "text/plain": [
       "<matplotlib.figure.Figure at 0x10fc9f610>"
      ]
     },
     "metadata": {},
     "output_type": "display_data"
    }
   ],
   "source": [
    "def get_film_polarity(film_genre_vals):\n",
    "    max_val = max(film_genre_vals)\n",
    "    return 1.0 * sum([max_val - val for val in film_genre_vals]) / (len(film_genre_vals) - 1)\n",
    "\n",
    "def get_avg_film_polarity(step_rec_film_genres):\n",
    "    return np.mean(np.apply_along_axis(lambda x: get_film_polarity(x), 1, step_rec_film_genres), axis=0)\n",
    "\n",
    "# Plot the average polarity of the film recommendations over time\n",
    "# Polarity is defined here as the average difference between the\n",
    "# maximum genre value and the other genre values for a film\n",
    "avg_rec_film_polarity_over_time = [get_avg_film_polarity(x) for x in flattened_rec_film_genres_over_time]\n",
    "plt.plot(avg_rec_film_polarity_over_time)\n",
    "plt.xlabel(\"Step\")\n",
    "plt.ylabel(\"Average Recommended Film Polarity\")\n",
    "plt.show()"
   ]
  },
  {
   "cell_type": "code",
   "execution_count": 19,
   "metadata": {},
   "outputs": [
    {
     "data": {
      "image/png": "[encoded data removed]",
      "text/plain": [
       "<matplotlib.figure.Figure at 0x10f00a4d0>"
      ]
     },
     "metadata": {},
     "output_type": "display_data"
    }
   ],
   "source": [
    "def get_avg_genre_values(step_rec_film_genres):\n",
    "    return np.mean(step_rec_film_genres, axis=0)\n",
    "\n",
    "# Plot the distribution of recommended film genres over time\n",
    "avg_genre_values_over_time = np.array([get_avg_genre_values(x) for x in flattened_rec_film_genres_over_time])\n",
    "for genre in range(NUM_GENRES):\n",
    "    plt.plot(avg_genre_values_over_time[:,genre], label=\"Genre %d\" % (genre+1))\n",
    "plt.xlabel(\"Step\")\n",
    "plt.ylabel(\"Average Recommended Film Genre Value\")\n",
    "plt.legend()\n",
    "plt.show()"
   ]
  },
  {
   "cell_type": "markdown",
   "metadata": {},
   "source": [
    "### Observations:\n",
    "Note that the higher the `COMPATIBILITY_RATING_STRENGTH`, the greater the difference between the average rating and the film quality, as expected. In general, the average rating should be higher than the film quality, because films will be recommended to users that the algorithm predicts will like it. An average rating that is lower the film quality suggests that the recommender made poor decisions when recommending that film to users.\n",
    "\n",
    "Also note that higher quality films have more ratings, as they are recommended to more people."
   ]
  },
  {
   "cell_type": "code",
   "execution_count": 20,
   "metadata": {},
   "outputs": [
    {
     "name": "stdout",
     "output_type": "stream",
     "text": [
      "Sample Film\n",
      "-----------\n",
      "\n",
      "Film Matrix: [0.30045385 0.69954615 2.31118946]\n",
      "Film Quality: 2.3111894554587296\n",
      "Average Rating: 2.468227424749164\n"
     ]
    },
    {
     "data": {
      "text/plain": [
       "array([3., 1., 3., 2., 3., 3., 3., 3., 2., 2., 1., 3., 2., 1., 2., 3., 2.,\n",
       "       3., 2., 3., 2., 2., 2., 2., 2., 3., 2., 3., 2., 2., 3., 2., 3., 3.,\n",
       "       3., 3., 3., 3., 3., 3., 1., 3., 1., 1., 2., 2., 3., 2., 3., 3., 2.,\n",
       "       3., 3., 3., 2., 3., 3., 3., 2., 3., 2., 1., 2., 3., 3., 3., 3., 1.,\n",
       "       2., 3., 3., 2., 3., 3., 3., 2., 2., 3., 3., 1., 3., 2., 2., 3., 2.,\n",
       "       2., 3., 2., 3., 2., 3., 3., 1., 3., 3., 3., 3., 3., 2., 3., 2., 3.,\n",
       "       3., 3., 3., 3., 2., 3., 3., 2., 3., 3., 3., 3., 3., 2., 2., 2., 2.,\n",
       "       3., 3., 3., 2., 3., 3., 3., 2., 2., 2., 2., 1., 3., 3., 3., 3., 3.,\n",
       "       1., 1., 2., 1., 2., 3., 2., 2., 2., 3., 3., 2., 3., 2., 2., 2., 3.,\n",
       "       3., 3., 2., 2., 3., 3., 2., 3., 3., 3., 3., 1., 3., 3., 2., 2., 1.,\n",
       "       1., 3., 2., 3., 3., 3., 2., 3., 3., 3., 3., 3., 1., 3., 3., 2., 2.,\n",
       "       3., 1., 3., 3., 3., 2., 3., 3., 3., 3., 3., 2., 3., 2., 2., 2., 3.,\n",
       "       3., 3., 3., 3., 3., 3., 3., 3., 2., 3., 3., 2., 2., 2., 3., 2., 3.,\n",
       "       3., 3., 2., 3., 3., 2., 2., 2., 1., 3., 3., 3., 2., 3., 2., 3., 3.,\n",
       "       3., 1., 3., 2., 2., 1., 3., 2., 2., 2., 2., 3., 2., 2., 1., 2., 3.,\n",
       "       3., 2., 3., 2., 3., 3., 3., 2., 3., 3., 3., 2., 1., 3., 2., 3., 3.,\n",
       "       1., 3., 2., 3., 2., 3., 2., 2., 3., 2., 2., 3., 3., 2., 2., 3., 2.,\n",
       "       3., 3., 3., 3., 1., 2., 2., 3., 3., 2.])"
      ]
     },
     "metadata": {},
     "output_type": "display_data"
    },
    {
     "name": "stdout",
     "output_type": "stream",
     "text": [
      "\n",
      "\n",
      "Highest Rated Film\n",
      "------------------\n",
      "\n",
      "Film Matrix: [0.83305072 0.16694928 3.74813632]\n",
      "Film Quality: 3.748136319566657\n",
      "Average Rating: 4.12955779674166\n"
     ]
    },
    {
     "data": {
      "text/plain": [
       "array([5., 5., 5., ..., 4., 4., 4.])"
      ]
     },
     "metadata": {},
     "output_type": "display_data"
    },
    {
     "name": "stdout",
     "output_type": "stream",
     "text": [
      "\n",
      "Lowest Rated Film\n",
      "-----------------\n",
      "\n",
      "Film Matrix: [9.99835054e-01 1.64945538e-04 1.27773954e+00]\n",
      "Film Quality: 1.277739536258439\n",
      "Average Rating: 1.4022346368715084\n"
     ]
    },
    {
     "data": {
      "text/plain": [
       "array([1., 1., 2., 1., 1., 1., 2., 1., 2., 1., 1., 2., 1., 2., 2., 2., 1.,\n",
       "       2., 2., 1., 2., 2., 1., 1., 1., 1., 2., 1., 1., 1., 1., 1., 2., 2.,\n",
       "       1., 2., 1., 1., 1., 1., 2., 1., 1., 2., 2., 2., 2., 2., 2., 1., 2.,\n",
       "       2., 2., 2., 2., 1., 1., 2., 1., 1., 2., 1., 1., 1., 2., 2., 2., 1.,\n",
       "       1., 2., 2., 2., 1., 1., 2., 1., 1., 1., 1., 2., 1., 2., 2., 1., 1.,\n",
       "       2., 2., 1., 2., 1., 2., 1., 1., 2., 2., 1., 2., 1., 1., 1., 1., 1.,\n",
       "       1., 1., 1., 1., 2., 2., 2., 1., 1., 2., 1., 1., 2., 1., 1., 2., 1.,\n",
       "       1., 2., 1., 1., 1., 1., 2., 2., 1., 1., 1., 1., 1., 1., 1., 1., 2.,\n",
       "       2., 1., 1., 1., 1., 1., 2., 2., 1., 1., 1., 1., 1., 1., 1., 1., 2.,\n",
       "       1., 1., 1., 2., 1., 2., 1., 2., 1., 2., 1., 2., 1., 2., 1., 2., 2.,\n",
       "       1., 1., 2., 1., 2., 2., 1., 2., 1.])"
      ]
     },
     "metadata": {},
     "output_type": "display_data"
    }
   ],
   "source": [
    "def display_ratings_stats(filmID):\n",
    "    film_quality = films[filmID][QUALITY_PROP_IDX]\n",
    "    film_ratings = ratings_T[filmID]\n",
    "    film_ratings = film_ratings[film_ratings.nonzero()]\n",
    "    print(\"Film Matrix: \" + str(films[filmID]))\n",
    "    print(\"Film Quality: \" + str(film_quality))\n",
    "    print(\"Average Rating: \" + str(film_ratings.mean()))\n",
    "    display(film_ratings)\n",
    "\n",
    "# Print some stats about the film ratings\n",
    "ratings_T = ratings.T\n",
    "mean_ratings = np.true_divide(ratings_T.sum(1),(ratings_T!=0).sum(1))\n",
    "print(\"Sample Film\\n-----------\\n\")\n",
    "display_ratings_stats(0)\n",
    "print(\"\\n\\nHighest Rated Film\\n------------------\\n\")\n",
    "display_ratings_stats(np.argmax(mean_ratings))\n",
    "print(\"\\nLowest Rated Film\\n-----------------\\n\")\n",
    "display_ratings_stats(np.argmin(mean_ratings))"
   ]
  },
  {
   "cell_type": "code",
   "execution_count": 21,
   "metadata": {},
   "outputs": [
    {
     "name": "stdout",
     "output_type": "stream",
     "text": [
      "Film Matrix: [0.83305072 0.16694928 3.74813632]\n",
      "Film Quality: 3.748136319566657\n",
      "Average Rating: 4.12955779674166\n"
     ]
    },
    {
     "data": {
      "text/plain": [
       "array([5., 5., 5., ..., 4., 4., 4.])"
      ]
     },
     "metadata": {},
     "output_type": "display_data"
    },
    {
     "name": "stdout",
     "output_type": "stream",
     "text": [
      "Film Matrix: [0.31997945 0.68002055 3.743602  ]\n",
      "Film Quality: 3.7436019956712703\n",
      "Average Rating: 4.129109863672815\n"
     ]
    },
    {
     "data": {
      "text/plain": [
       "array([4., 4., 5., ..., 4., 4., 4.])"
      ]
     },
     "metadata": {},
     "output_type": "display_data"
    },
    {
     "name": "stdout",
     "output_type": "stream",
     "text": [
      "Film Matrix: [0.79612839 0.20387161 3.73347368]\n",
      "Film Quality: 3.733473675976301\n",
      "Average Rating: 4.122105263157895\n"
     ]
    },
    {
     "data": {
      "text/plain": [
       "array([4., 5., 4., ..., 4., 4., 4.])"
      ]
     },
     "metadata": {},
     "output_type": "display_data"
    },
    {
     "name": "stdout",
     "output_type": "stream",
     "text": [
      "Film Matrix: [0.25014077 0.74985923 3.74198937]\n",
      "Film Quality: 3.7419893713119934\n",
      "Average Rating: 4.106402164111812\n"
     ]
    },
    {
     "data": {
      "text/plain": [
       "array([3., 5., 5., ..., 4., 5., 4.])"
      ]
     },
     "metadata": {},
     "output_type": "display_data"
    },
    {
     "name": "stdout",
     "output_type": "stream",
     "text": [
      "Film Matrix: [0.61296732 0.38703268 3.72151786]\n",
      "Film Quality: 3.7215178588860565\n",
      "Average Rating: 4.100093545369504\n"
     ]
    },
    {
     "data": {
      "text/plain": [
       "array([3., 4., 4., ..., 4., 4., 5.])"
      ]
     },
     "metadata": {},
     "output_type": "display_data"
    },
    {
     "name": "stdout",
     "output_type": "stream",
     "text": [
      "Film Matrix: [0.80307022 0.19692978 3.70624069]\n",
      "Film Quality: 3.706240694469021\n",
      "Average Rating: 4.098958333333333\n"
     ]
    },
    {
     "data": {
      "text/plain": [
       "array([4., 5., 4., ..., 4., 4., 4.])"
      ]
     },
     "metadata": {},
     "output_type": "display_data"
    },
    {
     "name": "stdout",
     "output_type": "stream",
     "text": [
      "Film Matrix: [0.45419151 0.54580849 3.74235713]\n",
      "Film Quality: 3.7423571335025247\n",
      "Average Rating: 4.0864864864864865\n"
     ]
    },
    {
     "data": {
      "text/plain": [
       "array([4., 4., 5., ..., 5., 3., 4.])"
      ]
     },
     "metadata": {},
     "output_type": "display_data"
    },
    {
     "name": "stdout",
     "output_type": "stream",
     "text": [
      "Film Matrix: [0.15153014 0.84846986 3.724478  ]\n",
      "Film Quality: 3.7244779993423798\n",
      "Average Rating: 4.085998578535892\n"
     ]
    },
    {
     "data": {
      "text/plain": [
       "array([5., 2., 4., ..., 4., 5., 4.])"
      ]
     },
     "metadata": {},
     "output_type": "display_data"
    },
    {
     "name": "stdout",
     "output_type": "stream",
     "text": [
      "Film Matrix: [0.78210915 0.21789085 3.6989727 ]\n",
      "Film Quality: 3.6989727044768324\n",
      "Average Rating: 4.084179970972424\n"
     ]
    },
    {
     "data": {
      "text/plain": [
       "array([4., 4., 4., ..., 4., 2., 4.])"
      ]
     },
     "metadata": {},
     "output_type": "display_data"
    },
    {
     "name": "stdout",
     "output_type": "stream",
     "text": [
      "Film Matrix: [0.39376838 0.60623162 3.72571835]\n",
      "Film Quality: 3.7257183524260125\n",
      "Average Rating: 4.0726040658276865\n"
     ]
    },
    {
     "data": {
      "text/plain": [
       "array([4., 3., 4., ..., 4., 4., 4.])"
      ]
     },
     "metadata": {},
     "output_type": "display_data"
    }
   ],
   "source": [
    "sorted_movies = np.argsort(-mean_ratings)\n",
    "\n",
    "for i in range(10):\n",
    "    display_ratings_stats(sorted_movies[i])"
   ]
  },
  {
   "cell_type": "code",
   "execution_count": null,
   "metadata": {},
   "outputs": [],
   "source": []
  }
 ],
 "metadata": {
  "celltoolbar": "Raw Cell Format",
  "kernelspec": {
   "display_name": "Python 2",
   "language": "python",
   "name": "python2"
  },
  "language_info": {
   "codemirror_mode": {
    "name": "ipython",
    "version": 2
   },
   "file_extension": ".py",
   "mimetype": "text/x-python",
   "name": "python",
   "nbconvert_exporter": "python",
   "pygments_lexer": "ipython2",
   "version": "2.7.14"
  }
 },
 "nbformat": 4,
 "nbformat_minor": 2
}
