{
 "cells": [
  {
   "cell_type": "markdown",
   "metadata": {},
   "source": [
    "## TODO:\n",
    " * Give each film a notion of quality\n",
    " * Give each user a baseline rating: to emulate how some users rate higher than others\n",
    " * Implement different user behaviors in response to recommendations"
   ]
  },
  {
   "cell_type": "code",
   "execution_count": 1,
   "metadata": {},
   "outputs": [],
   "source": [
    "%matplotlib inline\n",
    "import matplotlib.pyplot as plt\n",
    "import pandas as pd\n",
    "import numpy as np\n",
    "import random\n",
    "from scipy.sparse.linalg import svds\n",
    "from IPython.display import display"
   ]
  },
  {
   "cell_type": "markdown",
   "metadata": {},
   "source": [
    "## Setup\n",
    "\n",
    "We have two types of movies, type 1 and type 2. Each movie has a vector assciotated with them, [x,y]. x and y are binary variables with possible values of 0 and 1. x = 1 means that the film is of type 1, and y = 1 means that the film is of type2.\n",
    "Each user also has a hidden vector associated with him or her, [b,c], where b and c are preferences for type 1 and type 2 films respectively. $0 \\leq b,c \\leq 1$ and $b + c = 1$. If a user's perference for a type of film is [a,b], then this user has $a$ chance of accepting recommendations of films of type 1 and $b$ chance of accepting recommendations of films of type 2. This user will rate a film of type 1: $a*5 $"
   ]
  },
  {
   "cell_type": "code",
   "execution_count": 2,
   "metadata": {},
   "outputs": [],
   "source": [
    "# Total number of film genres and maximum number\n",
    "# of genres a single film may belong to\n",
    "NUM_GENRES = 4\n",
    "MAX_FILM_GENRES = 2\n",
    "\n",
    "# Maximum film rating (e.g. 5 uses the rating scale 0-5)\n",
    "MAX_RATING = 5\n",
    "\n",
    "# Higher values = stronger user genre preferences\n",
    "# Use higher values with higher NUM_GENRES values\n",
    "# Reasonable values are probably b/w 0.1 and 10\n",
    "USER_POLARIZATION_STRENGTH = 1\n",
    "\n",
    "def generate_users(number_of_users):\n",
    "    \"\"\"\n",
    "    Generate a user matrix, where each row of the\n",
    "    matrix stores the properties of a user:\n",
    "    [genre1_preference, ..., genreN_preference]\n",
    "    \n",
    "    The genre preferences of each user sum to 1.\n",
    "    \"\"\"\n",
    "    results = []\n",
    "    for i in range(number_of_users):\n",
    "        user_prefs = np.random.dirichlet(\n",
    "                np.ones(NUM_GENRES)/USER_POLARIZATION_STRENGTH, size=1)[0]\n",
    "        results.append(user_prefs)\n",
    "    return np.array(results)\n",
    "\n",
    "def generate_films(number_of_films):\n",
    "    \"\"\"\n",
    "    Generate a film matrix, where each row of the\n",
    "    matrix represents the properties of a film:\n",
    "    [is_genre1, ..., is_genreN]\n",
    "    \n",
    "    The is_genre values will either be 0 or 1.\n",
    "    \"\"\"\n",
    "    results = []\n",
    "    for i in range(number_of_films):\n",
    "        film_genres = np.zeros(NUM_GENRES)\n",
    "        film_genres[random.sample(np.arange(NUM_GENRES), \n",
    "                random.randint(1, MAX_FILM_GENRES))] = 1\n",
    "        results.append(film_genres)\n",
    "    return np.array(results)"
   ]
  },
  {
   "cell_type": "code",
   "execution_count": 3,
   "metadata": {},
   "outputs": [],
   "source": [
    "def get_user_film_compatibility(userID, filmID):\n",
    "    \"\"\"\n",
    "    Returns a value between 0 and 1 indicating how much\n",
    "    a user's preferences aligns with the film's genre(s).\n",
    "    \"\"\"\n",
    "    user_prefs = users[userID][:NUM_GENRES]\n",
    "    film_genres = films[filmID][:NUM_GENRES]\n",
    "    return np.sum(user_prefs * film_genres)\n",
    "\n",
    "def generate_initial_ratings(users, films, view_rate, rescale_to_midline=False):\n",
    "    \"\"\"\n",
    "    Generates a (num_films, num_users) rating matrix, where\n",
    "    each row represents the ratings that film has received\n",
    "    from all users.\n",
    "    \n",
    "    view_rate is the chance a user will view a given film.\n",
    "    \n",
    "    If rescale_to_midline is True, the ratings are scaled\n",
    "    such that mean of non-zero ratings is MAX_RATING / 2.\n",
    "    \"\"\"\n",
    "    results = []\n",
    "    for filmID in range(films.shape[0]):\n",
    "        film_ratings = []\n",
    "        for userID in range(users.shape[0]):\n",
    "            ran = random.uniform(0,1)\n",
    "            if (ran <= view_rate):\n",
    "                rating = MAX_RATING * get_user_film_compatibility(userID, filmID)\n",
    "                film_ratings.append(rating)\n",
    "            else:\n",
    "                film_ratings.append(0)\n",
    "        results.append(film_ratings)\n",
    "    results = np.array(results)\n",
    "    # Perform rescaling if necessary\n",
    "    if rescale_to_midline:\n",
    "        results = results * ((MAX_RATING / 2.0) / (results[results.nonzero()].mean()))\n",
    "        results = np.clip(results, 0, MAX_RATING)\n",
    "    return results"
   ]
  },
  {
   "cell_type": "code",
   "execution_count": 4,
   "metadata": {},
   "outputs": [
    {
     "name": "stdout",
     "output_type": "stream",
     "text": [
      "Mean compatibility: 0.366729\n",
      "Max absolute compatibility: 0.988989\n"
     ]
    },
    {
     "data": {
      "text/plain": [
       "array([[0.        , 0.        , 0.        , ..., 0.        , 0.        ,\n",
       "        0.        ],\n",
       "       [0.        , 0.        , 0.        , ..., 0.        , 2.00081202,\n",
       "        0.        ],\n",
       "       [0.        , 0.        , 3.2917405 , ..., 0.        , 0.        ,\n",
       "        0.        ],\n",
       "       ...,\n",
       "       [0.        , 0.        , 0.        , ..., 0.        , 0.        ,\n",
       "        0.        ],\n",
       "       [0.        , 0.        , 0.        , ..., 0.        , 0.        ,\n",
       "        0.        ],\n",
       "       [0.        , 0.        , 0.38744713, ..., 0.        , 0.        ,\n",
       "        0.        ]])"
      ]
     },
     "metadata": {},
     "output_type": "display_data"
    },
    {
     "name": "stdout",
     "output_type": "stream",
     "text": [
      "(3883, 6040)\n"
     ]
    }
   ],
   "source": [
    "NUM_USERS = 6040 # 6040\n",
    "NUM_FILMS = 3883 # 3883\n",
    "INITIAL_VIEWING_RATE = 0.05 # 0.05\n",
    "RESCALE_TO_MIDLINE = True\n",
    "\n",
    "users = generate_users(NUM_USERS)\n",
    "films = generate_films(NUM_FILMS)\n",
    "initial_ratings = generate_initial_ratings(users, films,\n",
    "        INITIAL_VIEWING_RATE, rescale_to_midline=RESCALE_TO_MIDLINE)\n",
    "\n",
    "compats = []\n",
    "sample_userIDs = random.sample(np.arange(NUM_USERS), min(500, NUM_USERS))\n",
    "sample_filmIDs = random.sample(np.arange(NUM_FILMS), min(500, NUM_FILMS))\n",
    "for userID in sample_userIDs:\n",
    "    for filmID in sample_filmIDs:\n",
    "        compats.append(get_user_film_compatibility(userID, filmID))\n",
    "mean_compatibility = 1.0 * sum(compats) / len(compats)\n",
    "max_abs_compatibility = max(max(compats), abs(min(compats)))\n",
    "\n",
    "print(\"Mean compatibility: %f\" % mean_compatibility)\n",
    "print(\"Max absolute compatibility: %f\" % max_abs_compatibility)\n",
    "display(initial_ratings)\n",
    "print(initial_ratings.shape)"
   ]
  },
  {
   "cell_type": "code",
   "execution_count": 5,
   "metadata": {},
   "outputs": [
    {
     "data": {
      "text/plain": [
       "array([[0., 0., 0., ..., 0., 0., 0.],\n",
       "       [0., 0., 0., ..., 0., 0., 0.],\n",
       "       [0., 0., 0., ..., 0., 0., 0.],\n",
       "       ...,\n",
       "       [0., 0., 0., ..., 0., 0., 0.],\n",
       "       [0., 0., 0., ..., 0., 0., 0.],\n",
       "       [0., 0., 0., ..., 0., 0., 0.]])"
      ]
     },
     "metadata": {},
     "output_type": "display_data"
    },
    {
     "name": "stdout",
     "output_type": "stream",
     "text": [
      "(6040, 3883)\n"
     ]
    }
   ],
   "source": [
    "# The number of singular values to compute with SVD\n",
    "# Larger values give more accurate predictions, but\n",
    "# take longer to compute (and give longer simulator\n",
    "# convergence times)\n",
    "# Reasonable values are probably b/w 10 and 50\n",
    "K_VAL = 10\n",
    "\n",
    "def get_predicted_ratings(actual_ratings):\n",
    "    \"\"\"\n",
    "    Returns a (num_users, num_films) matrix containing\n",
    "    the predicted ratings each user would each film.\n",
    "    \"\"\"\n",
    "    # Only consider non-zero ratings when calculating the mean\n",
    "    masked_user_ratings = np.ma.masked_equal(initial_ratings.T, 0)\n",
    "    user_ratings_mean = masked_user_ratings.mean(axis=1).data\n",
    "    # Calculate SVD values of demeaned ratings + estimate new ratings\n",
    "    R_demeaned = actual_ratings.T - user_ratings_mean.reshape(-1, 1)\n",
    "    U, sigma, Vt = svds(R_demeaned, k=K_VAL)\n",
    "    sigma = np.diag(sigma)\n",
    "    predicted_ratings = np.round(np.dot(np.dot(U, sigma), Vt) +\n",
    "            user_ratings_mean.reshape(-1, 1))\n",
    "    return predicted_ratings\n",
    "\n",
    "example_predictions = get_predicted_ratings(initial_ratings)\n",
    "display(example_predictions)\n",
    "print(example_predictions.shape)"
   ]
  },
  {
   "cell_type": "markdown",
   "metadata": {},
   "source": [
    "Question: Should we also recommend videos that users have already viewed? At least for me, Youtube recommends videos that I have already watched all the time."
   ]
  },
  {
   "cell_type": "code",
   "execution_count": 6,
   "metadata": {},
   "outputs": [
    {
     "name": "stdout",
     "output_type": "stream",
     "text": [
      "Example Film Recommendations: [1300, 1301, 1302, 1274, 3882]\n",
      "Example Distribution: [0, 4, 1, 2]\n"
     ]
    }
   ],
   "source": [
    "def get_recommendations(predicted_ratings, userID, num_recommendations=5):\n",
    "    \"\"\"\n",
    "    Returns the filmIDs of the top num_recommendations\n",
    "    film recommendations for the user with the userID.\n",
    "    \"\"\"\n",
    "    predicted_user_ratings = predicted_ratings[userID]\n",
    "    recommendations = np.argsort(predicted_user_ratings)[-num_recommendations:]\n",
    "    return recommendations\n",
    "\n",
    "def give_recommendations(predicted_ratings, userID):\n",
    "    \"\"\"\n",
    "    Recommends films to the user, and returns a tuple\n",
    "    containing the recommended film IDs, and counts\n",
    "    of the recommendations received of each film genre.\n",
    "    \"\"\"\n",
    "    recommended_filmIDs = get_recommendations(predicted_ratings, userID).tolist()\n",
    "    film_recs = films[recommended_filmIDs, :]\n",
    "    genre_counts = [int(sum(film_recs[:, genre_idx]))\n",
    "            for genre_idx in range(NUM_GENRES)]\n",
    "    return (recommended_filmIDs, genre_counts)\n",
    "\n",
    "example_recs = give_recommendations(example_predictions, 0)\n",
    "print(\"Example Film Recommendations: \" + str(example_recs[0]))\n",
    "print(\"Example Distribution: \" + str(example_recs[1]))"
   ]
  },
  {
   "cell_type": "markdown",
   "metadata": {},
   "source": [
    "## Run the Simulation:"
   ]
  },
  {
   "cell_type": "code",
   "execution_count": 7,
   "metadata": {},
   "outputs": [
    {
     "data": {
      "text/plain": [
       "[[0, 4, 1, 2],\n",
       " [0, 4, 1, 2],\n",
       " [0, 4, 1, 2],\n",
       " [0, 4, 1, 2],\n",
       " [0, 5, 0, 5],\n",
       " [0, 4, 1, 2],\n",
       " [3, 3, 4, 0],\n",
       " [0, 4, 1, 2],\n",
       " [1, 1, 3, 4],\n",
       " [0, 4, 1, 2]]"
      ]
     },
     "metadata": {},
     "output_type": "display_data"
    }
   ],
   "source": [
    "initial_predictions = get_predicted_ratings(initial_ratings)\n",
    "\n",
    "# A (num_users, num_genres) matrix where each row\n",
    "# is the number of recommendations that user has\n",
    "# received of each film genre\n",
    "initial_distribution_matrix = []\n",
    "\n",
    "# Get the initial recommendation genre distribution\n",
    "for userID in range(users.shape[0]):\n",
    "    (recommended_filmIDs, type_counts) = give_recommendations(initial_predictions, userID)\n",
    "    initial_distribution_matrix.append(type_counts)\n",
    "\n",
    "display(initial_distribution_matrix[:10])"
   ]
  },
  {
   "cell_type": "code",
   "execution_count": 8,
   "metadata": {},
   "outputs": [],
   "source": [
    "# Determines how much a user's compatibility with \n",
    "# the film affects the final rating. The final\n",
    "# rating given will be mean_rating + [-CRS, +CRS]\n",
    "COMPATIBILITY_RATING_STRENGTH = 1\n",
    "\n",
    "def step_simulation(actual_ratings, predicted_ratings,\n",
    "                    rec_genre_counts, verbose=False):\n",
    "    \"\"\"\n",
    "    Runs one step of the simulation:\n",
    "    \n",
    "    Gives new recommendations to each user, and simulates them\n",
    "    viewing + rating a random selection of them.\n",
    "    \n",
    "    Returns the new rating matrix, the new distribution matrix of\n",
    "    recommended film genres, and the # of changes in this matrix.\n",
    "    \n",
    "    If verbose is True, prints extra debugging information.\n",
    "    \"\"\"\n",
    "    new_ratings = actual_ratings.copy()\n",
    "    new_distribution_matrix = []\n",
    "    num_distribution_changes = 0\n",
    "    \n",
    "    for userID in range(users.shape[0]):\n",
    "        user = users[userID]\n",
    "        (recommended_filmIDs, new_genre_counts) = \\\n",
    "                give_recommendations(predicted_ratings, userID)\n",
    "        new_distribution_matrix.append(new_genre_counts)\n",
    "        \n",
    "        # Check for changes in the user's recommendation distribution\n",
    "        if (new_genre_counts[0] != rec_genre_counts[userID][0]) or \\\n",
    "                (new_genre_counts[1] != rec_genre_counts[userID][1]):\n",
    "            num_distribution_changes += 1\n",
    "        \n",
    "        # Determine whether the user will watch each\n",
    "        # recommended film, and assign a rating if so\n",
    "        for filmID in recommended_filmIDs:\n",
    "            compatibility = get_user_film_compatibility(userID, filmID)\n",
    "            ran = random.uniform(0,1)\n",
    "            if ran <= compatibility:\n",
    "                film_ratings = actual_ratings[:, filmID]\n",
    "                mean_rating = np.mean(film_ratings[film_ratings.nonzero()])\n",
    "                # Convert user-film compatibility into a value from -CRS to CRS\n",
    "                compat_influence = ((compatibility - mean_compatibility)\n",
    "                        / max_abs_compatibility) * COMPATIBILITY_RATING_STRENGTH\n",
    "                rating = max(min(round(mean_rating + compat_influence), MAX_RATING), 0)\n",
    "                new_ratings[filmID, userID] = rating\n",
    "\n",
    "    return (new_ratings, new_distribution_matrix, num_distribution_changes)"
   ]
  },
  {
   "cell_type": "code",
   "execution_count": 9,
   "metadata": {},
   "outputs": [
    {
     "name": "stdout",
     "output_type": "stream",
     "text": [
      "Step #0: Num Changes = 0\n",
      "Step #1: Num Changes = 3852\n",
      "Step #2: Num Changes = 4700\n",
      "Step #3: Num Changes = 4452\n",
      "Step #4: Num Changes = 4045\n",
      "Step #5: Num Changes = 3403\n",
      "Step #6: Num Changes = 2876\n",
      "Step #7: Num Changes = 2472\n",
      "Step #8: Num Changes = 2134\n",
      "Step #9: Num Changes = 1929\n",
      "Step #10: Num Changes = 1638\n",
      "Step #11: Num Changes = 1495\n",
      "Step #12: Num Changes = 1268\n",
      "Step #13: Num Changes = 1091\n",
      "Step #14: Num Changes = 1005\n",
      "Step #15: Num Changes = 837\n",
      "Step #16: Num Changes = 761\n",
      "Step #17: Num Changes = 658\n",
      "Step #18: Num Changes = 626\n",
      "Step #19: Num Changes = 608\n",
      "Step #20: Num Changes = 502\n",
      "Step #21: Num Changes = 439\n",
      "Step #22: Num Changes = 386\n",
      "Step #23: Num Changes = 370\n",
      "Step #24: Num Changes = 367\n",
      "Step #25: Num Changes = 306\n",
      "Step #26: Num Changes = 281\n",
      "Step #27: Num Changes = 249\n",
      "Step #28: Num Changes = 237\n",
      "Step #29: Num Changes = 208\n",
      "Step #30: Num Changes = 184\n",
      "Step #31: Num Changes = 233\n",
      "Step #32: Num Changes = 168\n",
      "Step #33: Num Changes = 151\n",
      "Step #34: Num Changes = 155\n",
      "Step #35: Num Changes = 212\n",
      "Step #36: Num Changes = 166\n",
      "Step #37: Num Changes = 156\n",
      "Step #38: Num Changes = 116\n",
      "Step #39: Num Changes = 148\n",
      "Step #40: Num Changes = 123\n",
      "Step #41: Num Changes = 97\n",
      "Step #42: Num Changes = 80\n",
      "Step #43: Num Changes = 76\n",
      "Step #44: Num Changes = 51\n",
      "Step #45: Num Changes = 63\n",
      "Step #46: Num Changes = 70\n",
      "Step #47: Num Changes = 58\n",
      "Step #48: Num Changes = 27\n",
      "Step #49: Num Changes = 34\n",
      "Step #50: Num Changes = 31\n",
      "Step #51: Num Changes = 25\n",
      "Step #52: Num Changes = 24\n",
      "Step #53: Num Changes = 10\n",
      "Step #54: Num Changes = 27\n",
      "Step #55: Num Changes = 49\n",
      "Step #56: Num Changes = 40\n",
      "Step #57: Num Changes = 19\n",
      "Step #58: Num Changes = 7\n",
      "Step #59: Num Changes = 22\n",
      "Step #60: Num Changes = 21\n",
      "Step #61: Num Changes = 16\n",
      "Convergence!\n"
     ]
    }
   ],
   "source": [
    "MAX_STEPS = 200\n",
    "CHANGE_THRESHOLD = 0\n",
    "VERBOSE = False\n",
    "\n",
    "ratings = initial_ratings.copy()\n",
    "predictions = initial_predictions.copy()\n",
    "rec_distribution = list(initial_distribution_matrix)\n",
    "num_changes_over_time = []\n",
    "\n",
    "for step in range(MAX_STEPS):\n",
    "    predictions = get_predicted_ratings(ratings)\n",
    "    ratings, rec_distribution, num_changes = step_simulation(ratings,\n",
    "            predictions, rec_distribution, verbose=VERBOSE)\n",
    "    num_changes_over_time.append(num_changes)\n",
    "    if step > 0 and num_changes <= CHANGE_THRESHOLD:\n",
    "        print(\"Convergence!\")\n",
    "        break\n",
    "    print(\"Step #%d: Num Changes = %d\" % (step, num_changes))"
   ]
  },
  {
   "cell_type": "code",
   "execution_count": 10,
   "metadata": {},
   "outputs": [
    {
     "data": {
      "image/png": "[encoded data removed]",
      "text/plain": [
       "<matplotlib.figure.Figure at 0x10ae816d0>"
      ]
     },
     "metadata": {},
     "output_type": "display_data"
    }
   ],
   "source": [
    "# Plot the recommendation distribution changes over time\n",
    "plt.plot(num_changes_over_time)\n",
    "plt.xlabel(\"Step\")\n",
    "plt.ylabel(\"# Distribution Changes\")\n",
    "plt.show()"
   ]
  },
  {
   "cell_type": "code",
   "execution_count": null,
   "metadata": {},
   "outputs": [],
   "source": []
  }
 ],
 "metadata": {
  "kernelspec": {
   "display_name": "Python 2",
   "language": "python",
   "name": "python2"
  },
  "language_info": {
   "codemirror_mode": {
    "name": "ipython",
    "version": 2
   },
   "file_extension": ".py",
   "mimetype": "text/x-python",
   "name": "python",
   "nbconvert_exporter": "python",
   "pygments_lexer": "ipython2",
   "version": "2.7.14"
  }
 },
 "nbformat": 4,
 "nbformat_minor": 2
}
