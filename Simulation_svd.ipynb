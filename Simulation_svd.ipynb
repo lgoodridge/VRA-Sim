{
 "cells": [
  {
   "cell_type": "markdown",
   "metadata": {},
   "source": [
    "## Simulator Feature Wishlist:\n",
    " * Have the recommender weight unwatched videos higher + have users more willing to watch new videos\n",
    " * Give each user a baseline rating: to emulate how some users rate higher than others\n",
    " * (WIP) Implement different user behaviors in response to recommendations\n",
    "\n",
    "## Potential Things to Look Into:\n",
    " * Should film genres also be percentages instead of binary is or is not values? Some videos are definitely more of one genre than another, so assigning them binary values removes that information from the simulator\n",
    " * Perhaps have a more in-depth matrix of metadata for videos (e.g. vectors indicating authors / directors, run time, etc.)? This could potentially allow for more realistic viewing / recommendation schemes and also allow for more complex user simulated behaviors"
   ]
  },
  {
   "cell_type": "code",
   "execution_count": 2,
   "metadata": {},
   "outputs": [],
   "source": [
    "%matplotlib inline\n",
    "from __future__ import division\n",
    "import matplotlib.pyplot as plt\n",
    "import pandas as pd\n",
    "import numpy as np\n",
    "import random\n",
    "from scipy.sparse.linalg import svds\n",
    "from IPython.display import display"
   ]
  },
  {
   "cell_type": "markdown",
   "metadata": {},
   "source": [
    "## Setup\n",
    "\n",
    "We have two types of movies, type 1 and type 2. Each movie has a vector assciotated with them, [x,y]. x and y are binary variables with possible values of 0 and 1. x = 1 means that the film is of type 1, and y = 1 means that the film is of type2.\n",
    "Each user also has a hidden vector associated with him or her, [b,c], where b and c are preferences for type 1 and type 2 films respectively. $0 \\leq b,c \\leq 1$ and $b + c = 1$. If a user's perference for a type of film is [a,b], then this user has $a$ chance of accepting recommendations of films of type 1 and $b$ chance of accepting recommendations of films of type 2. This user will rate a film of type 1: $a*5 $"
   ]
  },
  {
   "cell_type": "code",
   "execution_count": 3,
   "metadata": {},
   "outputs": [],
   "source": [
    "# Total number of film genres and maximum number\n",
    "# of genres a single film may belong to\n",
    "NUM_GENRES = 2\n",
    "MAX_FILM_GENRES = 2\n",
    "\n",
    "# Maximum film rating (e.g. 5 uses the rating scale 0-5)\n",
    "MAX_RATING = 5\n",
    "\n",
    "# Higher values = stronger user genre preferences\n",
    "# Use higher values with higher NUM_GENRES values\n",
    "# Reasonable values are probably b/w 0.1 and 10\n",
    "USER_POLARIZATION_STRENGTH = 1\n",
    "FILM_POLARIZATION_STRENGTH = 1\n",
    "\n",
    "# A user's \"behavior\" determines how a user chooses\n",
    "# which video(s) to watch at each simulation step\n",
    "# NAMES is a one-word description of each behavior,\n",
    "# and DISTRIBUTION determines the ratio of behaviors\n",
    "# among the created users\n",
    "BEHAVIOR_PROP_IDX = NUM_GENRES\n",
    "BEHAVIOR_NAMES = ['follower', 'stubborn', 'mixed']\n",
    "BEHAVIOR_DISTRIBUTION = [1, 1, 1]\n",
    "\n",
    "# If False, all users only consider recommended\n",
    "# videos when deciding what to watch next\n",
    "USE_BEHAVIOR = True\n",
    "\n",
    "# A film's \"quality\" determines the mean rating\n",
    "# of the film, and is used as the baseline which\n",
    "# user preferences modify to get the final rating\n",
    "QUALITY_PROP_IDX = NUM_GENRES\n",
    "QUALITY_MIN = MAX_RATING / 4.0\n",
    "QUALITY_MAX = 3 * MAX_RATING / 4.0\n",
    "\n",
    "# If False, the average film rating is used as the\n",
    "# baseline when calculating new ratings instead\n",
    "USE_QUALITY = False\n",
    "\n",
    "# Validate and standardize the behavior configuration parameters\n",
    "if len(BEHAVIOR_NAMES) != len(BEHAVIOR_DISTRIBUTION):\n",
    "    raise ValueError(\"BEHAVIOR_NAMES and BEHAVIOR_DISTRIBUTION \"\n",
    "            \"must have the same length.\")\n",
    "BEHAVIOR_NAMES = np.array(BEHAVIOR_NAMES)\n",
    "BEHAVIOR_DISTRIBUTION = np.array(BEHAVIOR_DISTRIBUTION) / float(sum(BEHAVIOR_DISTRIBUTION))"
   ]
  },
  {
   "cell_type": "code",
   "execution_count": 4,
   "metadata": {},
   "outputs": [],
   "source": [
    "def generate_users(number_of_users):\n",
    "    \"\"\"\n",
    "    Generate a user matrix, where each row of the\n",
    "    matrix stores the properties of a user:\n",
    "    [genre1_preference, ..., genreN_preference, behavior]\n",
    "    \n",
    "    The genre preferences of each user sum to 1.\n",
    "    behavior will be an integer b/w 0 and num_behaviors\n",
    "    \"\"\"\n",
    "    results = []\n",
    "    for i in range(number_of_users):\n",
    "        user_prefs = np.random.dirichlet(\n",
    "                np.ones(NUM_GENRES)/USER_POLARIZATION_STRENGTH, size=1)[0]\n",
    "        behavior = np.random.choice(np.arange(len(BEHAVIOR_NAMES)),\n",
    "                p=BEHAVIOR_DISTRIBUTION)\n",
    "        user_props = np.append(user_prefs, behavior)\n",
    "        results.append(user_props)\n",
    "    return np.array(results)\n",
    "\n",
    "def generate_films(number_of_films):\n",
    "    \"\"\"\n",
    "    Generate a film matrix, where each row of the\n",
    "    matrix represents the properties of a film:\n",
    "    [is_genre1, ..., is_genreN, quality]\n",
    "    \n",
    "    The is_genre values will either be 0 or 1.\n",
    "    quality will be b/w QUALITY_MIN and QUALITY_MAX.\n",
    "    \"\"\"\n",
    "    results = []\n",
    "    for i in range(number_of_films):\n",
    "        film_genres = np.random.dirichlet(\n",
    "                np.ones(NUM_GENRES)/FILM_POLARIZATION_STRENGTH, size=1)[0]\n",
    "        quality = random.uniform(QUALITY_MIN, QUALITY_MAX)\n",
    "        film_props = np.append(film_genres, quality)\n",
    "        results.append(film_props)\n",
    "    return np.array(results)"
   ]
  },
  {
   "cell_type": "code",
   "execution_count": 5,
   "metadata": {},
   "outputs": [
    {
     "data": {
      "text/plain": [
       "array([[0.49336087, 0.50663913, 0.        ],\n",
       "       [0.89879933, 0.10120067, 2.        ],\n",
       "       [0.54439398, 0.45560602, 1.        ],\n",
       "       ...,\n",
       "       [0.78576104, 0.21423896, 2.        ],\n",
       "       [0.21348972, 0.78651028, 2.        ],\n",
       "       [0.67114736, 0.32885264, 1.        ]])"
      ]
     },
     "metadata": {},
     "output_type": "display_data"
    },
    {
     "name": "stdout",
     "output_type": "stream",
     "text": [
      "(6040, 3)\n"
     ]
    },
    {
     "data": {
      "text/plain": [
       "array([[0.62863217, 0.37136783, 1.92533358],\n",
       "       [0.82420506, 0.17579494, 2.74813741],\n",
       "       [0.56345112, 0.43654888, 1.94378413],\n",
       "       ...,\n",
       "       [0.96932228, 0.03067772, 1.3969618 ],\n",
       "       [0.0222542 , 0.9777458 , 3.1415633 ],\n",
       "       [0.23941251, 0.76058749, 3.19510203]])"
      ]
     },
     "metadata": {},
     "output_type": "display_data"
    },
    {
     "name": "stdout",
     "output_type": "stream",
     "text": [
      "(3883, 3)\n"
     ]
    }
   ],
   "source": [
    "NUM_USERS = 6040 # 6040\n",
    "NUM_FILMS = 3883 # 3883\n",
    "\n",
    "users = generate_users(NUM_USERS)\n",
    "films = generate_films(NUM_FILMS)\n",
    "\n",
    "display(users)\n",
    "print(users.shape)\n",
    "display(films)\n",
    "print(films.shape)"
   ]
  },
  {
   "cell_type": "code",
   "execution_count": 6,
   "metadata": {},
   "outputs": [
    {
     "name": "stdout",
     "output_type": "stream",
     "text": [
      "Mean compatibility: 0.675012\n",
      "Max absolute compatibility: 1.991889\n"
     ]
    }
   ],
   "source": [
    "def get_user_film_compatibility(userID, filmID):\n",
    "    \"\"\"\n",
    "    Returns a value between 0 and 1 indicating how much\n",
    "    a user's preferences aligns with the film's genre(s).\n",
    "    \"\"\"\n",
    "    user_prefs = users[userID][:NUM_GENRES]\n",
    "    film_genres = films[filmID][:NUM_GENRES]\n",
    "    return np.sum(np.abs(user_prefs - film_genres))\n",
    "\n",
    "# Compute the compatabilities of a random sample of users\n",
    "# and films, so some stats can be calcuated on them\n",
    "compats = []\n",
    "sample_userIDs = random.sample(np.arange(NUM_USERS), min(500, NUM_USERS))\n",
    "sample_filmIDs = random.sample(np.arange(NUM_FILMS), min(500, NUM_FILMS))\n",
    "for userID in sample_userIDs:\n",
    "    for filmID in sample_filmIDs:\n",
    "        compats.append(get_user_film_compatibility(userID, filmID))\n",
    "\n",
    "mean_compatibility = 1.0 * sum(compats) / len(compats)\n",
    "max_abs_compatibility = max(max(compats), abs(min(compats)))\n",
    "\n",
    "print(\"Mean compatibility: %f\" % mean_compatibility)\n",
    "print(\"Max absolute compatibility: %f\" % max_abs_compatibility)"
   ]
  },
  {
   "cell_type": "code",
   "execution_count": 7,
   "metadata": {},
   "outputs": [],
   "source": [
    "# Determines how much a user's compatibility with \n",
    "# the film affects the final rating. The final\n",
    "# rating given will be mean_film_rating + x,\n",
    "# where -CRS <= x <= CRS\n",
    "COMPATIBILITY_RATING_STRENGTH = 3\n",
    "\n",
    "def get_user_film_rating(userID, filmID, actual_ratings=None, is_initial_rating=False):\n",
    "    \"\"\"\n",
    "    Returns a value between 0 and MAX_RATING indicating the\n",
    "    rating the user would give the film upon watching it.\n",
    "    \n",
    "    actual_ratings must be provided when USE_QUALITY and\n",
    "    is_initial_rating is False, so the current mean rating\n",
    "    of the film can be calculated.\n",
    "    \n",
    "    is_initial_rating should be set True when generating the\n",
    "    starting ratings for the film.\n",
    "    \"\"\"\n",
    "    compatibility = get_user_film_compatibility(userID, filmID)\n",
    "    \n",
    "    if USE_QUALITY:\n",
    "        base_rating = films[filmID][QUALITY_PROP_IDX]\n",
    "    else:\n",
    "        if is_initial_rating:\n",
    "            return round(MAX_RATING * compatibility)\n",
    "        else:\n",
    "            film_ratings = actual_ratings[:, filmID]\n",
    "            base_rating = np.mean(film_ratings[film_ratings.nonzero()])\n",
    "\n",
    "    # Convert compatibility to a value within [-CRS, +CRS]\n",
    "    compat_influence = ((compatibility - mean_compatibility)\n",
    "            / max_abs_compatibility) * COMPATIBILITY_RATING_STRENGTH\n",
    "    return max(min(round(base_rating + compat_influence), MAX_RATING), 0)\n",
    "\n",
    "def generate_initial_ratings(users, films, view_rate, rescale_to_midline=False):\n",
    "    \"\"\"\n",
    "    Generates a (num_films, num_users) rating matrix, where\n",
    "    each row represents the ratings that film has received\n",
    "    from all users.\n",
    "    \n",
    "    view_rate is the chance a user will view a given film.\n",
    "    \n",
    "    If rescale_to_midline is True, the ratings are scaled\n",
    "    such that mean of non-zero ratings is MAX_RATING / 2.\n",
    "    \"\"\"\n",
    "    results = []\n",
    "    for filmID in range(films.shape[0]):\n",
    "        film_ratings = []\n",
    "        for userID in range(users.shape[0]):\n",
    "            ran = random.uniform(0,1)\n",
    "            if (ran <= view_rate):\n",
    "                rating = get_user_film_rating(userID, filmID, is_initial_rating=True)\n",
    "                film_ratings.append(rating)\n",
    "            else:\n",
    "                film_ratings.append(0)\n",
    "        results.append(film_ratings)\n",
    "    results = np.array(results)\n",
    "    # Perform rescaling if necessary\n",
    "    if rescale_to_midline:\n",
    "        results = results * ((MAX_RATING / 2.0) / (results[results.nonzero()].mean()))\n",
    "        results = np.clip(np.round(results), 0, MAX_RATING)\n",
    "    return results"
   ]
  },
  {
   "cell_type": "code",
   "execution_count": 8,
   "metadata": {},
   "outputs": [
    {
     "data": {
      "text/plain": [
       "array([[0., 0., 0., ..., 0., 0., 0.],\n",
       "       [0., 0., 0., ..., 0., 0., 0.],\n",
       "       [0., 0., 0., ..., 1., 0., 0.],\n",
       "       ...,\n",
       "       [0., 0., 0., ..., 0., 0., 0.],\n",
       "       [0., 0., 0., ..., 0., 0., 0.],\n",
       "       [0., 0., 0., ..., 0., 0., 0.]])"
      ]
     },
     "metadata": {},
     "output_type": "display_data"
    },
    {
     "name": "stdout",
     "output_type": "stream",
     "text": [
      "(3883, 6040)\n"
     ]
    }
   ],
   "source": [
    "INITIAL_VIEWING_RATE = 0.05 # 0.05\n",
    "RESCALE_TO_MIDLINE = True\n",
    "\n",
    "initial_ratings = generate_initial_ratings(users, films,\n",
    "        INITIAL_VIEWING_RATE, rescale_to_midline=RESCALE_TO_MIDLINE)\n",
    "\n",
    "display(initial_ratings)\n",
    "print(initial_ratings.shape)"
   ]
  },
  {
   "cell_type": "code",
   "execution_count": 9,
   "metadata": {},
   "outputs": [
    {
     "data": {
      "text/plain": [
       "array([[ 0.,  0.,  0., ...,  0., -0.,  0.],\n",
       "       [ 0.,  0.,  0., ..., -0.,  0.,  1.],\n",
       "       [-0.,  0.,  0., ...,  0.,  0.,  0.],\n",
       "       ...,\n",
       "       [ 0.,  0.,  0., ...,  1.,  0.,  0.],\n",
       "       [ 0.,  0.,  0., ...,  0.,  0.,  0.],\n",
       "       [ 0.,  0., -0., ..., -0.,  0.,  0.]])"
      ]
     },
     "metadata": {},
     "output_type": "display_data"
    },
    {
     "name": "stdout",
     "output_type": "stream",
     "text": [
      "(6040, 3883)\n"
     ]
    }
   ],
   "source": [
    "# The number of singular values to compute with SVD\n",
    "# Larger values give more accurate predictions, but\n",
    "# take longer to compute (and give longer simulator\n",
    "# convergence times)\n",
    "# Reasonable values are probably b/w 10 and 50\n",
    "K_VAL = 50\n",
    "\n",
    "def get_predicted_ratings(actual_ratings):\n",
    "    \"\"\"\n",
    "    Returns a (num_users, num_films) matrix containing\n",
    "    the predicted ratings each user would each film.\n",
    "    \"\"\"\n",
    "    # Only consider non-zero ratings when calculating the mean\n",
    "    masked_user_ratings = np.ma.masked_equal(initial_ratings.T, 0)\n",
    "    user_ratings_mean = masked_user_ratings.mean(axis=1).data\n",
    "    # Calculate SVD values of demeaned ratings + estimate new ratings\n",
    "    R_demeaned = actual_ratings.T - user_ratings_mean.reshape(-1, 1)\n",
    "    U, sigma, Vt = svds(R_demeaned, k=K_VAL)\n",
    "    sigma = np.diag(sigma)\n",
    "    predicted_ratings = np.round(np.dot(np.dot(U, sigma), Vt) +\n",
    "            user_ratings_mean.reshape(-1, 1))\n",
    "    return predicted_ratings\n",
    "\n",
    "example_predictions = get_predicted_ratings(initial_ratings)\n",
    "display(example_predictions)\n",
    "print(example_predictions.shape)"
   ]
  },
  {
   "cell_type": "code",
   "execution_count": 10,
   "metadata": {},
   "outputs": [
    {
     "name": "stdout",
     "output_type": "stream",
     "text": [
      "Example Film Recommendations: [1300, 1301, 1302, 1274, 3882]\n",
      "Example Distribution: [2, 2]\n"
     ]
    }
   ],
   "source": [
    "NUM_RECS = 5\n",
    "\n",
    "def get_recommendations(predicted_ratings, userID, num_recommendations=NUM_RECS):\n",
    "    \"\"\"\n",
    "    Gets the top num_recommendations film recommendations for\n",
    "    the provided user, using the rating prediction matrix, and\n",
    "    returns a tuple containing the recommended film IDs, and\n",
    "    counts of the recommendations received of each film genre.\n",
    "    \"\"\"\n",
    "    predicted_user_ratings = predicted_ratings[userID]\n",
    "    recommended_filmIDs = np.argsort(predicted_user_ratings)\\\n",
    "            [-num_recommendations:].tolist()\n",
    "    film_recs = films[recommended_filmIDs, :]\n",
    "    genre_counts = [int(sum(film_recs[:, genre_idx]))\n",
    "            for genre_idx in range(NUM_GENRES)]\n",
    "    return (recommended_filmIDs, genre_counts)\n",
    "\n",
    "example_recs = get_recommendations(example_predictions, 0)\n",
    "print(\"Example Film Recommendations: \" + str(example_recs[0]))\n",
    "print(\"Example Distribution: \" + str(example_recs[1]))"
   ]
  },
  {
   "cell_type": "code",
   "execution_count": 19,
   "metadata": {},
   "outputs": [
    {
     "name": "stdout",
     "output_type": "stream",
     "text": [
      "Number of users with neutral preference: 2441\n",
      "Number of polarized films recommended to those users: 1947\n",
      "Polarity: 0.797623924621\n"
     ]
    }
   ],
   "source": [
    "# number of neutral users\n",
    "neutral = 0\n",
    "\n",
    "# number of polarized films\n",
    "polarity = 0\n",
    "\n",
    "# thresholds for neutral user preference\n",
    "lo_threshold = 0.3\n",
    "hi_threshold = 0.7\n",
    "\n",
    "for userIdx in range(users.shape[0]):\n",
    "    if lo_threshold < users[userIdx][0] < hi_threshold and lo_threshold < users[userIdx][1] < hi_threshold:\n",
    "        neutral += 1\n",
    "        movie_recs, movie_dist = get_recommendations(example_predictions, userIdx)\n",
    "        if movie_dist != [2, 2]:\n",
    "            polarity += 1\n",
    "\n",
    "print(\"Number of users with neutral preference: \" + str(neutral))\n",
    "print(\"Number of polarized films recommended to those users: \" + str(polarity))\n",
    "print(\"Polarity: \" + str(polarity/neutral))"
   ]
  },
  {
   "cell_type": "markdown",
   "metadata": {},
   "source": [
    "## Run Simulator"
   ]
  },
  {
   "cell_type": "code",
   "execution_count": 12,
   "metadata": {},
   "outputs": [
    {
     "data": {
      "text/plain": [
       "[[2, 2],\n",
       " [0, 4],\n",
       " [2, 2],\n",
       " [4, 0],\n",
       " [0, 4],\n",
       " [0, 4],\n",
       " [4, 0],\n",
       " [4, 0],\n",
       " [4, 0],\n",
       " [0, 4]]"
      ]
     },
     "metadata": {},
     "output_type": "display_data"
    }
   ],
   "source": [
    "initial_predictions = get_predicted_ratings(initial_ratings)\n",
    "\n",
    "# A (num_users, num_genres) matrix where each row\n",
    "# is the number of recommendations that user has\n",
    "# received of each film genre\n",
    "initial_distribution_matrix = []\n",
    "\n",
    "# Get the initial recommendation genre distribution\n",
    "for userID in range(users.shape[0]):\n",
    "    (recommended_filmIDs, type_counts) = get_recommendations(initial_predictions, userID)\n",
    "    initial_distribution_matrix.append(type_counts)\n",
    "\n",
    "display(initial_distribution_matrix[:10])"
   ]
  },
  {
   "cell_type": "code",
   "execution_count": 13,
   "metadata": {},
   "outputs": [],
   "source": [
    "def step_simulation(actual_ratings, predicted_ratings,\n",
    "                    rec_genre_counts, verbose=False):\n",
    "    \"\"\"\n",
    "    Runs one step of the simulation:\n",
    "    \n",
    "    Gives new recommendations to each user, and simulates them\n",
    "    viewing + rating a random selection of them.\n",
    "    \n",
    "    Returns the new rating matrix, the new distribution matrix of\n",
    "    recommended film genres, and the # of changes in this matrix.\n",
    "    \n",
    "    If verbose is True, prints extra debugging information.\n",
    "    \"\"\"\n",
    "    new_ratings = actual_ratings.copy()\n",
    "    new_distribution_matrix = []\n",
    "    num_distribution_changes = 0\n",
    "    \n",
    "    for userID in range(users.shape[0]):\n",
    "        user = users[userID]\n",
    "        (recommended_filmIDs, new_genre_counts) = \\\n",
    "                get_recommendations(predicted_ratings, userID)\n",
    "        new_distribution_matrix.append(new_genre_counts)\n",
    "        \n",
    "        # Check for changes in the user's recommendation distribution\n",
    "        if (new_genre_counts[0] != rec_genre_counts[userID][0]) or \\\n",
    "                (new_genre_counts[1] != rec_genre_counts[userID][1]):\n",
    "            num_distribution_changes += 1\n",
    "        \n",
    "        # Determine whether the user will watch each\n",
    "        # recommended film, and assign a rating if so\n",
    "        for filmID in recommended_filmIDs:\n",
    "            compatibility = get_user_film_compatibility(userID, filmID)\n",
    "            ran = random.uniform(0,1)\n",
    "            if ran <= compatibility:\n",
    "                rating = get_user_film_rating(userID, filmID, actual_ratings)\n",
    "                new_ratings[filmID, userID] = rating\n",
    "\n",
    "    return (new_ratings, new_distribution_matrix, num_distribution_changes)"
   ]
  },
  {
   "cell_type": "code",
   "execution_count": 14,
   "metadata": {},
   "outputs": [
    {
     "name": "stdout",
     "output_type": "stream",
     "text": [
      "Step #0: Num Changes = 0\n",
      "Step #1: Num Changes = 1472\n",
      "Step #2: Num Changes = 1175\n",
      "Step #3: Num Changes = 898\n",
      "Step #4: Num Changes = 648\n",
      "Step #5: Num Changes = 465\n",
      "Step #6: Num Changes = 393\n",
      "Step #7: Num Changes = 346\n",
      "Step #8: Num Changes = 324\n",
      "Step #9: Num Changes = 306\n",
      "Step #10: Num Changes = 286\n",
      "Step #11: Num Changes = 230\n",
      "Step #12: Num Changes = 205\n",
      "Step #13: Num Changes = 187\n",
      "Step #14: Num Changes = 162\n",
      "Step #15: Num Changes = 154\n",
      "Step #16: Num Changes = 177\n",
      "Step #17: Num Changes = 136\n",
      "Step #18: Num Changes = 127\n",
      "Step #19: Num Changes = 120\n",
      "Step #20: Num Changes = 107\n",
      "Step #21: Num Changes = 92\n",
      "Step #22: Num Changes = 84\n",
      "Step #23: Num Changes = 74\n",
      "Step #24: Num Changes = 65\n",
      "Step #25: Num Changes = 55\n",
      "Step #26: Num Changes = 48\n",
      "Step #27: Num Changes = 44\n",
      "Step #28: Num Changes = 56\n",
      "Step #29: Num Changes = 43\n",
      "Step #30: Num Changes = 42\n",
      "Step #31: Num Changes = 36\n",
      "Step #32: Num Changes = 39\n",
      "Step #33: Num Changes = 38\n",
      "Step #34: Num Changes = 58\n",
      "Step #35: Num Changes = 35\n",
      "Step #36: Num Changes = 38\n",
      "Step #37: Num Changes = 13\n",
      "Step #38: Num Changes = 6\n",
      "Step #39: Num Changes = 9\n",
      "Step #40: Num Changes = 7\n",
      "Step #41: Num Changes = 25\n",
      "Step #42: Num Changes = 24\n",
      "Step #43: Num Changes = 29\n",
      "Step #44: Num Changes = 23\n",
      "Step #45: Num Changes = 27\n",
      "Step #46: Num Changes = 14\n",
      "Step #47: Num Changes = 9\n",
      "Step #48: Num Changes = 18\n",
      "Convergence!\n"
     ]
    }
   ],
   "source": [
    "MAX_STEPS = 500\n",
    "CHANGE_THRESHOLD = 0\n",
    "VERBOSE = False\n",
    "\n",
    "ratings = initial_ratings.copy()\n",
    "predictions = initial_predictions.copy()\n",
    "rec_distribution = list(initial_distribution_matrix)\n",
    "num_changes_over_time = []\n",
    "\n",
    "for step in range(MAX_STEPS):\n",
    "    predictions = get_predicted_ratings(ratings)\n",
    "    ratings, rec_distribution, num_changes = step_simulation(ratings,\n",
    "            predictions, rec_distribution, verbose=VERBOSE)\n",
    "    num_changes_over_time.append(num_changes)\n",
    "    if step > 0 and num_changes <= CHANGE_THRESHOLD:\n",
    "        print(\"Convergence!\")\n",
    "        break\n",
    "    print(\"Step #%d: Num Changes = %d\" % (step, num_changes))"
   ]
  },
  {
   "cell_type": "code",
   "execution_count": 15,
   "metadata": {},
   "outputs": [
    {
     "data": {
      "image/png": "[encoded data removed]",
      "text/plain": [
       "<matplotlib.figure.Figure at 0x111ee0790>"
      ]
     },
     "metadata": {},
     "output_type": "display_data"
    }
   ],
   "source": [
    "# Plot the recommendation distribution changes over time\n",
    "plt.plot(num_changes_over_time)\n",
    "plt.xlabel(\"Step\")\n",
    "plt.ylabel(\"# Distribution Changes\")\n",
    "plt.show()"
   ]
  },
  {
   "cell_type": "markdown",
   "metadata": {},
   "source": [
    "### Observations:\n",
    "Note that the higher the `COMPATIBILITY_RATING_STRENGTH`, the greater the difference between the average rating and the film quality, as expected. In general, the average rating should be higher than the film quality, because films will be recommended to users that the algorithm predicts will like it. An average rating that is lower the film quality suggests that the recommender made poor decisions when recommending that film to users.\n",
    "\n",
    "Also note that higher quality films have more ratings, as they are recommended to more people."
   ]
  },
  {
   "cell_type": "code",
   "execution_count": 16,
   "metadata": {},
   "outputs": [
    {
     "name": "stdout",
     "output_type": "stream",
     "text": [
      "Sample Film\n",
      "-----------\n",
      "\n",
      "Film Matrix: [0.62863217 0.37136783 1.92533358]\n",
      "Film Quality: 1.9253335808095984\n",
      "Average Rating: 2.074766355140187\n"
     ]
    },
    {
     "data": {
      "text/plain": [
       "array([1., 1., 1., 1., 3., 2., 1., 1., 1., 1., 3., 2., 1., 4., 3., 1., 4.,\n",
       "       2., 3., 1., 4., 1., 3., 2., 2., 4., 2., 2., 4., 3., 3., 1., 4., 3.,\n",
       "       1., 3., 3., 2., 4., 2., 1., 1., 3., 2., 1., 2., 3., 1., 2., 3., 1.,\n",
       "       1., 2., 2., 3., 2., 3., 2., 3., 4., 1., 1., 1., 1., 2., 2., 1., 1.,\n",
       "       3., 2., 1., 1., 1., 1., 2., 1., 3., 1., 1., 3., 2., 1., 2., 2., 1.,\n",
       "       1., 1., 3., 3., 3., 2., 3., 2., 1., 2., 3., 3., 3., 1., 3., 3., 1.,\n",
       "       3., 2., 2., 1., 1., 3., 2., 1., 2., 2., 1., 1., 1., 2., 1., 1., 2.,\n",
       "       4., 3., 2., 3., 2., 1., 3., 3., 1., 3., 1., 1., 2., 3., 2., 1., 2.,\n",
       "       3., 2., 2., 2., 1., 2., 1., 1., 2., 3., 4., 1., 3., 2., 2., 3., 3.,\n",
       "       3., 3., 2., 3., 1., 1., 3., 1., 1., 3., 3., 3., 3., 2., 2., 1., 1.,\n",
       "       2., 1., 1., 2., 3., 1., 3., 1., 1., 4., 2., 4., 3., 3., 4., 3., 1.,\n",
       "       3., 3., 2., 1., 1., 1., 1., 3., 3., 4., 3., 4., 2., 2., 3., 1., 1.,\n",
       "       3., 1., 1., 3., 2., 1., 1., 1., 3., 3., 2., 3., 2., 1., 1., 4., 4.,\n",
       "       1., 2., 2., 1., 3., 1., 1., 3., 2., 1., 1., 3., 3., 3., 1., 3., 4.,\n",
       "       1., 1., 1., 1., 3., 1., 1., 2., 3., 1., 3., 3., 3., 1., 2., 3., 2.,\n",
       "       1., 1., 3., 3., 2., 3., 2., 1., 2., 4., 1., 1., 3., 2., 2., 1., 3.,\n",
       "       1., 3., 1., 2., 2., 3., 4., 2., 3., 1., 4., 1., 1., 2., 3., 1., 2.,\n",
       "       2., 2., 3., 3., 2., 1., 1., 4., 3., 2., 3., 1., 3., 1., 1., 2., 2.,\n",
       "       1., 1., 3., 2., 4., 3., 3., 1., 1., 1., 3., 3., 3., 1., 3.])"
      ]
     },
     "metadata": {},
     "output_type": "display_data"
    },
    {
     "name": "stdout",
     "output_type": "stream",
     "text": [
      "\n",
      "\n",
      "Highest Rated Film\n",
      "------------------\n",
      "\n",
      "Film Matrix: [3.35696872e-03 9.96643031e-01 3.47497080e+00]\n",
      "Film Quality: 3.4749707956404277\n",
      "Average Rating: 4.14978601997147\n"
     ]
    },
    {
     "data": {
      "text/plain": [
       "array([5., 5., 1., 4., 1., 5., 5., 5., 5., 4., 5., 4., 2., 4., 4., 5., 1.,\n",
       "       4., 5., 1., 5., 5., 4., 5., 1., 4., 5., 5., 5., 5., 4., 5., 5., 4.,\n",
       "       4., 5., 4., 4., 5., 5., 1., 5., 5., 5., 5., 5., 5., 2., 5., 5., 5.,\n",
       "       5., 5., 5., 4., 5., 2., 5., 4., 5., 5., 4., 5., 5., 1., 4., 5., 5.,\n",
       "       4., 4., 1., 4., 2., 5., 4., 4., 5., 5., 5., 4., 4., 5., 5., 5., 5.,\n",
       "       5., 5., 5., 4., 1., 4., 4., 1., 4., 2., 5., 4., 2., 2., 2., 4., 4.,\n",
       "       4., 5., 2., 4., 5., 2., 4., 4., 5., 4., 5., 5., 5., 5., 4., 4., 5.,\n",
       "       5., 4., 5., 5., 5., 5., 4., 1., 4., 4., 4., 5., 5., 5., 5., 5., 2.,\n",
       "       2., 1., 4., 4., 4., 4., 5., 4., 4., 5., 4., 1., 3., 5., 5., 4., 5.,\n",
       "       2., 5., 5., 4., 5., 5., 1., 4., 4., 4., 5., 5., 2., 2., 4., 5., 5.,\n",
       "       4., 5., 4., 4., 5., 4., 1., 5., 4., 5., 5., 1., 5., 5., 5., 5., 1.,\n",
       "       2., 4., 5., 5., 5., 5., 4., 5., 4., 4., 5., 4., 5., 4., 4., 1., 5.,\n",
       "       4., 5., 4., 4., 4., 5., 5., 4., 5., 1., 5., 4., 4., 5., 5., 4., 5.,\n",
       "       5., 5., 4., 5., 5., 4., 1., 5., 4., 4., 5., 4., 5., 1., 1., 4., 5.,\n",
       "       5., 5., 5., 5., 5., 4., 4., 4., 4., 3., 5., 2., 5., 5., 5., 4., 5.,\n",
       "       1., 5., 4., 1., 5., 5., 4., 5., 5., 5., 5., 2., 5., 4., 5., 5., 5.,\n",
       "       5., 5., 5., 1., 5., 5., 5., 5., 3., 2., 4., 5., 5., 3., 4., 1., 2.,\n",
       "       4., 4., 5., 5., 5., 5., 1., 1., 4., 5., 4., 2., 4., 5., 2., 4., 4.,\n",
       "       5., 5., 5., 4., 3., 5., 5., 5., 1., 5., 1., 5., 5., 5., 2., 5., 5.,\n",
       "       5., 4., 4., 3., 4., 3., 5., 4., 5., 4., 4., 4., 4., 5., 5., 5., 5.,\n",
       "       5., 4., 5., 5., 3., 1., 4., 5., 4., 5., 1., 5., 3., 4., 5., 4., 4.,\n",
       "       5., 4., 4., 5., 5., 4., 1., 5., 4., 4., 5., 5., 4., 1., 5., 4., 4.,\n",
       "       4., 4., 3., 5., 5., 5., 4., 3., 4., 5., 5., 5., 5., 4., 5., 5., 4.,\n",
       "       4., 5., 5., 4., 4., 5., 5., 5., 5., 5., 1., 5., 5., 5., 4., 5., 4.,\n",
       "       4., 5., 5., 3., 4., 4., 1., 4., 5., 5., 4., 5., 5., 4., 5., 5., 5.,\n",
       "       4., 5., 1., 5., 2., 5., 3., 5., 4., 4., 5., 4., 5., 4., 1., 5., 4.,\n",
       "       5., 5., 5., 4., 5., 5., 4., 4., 4., 4., 4., 5., 3., 5., 5., 5., 4.,\n",
       "       4., 5., 4., 4., 2., 5., 4., 4., 4., 4., 5., 5., 4., 5., 5., 5., 4.,\n",
       "       5., 5., 5., 4., 5., 5., 4., 5., 5., 5., 4., 4., 4., 4., 4., 4., 1.,\n",
       "       5., 5., 1., 5., 5., 5., 5., 5., 4., 5., 4., 4., 5., 4., 5., 5., 5.,\n",
       "       4., 4., 5., 5., 5., 5., 4., 5., 5., 4., 2., 2., 4., 4., 4., 5., 4.,\n",
       "       4., 4., 5., 5., 5., 4., 4., 4., 5., 5., 4., 5., 5., 5., 5., 4., 5.,\n",
       "       5., 1., 5., 4., 5., 4., 5., 4., 4., 4., 5., 5., 4., 5., 4., 5., 5.,\n",
       "       4., 1., 5., 5., 5., 5., 5., 4., 5., 4., 5., 5., 5., 1., 4., 5., 4.,\n",
       "       5., 5., 5., 4., 5., 5., 1., 4., 4., 2., 4., 5., 5., 4., 5., 5., 3.,\n",
       "       5., 2., 5., 1., 5., 5., 5., 4., 2., 1., 4., 5., 5., 4., 4., 5., 5.,\n",
       "       5., 5., 5., 5., 5., 1., 5., 4., 2., 5., 5., 5., 5., 4., 4., 5., 5.,\n",
       "       5., 5., 4., 1., 5., 5., 4., 4., 4., 5., 5., 4., 4., 5., 5., 5., 1.,\n",
       "       4., 4., 5., 4., 4., 4., 5., 4., 5., 5., 5., 5., 4., 5., 5., 5., 5.,\n",
       "       1., 4., 1., 4., 4., 5., 3., 5., 4., 4., 5., 5., 4., 1., 5., 5., 3.,\n",
       "       4., 5., 4., 5., 4., 1., 5., 5., 4., 1., 5., 5., 1., 1., 4., 5., 2.,\n",
       "       1., 3., 5., 5.])"
      ]
     },
     "metadata": {},
     "output_type": "display_data"
    },
    {
     "name": "stdout",
     "output_type": "stream",
     "text": [
      "\n",
      "Lowest Rated Film\n",
      "-----------------\n",
      "\n",
      "Film Matrix: [0.4985356  0.5014644  2.72022767]\n",
      "Film Quality: 2.720227672524266\n",
      "Average Rating: 1.7397260273972603\n"
     ]
    },
    {
     "data": {
      "text/plain": [
       "array([1., 3., 2., 3., 3., 3., 1., 1., 3., 1., 3., 1., 3., 2., 3., 1., 3.,\n",
       "       1., 1., 1., 3., 3., 1., 1., 1., 1., 3., 1., 3., 1., 1., 1., 2., 2.,\n",
       "       1., 1., 3., 1., 1., 1., 2., 3., 1., 1., 1., 2., 3., 1., 1., 3., 3.,\n",
       "       2., 3., 2., 2., 2., 1., 1., 2., 2., 2., 1., 1., 3., 1., 1., 1., 1.,\n",
       "       1., 3., 1., 1., 2., 1., 1., 1., 2., 1., 3., 1., 1., 1., 3., 1., 1.,\n",
       "       3., 3., 2., 2., 1., 1., 1., 1., 1., 1., 1., 1., 1., 2., 1., 1., 1.,\n",
       "       1., 3., 1., 1., 2., 3., 3., 2., 1., 1., 2., 1., 3., 1., 1., 1., 2.,\n",
       "       3., 3., 1., 2., 1., 3., 1., 3., 3., 3., 1., 1., 3., 2., 2., 1., 1.,\n",
       "       1., 1., 2., 2., 3., 2., 3., 2., 1., 1., 2., 1., 1., 1., 2., 1., 1.,\n",
       "       3., 1., 3., 2., 3., 1., 2., 1., 3., 3., 1., 2., 3., 3., 3., 3., 2.,\n",
       "       2., 2., 2., 2., 1., 1., 1., 1., 1., 1., 2., 3., 1., 2., 2., 1., 1.,\n",
       "       1., 3., 2., 1., 1., 1., 1., 1., 1., 3., 1., 1., 1., 2., 1., 3., 2.,\n",
       "       1., 1., 3., 1., 1., 3., 3., 3., 1., 1., 3., 1., 1., 1., 1., 2., 1.,\n",
       "       2., 3., 2., 3., 2., 1., 2., 1., 1., 3., 1., 1., 3., 1., 1., 3., 2.,\n",
       "       3., 1., 3., 1., 2., 1., 1., 2., 1., 2., 2., 1., 3., 1., 2., 3., 1.,\n",
       "       3., 1., 1., 3., 1., 1., 2., 1., 3., 1., 1., 1., 1., 2., 1., 3., 2.,\n",
       "       3., 1., 1., 1., 1., 1., 2., 1., 1., 3., 3., 1., 3., 3., 2., 1., 3.,\n",
       "       3., 3., 2.])"
      ]
     },
     "metadata": {},
     "output_type": "display_data"
    }
   ],
   "source": [
    "def display_ratings_stats(filmID):\n",
    "    film_quality = films[filmID][QUALITY_PROP_IDX]\n",
    "    film_ratings = ratings[filmID]\n",
    "    film_ratings = film_ratings[film_ratings.nonzero()]\n",
    "    print(\"Film Matrix: \" + str(films[filmID]))\n",
    "    print(\"Film Quality: \" + str(film_quality))\n",
    "    print(\"Average Rating: \" + str(film_ratings.mean()))\n",
    "    display(film_ratings)\n",
    "\n",
    "# Print some stats about the film ratings\n",
    "mean_ratings = np.true_divide(ratings.sum(1),(ratings!=0).sum(1))\n",
    "print(\"Sample Film\\n-----------\\n\")\n",
    "display_ratings_stats(0)\n",
    "print(\"\\n\\nHighest Rated Film\\n------------------\\n\")\n",
    "display_ratings_stats(np.argmax(mean_ratings))\n",
    "print(\"\\nLowest Rated Film\\n-----------------\\n\")\n",
    "display_ratings_stats(np.argmin(mean_ratings))"
   ]
  },
  {
   "cell_type": "code",
   "execution_count": 17,
   "metadata": {},
   "outputs": [
    {
     "name": "stdout",
     "output_type": "stream",
     "text": [
      "Film Matrix: [3.35696872e-03 9.96643031e-01 3.47497080e+00]\n",
      "Film Quality: 3.4749707956404277\n",
      "Average Rating: 4.14978601997147\n"
     ]
    },
    {
     "data": {
      "text/plain": [
       "array([5., 5., 1., 4., 1., 5., 5., 5., 5., 4., 5., 4., 2., 4., 4., 5., 1.,\n",
       "       4., 5., 1., 5., 5., 4., 5., 1., 4., 5., 5., 5., 5., 4., 5., 5., 4.,\n",
       "       4., 5., 4., 4., 5., 5., 1., 5., 5., 5., 5., 5., 5., 2., 5., 5., 5.,\n",
       "       5., 5., 5., 4., 5., 2., 5., 4., 5., 5., 4., 5., 5., 1., 4., 5., 5.,\n",
       "       4., 4., 1., 4., 2., 5., 4., 4., 5., 5., 5., 4., 4., 5., 5., 5., 5.,\n",
       "       5., 5., 5., 4., 1., 4., 4., 1., 4., 2., 5., 4., 2., 2., 2., 4., 4.,\n",
       "       4., 5., 2., 4., 5., 2., 4., 4., 5., 4., 5., 5., 5., 5., 4., 4., 5.,\n",
       "       5., 4., 5., 5., 5., 5., 4., 1., 4., 4., 4., 5., 5., 5., 5., 5., 2.,\n",
       "       2., 1., 4., 4., 4., 4., 5., 4., 4., 5., 4., 1., 3., 5., 5., 4., 5.,\n",
       "       2., 5., 5., 4., 5., 5., 1., 4., 4., 4., 5., 5., 2., 2., 4., 5., 5.,\n",
       "       4., 5., 4., 4., 5., 4., 1., 5., 4., 5., 5., 1., 5., 5., 5., 5., 1.,\n",
       "       2., 4., 5., 5., 5., 5., 4., 5., 4., 4., 5., 4., 5., 4., 4., 1., 5.,\n",
       "       4., 5., 4., 4., 4., 5., 5., 4., 5., 1., 5., 4., 4., 5., 5., 4., 5.,\n",
       "       5., 5., 4., 5., 5., 4., 1., 5., 4., 4., 5., 4., 5., 1., 1., 4., 5.,\n",
       "       5., 5., 5., 5., 5., 4., 4., 4., 4., 3., 5., 2., 5., 5., 5., 4., 5.,\n",
       "       1., 5., 4., 1., 5., 5., 4., 5., 5., 5., 5., 2., 5., 4., 5., 5., 5.,\n",
       "       5., 5., 5., 1., 5., 5., 5., 5., 3., 2., 4., 5., 5., 3., 4., 1., 2.,\n",
       "       4., 4., 5., 5., 5., 5., 1., 1., 4., 5., 4., 2., 4., 5., 2., 4., 4.,\n",
       "       5., 5., 5., 4., 3., 5., 5., 5., 1., 5., 1., 5., 5., 5., 2., 5., 5.,\n",
       "       5., 4., 4., 3., 4., 3., 5., 4., 5., 4., 4., 4., 4., 5., 5., 5., 5.,\n",
       "       5., 4., 5., 5., 3., 1., 4., 5., 4., 5., 1., 5., 3., 4., 5., 4., 4.,\n",
       "       5., 4., 4., 5., 5., 4., 1., 5., 4., 4., 5., 5., 4., 1., 5., 4., 4.,\n",
       "       4., 4., 3., 5., 5., 5., 4., 3., 4., 5., 5., 5., 5., 4., 5., 5., 4.,\n",
       "       4., 5., 5., 4., 4., 5., 5., 5., 5., 5., 1., 5., 5., 5., 4., 5., 4.,\n",
       "       4., 5., 5., 3., 4., 4., 1., 4., 5., 5., 4., 5., 5., 4., 5., 5., 5.,\n",
       "       4., 5., 1., 5., 2., 5., 3., 5., 4., 4., 5., 4., 5., 4., 1., 5., 4.,\n",
       "       5., 5., 5., 4., 5., 5., 4., 4., 4., 4., 4., 5., 3., 5., 5., 5., 4.,\n",
       "       4., 5., 4., 4., 2., 5., 4., 4., 4., 4., 5., 5., 4., 5., 5., 5., 4.,\n",
       "       5., 5., 5., 4., 5., 5., 4., 5., 5., 5., 4., 4., 4., 4., 4., 4., 1.,\n",
       "       5., 5., 1., 5., 5., 5., 5., 5., 4., 5., 4., 4., 5., 4., 5., 5., 5.,\n",
       "       4., 4., 5., 5., 5., 5., 4., 5., 5., 4., 2., 2., 4., 4., 4., 5., 4.,\n",
       "       4., 4., 5., 5., 5., 4., 4., 4., 5., 5., 4., 5., 5., 5., 5., 4., 5.,\n",
       "       5., 1., 5., 4., 5., 4., 5., 4., 4., 4., 5., 5., 4., 5., 4., 5., 5.,\n",
       "       4., 1., 5., 5., 5., 5., 5., 4., 5., 4., 5., 5., 5., 1., 4., 5., 4.,\n",
       "       5., 5., 5., 4., 5., 5., 1., 4., 4., 2., 4., 5., 5., 4., 5., 5., 3.,\n",
       "       5., 2., 5., 1., 5., 5., 5., 4., 2., 1., 4., 5., 5., 4., 4., 5., 5.,\n",
       "       5., 5., 5., 5., 5., 1., 5., 4., 2., 5., 5., 5., 5., 4., 4., 5., 5.,\n",
       "       5., 5., 4., 1., 5., 5., 4., 4., 4., 5., 5., 4., 4., 5., 5., 5., 1.,\n",
       "       4., 4., 5., 4., 4., 4., 5., 4., 5., 5., 5., 5., 4., 5., 5., 5., 5.,\n",
       "       1., 4., 1., 4., 4., 5., 3., 5., 4., 4., 5., 5., 4., 1., 5., 5., 3.,\n",
       "       4., 5., 4., 5., 4., 1., 5., 5., 4., 1., 5., 5., 1., 1., 4., 5., 2.,\n",
       "       1., 3., 5., 5.])"
      ]
     },
     "metadata": {},
     "output_type": "display_data"
    },
    {
     "name": "stdout",
     "output_type": "stream",
     "text": [
      "Film Matrix: [0.95584059 0.04415941 3.06773455]\n",
      "Film Quality: 3.0677345541088883\n",
      "Average Rating: 4.123128119800333\n"
     ]
    },
    {
     "data": {
      "text/plain": [
       "array([5., 5., 4., 5., 5., 5., 4., 4., 5., 4., 5., 1., 4., 5., 5., 5., 5.,\n",
       "       5., 5., 4., 4., 4., 5., 4., 5., 5., 3., 5., 5., 5., 4., 4., 4., 5.,\n",
       "       5., 4., 4., 4., 5., 1., 5., 4., 4., 1., 4., 4., 4., 4., 2., 5., 5.,\n",
       "       5., 4., 4., 4., 5., 5., 5., 4., 5., 5., 4., 5., 3., 4., 5., 4., 4.,\n",
       "       4., 5., 5., 5., 5., 5., 5., 2., 3., 5., 1., 5., 4., 4., 1., 2., 4.,\n",
       "       4., 5., 4., 5., 5., 5., 5., 5., 4., 4., 5., 4., 5., 4., 4., 5., 4.,\n",
       "       1., 5., 5., 5., 1., 5., 5., 4., 5., 5., 4., 4., 4., 4., 5., 4., 5.,\n",
       "       4., 3., 2., 4., 5., 4., 1., 4., 5., 5., 5., 5., 5., 5., 5., 1., 5.,\n",
       "       5., 4., 2., 5., 4., 5., 5., 5., 1., 5., 4., 5., 5., 5., 4., 5., 1.,\n",
       "       5., 4., 2., 4., 1., 5., 5., 1., 4., 2., 4., 5., 1., 4., 2., 1., 5.,\n",
       "       5., 5., 4., 5., 4., 5., 1., 4., 4., 5., 5., 4., 4., 5., 5., 1., 5.,\n",
       "       5., 5., 5., 5., 4., 5., 5., 5., 4., 5., 4., 5., 5., 5., 4., 4., 4.,\n",
       "       4., 5., 1., 2., 4., 5., 4., 2., 2., 5., 5., 4., 4., 5., 5., 5., 4.,\n",
       "       5., 5., 4., 4., 5., 5., 5., 4., 4., 4., 1., 4., 1., 5., 5., 4., 5.,\n",
       "       4., 3., 5., 5., 4., 1., 1., 4., 4., 4., 5., 3., 2., 3., 4., 5., 5.,\n",
       "       4., 4., 5., 5., 5., 4., 5., 5., 4., 4., 5., 5., 5., 5., 1., 4., 4.,\n",
       "       5., 5., 4., 5., 5., 2., 5., 4., 5., 1., 5., 5., 4., 4., 4., 5., 4.,\n",
       "       5., 4., 5., 5., 4., 3., 4., 4., 4., 5., 5., 5., 5., 4., 5., 5., 5.,\n",
       "       5., 1., 4., 4., 1., 5., 1., 1., 1., 5., 5., 1., 4., 4., 5., 5., 4.,\n",
       "       1., 4., 5., 5., 5., 5., 4., 5., 4., 5., 4., 5., 5., 5., 5., 2., 4.,\n",
       "       1., 1., 4., 4., 4., 4., 5., 4., 5., 5., 4., 5., 5., 5., 5., 4., 5.,\n",
       "       4., 4., 2., 5., 4., 5., 1., 4., 5., 5., 4., 4., 5., 1., 5., 4., 5.,\n",
       "       5., 4., 1., 4., 4., 2., 4., 5., 5., 5., 5., 4., 4., 4., 5., 5., 5.,\n",
       "       5., 5., 5., 5., 1., 5., 1., 2., 5., 4., 5., 5., 5., 4., 1., 1., 5.,\n",
       "       4., 5., 4., 5., 4., 4., 5., 4., 4., 5., 2., 4., 5., 1., 5., 5., 5.,\n",
       "       5., 5., 4., 5., 4., 5., 5., 5., 4., 4., 5., 5., 1., 4., 5., 2., 5.,\n",
       "       5., 1., 4., 4., 4., 4., 4., 5., 4., 5., 5., 5., 5., 1., 5., 5., 5.,\n",
       "       4., 5., 5., 5., 4., 5., 5., 5., 5., 5., 5., 5., 5., 5., 2., 4., 4.,\n",
       "       2., 4., 5., 5., 5., 5., 5., 1., 4., 5., 5., 5., 5., 5., 4., 5., 5.,\n",
       "       2., 5., 4., 4., 4., 5., 4., 1., 5., 5., 5., 4., 5., 4., 2., 4., 4.,\n",
       "       5., 4., 4., 5., 3., 1., 4., 5., 1., 5., 5., 5., 5., 4., 5., 2., 4.,\n",
       "       5., 5., 4., 4., 5., 5., 5., 4., 1., 5., 5., 4., 5., 5., 5., 1., 5.,\n",
       "       4., 5., 5., 4., 5., 4., 1., 4., 5., 1., 3., 5., 5., 5., 5., 4., 1.,\n",
       "       5., 2., 5., 3., 4., 5., 5., 4., 3., 4., 4., 5., 4., 5., 5., 4., 5.,\n",
       "       5., 5., 5., 5., 3., 4., 4., 5., 5., 4., 5., 5., 4., 5., 1., 4., 4.,\n",
       "       1., 5., 2., 4., 5., 5.])"
      ]
     },
     "metadata": {},
     "output_type": "display_data"
    },
    {
     "name": "stdout",
     "output_type": "stream",
     "text": [
      "Film Matrix: [0.97891318 0.02108682 1.25647059]\n",
      "Film Quality: 1.2564705943266912\n",
      "Average Rating: 4.086956521739131\n"
     ]
    },
    {
     "data": {
      "text/plain": [
       "array([4., 4., 4., 4., 5., 4., 3., 5., 5., 5., 5., 2., 4., 4., 4., 5., 2.,\n",
       "       5., 4., 1., 4., 5., 5., 4., 5., 4., 4., 2., 4., 3., 5., 4., 5., 5.,\n",
       "       1., 4., 4., 5., 4., 5., 4., 5., 5., 5., 5., 5., 5., 5., 4., 4., 4.,\n",
       "       4., 5., 1., 4., 5., 5., 1., 3., 4., 4., 5., 4., 5., 4., 4., 5., 4.,\n",
       "       5., 4., 4., 4., 4., 2., 4., 5., 5., 5., 4., 4., 1., 5., 4., 5., 5.,\n",
       "       4., 5., 4., 5., 4., 5., 5., 4., 1., 4., 4., 3., 5., 4., 4., 5., 1.,\n",
       "       5., 4., 5., 4., 5., 4., 4., 4., 4., 4., 4., 1., 5., 4., 4., 5., 4.,\n",
       "       5., 2., 4., 4., 3., 1., 4., 4., 4., 4., 4., 5., 4., 5., 4., 4., 4.,\n",
       "       5., 4., 4., 4., 4., 5., 3., 4., 4., 4., 5., 3., 4., 5., 5., 4., 5.,\n",
       "       4., 5., 5., 5., 5., 5., 4., 1., 5., 2., 4., 4., 4., 5., 5., 5., 5.,\n",
       "       1., 4., 4., 5., 5., 4., 5., 4., 5., 5., 4., 4., 4., 5., 4., 2., 1.,\n",
       "       5., 4., 5., 1., 4., 4., 5., 5., 5., 5., 4., 2., 4., 5., 4., 4., 4.,\n",
       "       5., 5., 5., 4., 5., 5., 5., 4., 5., 5., 5., 4., 5., 4., 4., 5., 4.,\n",
       "       4., 1., 1., 5., 5., 1., 1., 5., 2., 1., 1., 5., 4., 5., 5., 5., 4.,\n",
       "       5., 4., 5., 4., 4., 5., 4., 4., 5., 5., 5., 4., 4., 4., 3., 5., 3.,\n",
       "       5., 5., 5., 5., 5., 5., 4., 4., 4., 1., 5., 4., 5., 5., 5., 4., 5.,\n",
       "       4., 4., 5., 4., 4., 2., 3., 4., 5., 1., 4., 5., 4., 4., 4., 4., 5.,\n",
       "       5., 5., 5., 4., 5., 5., 4., 5., 4., 1., 5., 4., 4., 5., 4., 4., 5.,\n",
       "       5., 4., 2., 5., 4., 1., 5., 5., 4., 5., 4., 4., 4., 4., 5., 4., 4.,\n",
       "       1., 5., 5., 5., 4., 5., 5., 5., 4., 4., 5., 5., 5., 5., 3., 5., 4.,\n",
       "       5., 4., 5., 5., 4., 5., 4., 4., 5., 4., 3., 5., 5., 4., 4., 5., 4.,\n",
       "       4., 4., 5., 4., 4., 5., 5., 4., 5., 4., 5., 3., 5., 5., 4., 4., 4.,\n",
       "       5., 4., 4., 5., 5., 5., 4., 4., 5., 4., 4., 5., 4., 2., 4., 5., 4.,\n",
       "       5., 4., 5., 5., 5., 5., 5., 4., 4., 5., 1., 5., 1., 5., 4., 4., 5.,\n",
       "       5., 2., 4., 5., 4., 5., 5., 5., 5., 5., 4., 5., 5., 5., 5., 4., 4.,\n",
       "       4., 5., 1., 1., 5., 5., 4., 5., 3., 5., 5., 3., 5., 4., 4., 4., 4.,\n",
       "       4., 5., 4., 4., 1., 4., 5., 4., 4., 5., 5., 2., 5., 4., 4., 3., 1.,\n",
       "       1., 4., 5., 5., 4., 4., 1., 5., 3., 4., 5., 1., 4., 5., 4., 4., 5.,\n",
       "       5., 4., 5., 3., 4., 2., 5., 4., 5., 5., 3., 4., 5., 4., 5., 4., 5.,\n",
       "       4., 2., 3., 4., 4., 4., 5., 4., 5., 4., 5., 4., 5., 4., 4., 5., 1.,\n",
       "       5., 5., 5., 5., 2., 3., 5., 1., 4., 5., 5., 4., 5., 4., 4., 4., 1.,\n",
       "       1., 4., 5., 3., 4., 2., 4., 5., 2., 5., 4., 4., 4., 5., 5., 4., 4.,\n",
       "       3., 4., 5., 4., 1., 5., 4., 4., 4., 3., 4., 5., 4., 1., 4., 5., 5.,\n",
       "       5., 5., 4., 5., 4., 5., 4., 5., 2., 5., 4., 5., 5., 1., 5., 5., 5.,\n",
       "       4., 4., 4., 1., 5., 5., 4., 4., 5., 4., 1., 5., 1., 4., 1., 4., 1.,\n",
       "       4., 5., 4., 4., 4., 5., 5., 5., 2., 4., 5., 2., 4., 5., 4., 5., 2.,\n",
       "       1., 5., 5., 3., 4., 4., 1., 2., 5., 4., 5., 4., 5., 4., 5., 5., 5.,\n",
       "       5., 4., 5., 5., 3., 5., 5., 4., 1., 4., 5., 3., 1., 5., 4., 5., 5.,\n",
       "       5., 4., 5., 5., 4., 4., 4., 5., 5., 5., 5., 5., 5., 4., 4., 4., 5.,\n",
       "       5., 1., 4., 4., 4., 5., 5., 4., 4., 5., 1., 4., 1., 5., 4., 5., 3.,\n",
       "       5., 5., 1., 5., 5., 4., 4., 5., 3., 4.])"
      ]
     },
     "metadata": {},
     "output_type": "display_data"
    },
    {
     "name": "stdout",
     "output_type": "stream",
     "text": [
      "Film Matrix: [0.98736361 0.01263639 1.62994006]\n",
      "Film Quality: 1.6299400602585177\n",
      "Average Rating: 4.034539473684211\n"
     ]
    },
    {
     "data": {
      "text/plain": [
       "array([1., 2., 4., 5., 5., 5., 4., 4., 2., 1., 2., 5., 4., 1., 4., 2., 5.,\n",
       "       5., 4., 4., 4., 5., 4., 4., 1., 5., 4., 4., 4., 5., 5., 5., 4., 4.,\n",
       "       5., 4., 4., 1., 4., 2., 5., 5., 5., 4., 4., 4., 4., 5., 1., 4., 4.,\n",
       "       4., 1., 1., 5., 5., 4., 5., 4., 2., 3., 5., 4., 4., 5., 4., 5., 4.,\n",
       "       4., 5., 4., 1., 5., 5., 5., 4., 5., 4., 4., 5., 4., 4., 4., 5., 5.,\n",
       "       4., 1., 5., 5., 2., 4., 4., 4., 5., 5., 4., 4., 4., 1., 4., 5., 4.,\n",
       "       4., 2., 5., 5., 5., 1., 5., 4., 4., 4., 4., 3., 4., 2., 4., 1., 3.,\n",
       "       2., 1., 1., 4., 2., 5., 4., 4., 5., 4., 5., 5., 5., 2., 5., 4., 5.,\n",
       "       4., 1., 5., 5., 5., 2., 5., 4., 5., 5., 5., 5., 4., 4., 4., 5., 4.,\n",
       "       1., 2., 5., 5., 5., 5., 4., 5., 4., 1., 5., 5., 1., 2., 5., 3., 5.,\n",
       "       5., 5., 5., 4., 4., 5., 5., 4., 3., 1., 4., 4., 5., 5., 5., 2., 2.,\n",
       "       5., 5., 5., 5., 4., 5., 5., 5., 4., 5., 4., 1., 4., 4., 4., 5., 4.,\n",
       "       5., 5., 4., 4., 1., 4., 5., 4., 5., 5., 4., 1., 4., 5., 5., 5., 4.,\n",
       "       5., 4., 5., 5., 4., 5., 5., 1., 5., 4., 5., 5., 4., 4., 2., 5., 4.,\n",
       "       4., 5., 1., 5., 4., 4., 5., 5., 3., 2., 4., 4., 1., 4., 5., 5., 4.,\n",
       "       5., 1., 4., 5., 4., 5., 5., 5., 5., 5., 5., 4., 5., 5., 4., 4., 1.,\n",
       "       5., 1., 5., 5., 5., 2., 5., 4., 5., 5., 4., 5., 4., 4., 4., 1., 5.,\n",
       "       5., 5., 5., 5., 5., 5., 5., 4., 5., 4., 5., 5., 1., 5., 4., 5., 4.,\n",
       "       5., 4., 4., 1., 5., 5., 1., 5., 5., 5., 5., 5., 5., 5., 4., 5., 1.,\n",
       "       4., 1., 1., 4., 5., 4., 4., 5., 5., 4., 5., 5., 5., 5., 4., 4., 5.,\n",
       "       3., 4., 5., 5., 5., 4., 3., 5., 5., 1., 5., 2., 5., 4., 4., 4., 4.,\n",
       "       1., 5., 5., 5., 2., 5., 4., 4., 5., 4., 4., 5., 1., 4., 3., 5., 5.,\n",
       "       5., 4., 4., 5., 5., 5., 4., 3., 4., 1., 3., 4., 5., 5., 5., 4., 4.,\n",
       "       5., 5., 4., 5., 5., 5., 4., 5., 4., 5., 5., 5., 5., 5., 3., 2., 5.,\n",
       "       4., 4., 5., 1., 4., 1., 2., 5., 3., 4., 5., 4., 2., 4., 4., 2., 5.,\n",
       "       5., 5., 1., 5., 4., 5., 5., 4., 4., 2., 5., 5., 4., 5., 4., 2., 4.,\n",
       "       1., 1., 2., 4., 4., 2., 5., 4., 4., 1., 5., 4., 5., 5., 5., 5., 5.,\n",
       "       5., 5., 4., 5., 5., 4., 5., 5., 4., 4., 4., 5., 5., 3., 3., 3., 4.,\n",
       "       4., 2., 4., 1., 5., 4., 5., 4., 4., 5., 1., 5., 5., 5., 5., 5., 5.,\n",
       "       1., 1., 4., 5., 5., 5., 4., 5., 5., 4., 5., 5., 4., 3., 5., 5., 3.,\n",
       "       4., 4., 3., 5., 4., 4., 4., 3., 5., 4., 5., 4., 5., 1., 5., 5., 5.,\n",
       "       5., 5., 1., 4., 4., 4., 5., 5., 5., 4., 5., 5., 4., 5., 5., 1., 4.,\n",
       "       5., 1., 5., 4., 5., 5., 4., 5., 4., 5., 4., 4., 5., 5., 4., 5., 5.,\n",
       "       5., 1., 5., 4., 2., 3., 4., 5., 5., 5., 5., 2., 5., 3., 4., 5., 4.,\n",
       "       5., 5., 1., 5., 5., 5., 4., 2., 4., 5., 5., 4., 4., 5., 4., 5., 4.,\n",
       "       4., 4., 4., 4., 4., 5., 5., 5., 5., 5., 1., 4., 5.])"
      ]
     },
     "metadata": {},
     "output_type": "display_data"
    },
    {
     "name": "stdout",
     "output_type": "stream",
     "text": [
      "Film Matrix: [0.05210186 0.94789814 3.73328386]\n",
      "Film Quality: 3.733283862607515\n",
      "Average Rating: 4.015408320493067\n"
     ]
    },
    {
     "data": {
      "text/plain": [
       "array([4., 4., 4., 5., 3., 4., 5., 4., 4., 5., 5., 5., 5., 4., 4., 4., 4.,\n",
       "       4., 5., 4., 5., 4., 3., 5., 5., 4., 5., 1., 4., 5., 1., 1., 5., 4.,\n",
       "       5., 5., 3., 5., 4., 4., 4., 4., 4., 5., 4., 5., 5., 4., 4., 5., 1.,\n",
       "       4., 1., 5., 4., 4., 5., 5., 4., 5., 4., 1., 4., 4., 4., 5., 5., 1.,\n",
       "       4., 4., 5., 3., 3., 4., 5., 4., 5., 5., 4., 4., 1., 1., 1., 4., 5.,\n",
       "       2., 4., 4., 4., 5., 4., 4., 4., 3., 4., 4., 5., 4., 5., 2., 5., 4.,\n",
       "       4., 2., 4., 1., 3., 4., 4., 1., 1., 4., 4., 4., 5., 4., 3., 1., 3.,\n",
       "       4., 4., 4., 4., 4., 5., 2., 4., 4., 5., 4., 1., 4., 4., 4., 4., 5.,\n",
       "       4., 4., 4., 4., 4., 4., 5., 4., 4., 5., 4., 4., 4., 1., 4., 5., 4.,\n",
       "       4., 5., 5., 4., 4., 4., 5., 4., 5., 1., 5., 4., 5., 4., 4., 5., 4.,\n",
       "       4., 4., 5., 5., 3., 5., 5., 5., 4., 4., 5., 5., 4., 5., 4., 4., 3.,\n",
       "       5., 1., 4., 5., 5., 4., 5., 4., 4., 4., 4., 5., 4., 4., 5., 4., 1.,\n",
       "       4., 5., 5., 4., 5., 4., 1., 4., 4., 4., 3., 4., 4., 5., 4., 5., 5.,\n",
       "       4., 4., 4., 4., 5., 5., 5., 4., 5., 5., 4., 4., 5., 4., 4., 5., 5.,\n",
       "       5., 4., 4., 4., 5., 4., 1., 4., 4., 5., 4., 4., 4., 5., 3., 5., 5.,\n",
       "       5., 3., 4., 5., 5., 4., 3., 4., 5., 5., 4., 5., 4., 5., 5., 4., 3.,\n",
       "       5., 4., 1., 4., 5., 2., 5., 5., 4., 4., 4., 1., 5., 4., 5., 4., 5.,\n",
       "       4., 5., 4., 5., 4., 2., 4., 4., 4., 3., 5., 4., 4., 5., 5., 5., 3.,\n",
       "       4., 4., 5., 4., 5., 5., 1., 5., 4., 5., 4., 5., 5., 4., 4., 5., 2.,\n",
       "       5., 5., 4., 5., 4., 5., 4., 5., 4., 3., 1., 1., 4., 4., 4., 5., 4.,\n",
       "       5., 4., 5., 4., 2., 4., 2., 5., 4., 4., 5., 3., 4., 4., 1., 5., 3.,\n",
       "       4., 5., 5., 4., 4., 5., 5., 5., 4., 4., 5., 3., 4., 5., 4., 4., 1.,\n",
       "       5., 4., 4., 1., 4., 4., 1., 5., 4., 4., 4., 4., 4., 4., 4., 5., 3.,\n",
       "       5., 3., 5., 5., 5., 5., 4., 4., 3., 5., 4., 5., 5., 5., 4., 5., 5.,\n",
       "       4., 4., 4., 4., 5., 4., 4., 4., 5., 4., 4., 1., 4., 2., 5., 5., 5.,\n",
       "       4., 3., 4., 4., 4., 1., 4., 4., 5., 4., 5., 4., 5., 5., 4., 4., 4.,\n",
       "       4., 1., 1., 3., 2., 3., 1., 5., 5., 4., 5., 2., 4., 4., 1., 5., 1.,\n",
       "       5., 5., 5., 4., 1., 4., 2., 4., 5., 5., 4., 3., 3., 5., 5., 4., 5.,\n",
       "       5., 5., 1., 5., 1., 5., 4., 5., 4., 5., 5., 4., 5., 5., 5., 4., 4.,\n",
       "       4., 5., 2., 4., 5., 4., 4., 5., 5., 4., 4., 5., 1., 5., 4., 5., 5.,\n",
       "       5., 4., 4., 4., 5., 2., 4., 5., 4., 1., 4., 5., 5., 1., 4., 5., 5.,\n",
       "       4., 5., 4., 5., 1., 4., 5., 5., 4., 5., 3., 4., 5., 1., 4., 5., 5.,\n",
       "       4., 5., 5., 5., 4., 5., 4., 4., 4., 5., 5., 4., 4., 5., 5., 3., 4.,\n",
       "       4., 5., 4., 1., 4., 5., 5., 3., 5., 5., 4., 5., 5., 5., 4., 4., 4.,\n",
       "       4., 5., 1., 3., 2., 4., 4., 4., 4., 4., 5., 4., 5., 5., 5., 5., 5.,\n",
       "       1., 4., 1., 4., 5., 5., 5., 4., 4., 4., 5., 5., 5., 5., 1., 5., 4.,\n",
       "       4., 5., 4., 4., 1., 4., 5., 4., 4., 4., 5., 4., 5., 4., 1., 4., 4.,\n",
       "       4., 2., 4., 4., 2., 4., 4., 5., 4., 4., 4., 5., 4., 5., 4., 4., 2.,\n",
       "       5., 4., 5.])"
      ]
     },
     "metadata": {},
     "output_type": "display_data"
    },
    {
     "name": "stdout",
     "output_type": "stream",
     "text": [
      "Film Matrix: [6.29914926e-04 9.99370085e-01 1.61996584e+00]\n",
      "Film Quality: 1.6199658388630855\n",
      "Average Rating: 4.006369426751593\n"
     ]
    },
    {
     "data": {
      "text/plain": [
       "array([5., 4., 5., 4., 4., 5., 5., 5., 1., 1., 4., 2., 4., 5., 5., 5., 1.,\n",
       "       4., 5., 4., 4., 4., 4., 5., 4., 5., 5., 5., 2., 5., 3., 5., 2., 5.,\n",
       "       5., 5., 1., 5., 5., 1., 1., 4., 5., 4., 1., 4., 4., 1., 5., 3., 5.,\n",
       "       5., 4., 2., 1., 5., 1., 3., 5., 1., 4., 1., 5., 5., 1., 4., 5., 1.,\n",
       "       4., 4., 4., 4., 3., 4., 4., 4., 5., 4., 4., 4., 5., 2., 4., 4., 2.,\n",
       "       4., 5., 5., 5., 4., 4., 1., 4., 4., 5., 5., 4., 3., 4., 1., 4., 5.,\n",
       "       5., 5., 5., 5., 4., 1., 4., 5., 5., 4., 3., 5., 5., 1., 3., 3., 5.,\n",
       "       1., 1., 5., 3., 4., 5., 5., 5., 1., 1., 4., 4., 5., 4., 4., 4., 4.,\n",
       "       5., 4., 5., 1., 5., 1., 5., 5., 5., 4., 5., 1., 4., 4., 5., 4., 4.,\n",
       "       3., 4., 5., 4., 5., 4., 5., 5., 5., 4., 2., 5., 5., 5., 3., 4., 5.,\n",
       "       4., 4., 5., 4., 4., 2., 4., 4., 4., 1., 3., 4., 4., 5., 3., 3., 2.,\n",
       "       2., 2., 5., 4., 4., 4., 5., 5., 4., 5., 5., 4., 4., 2., 4., 5., 3.,\n",
       "       4., 4., 3., 5., 5., 4., 4., 5., 1., 5., 4., 4., 3., 5., 5., 4., 1.,\n",
       "       5., 1., 4., 5., 5., 5., 4., 1., 5., 5., 5., 4., 5., 5., 5., 4., 5.,\n",
       "       4., 4., 5., 5., 4., 2., 5., 4., 5., 5., 4., 5., 5., 4., 3., 5., 2.,\n",
       "       4., 5., 5., 5., 5., 5., 4., 1., 4., 5., 4., 4., 4., 5., 4., 1., 4.,\n",
       "       5., 1., 5., 5., 1., 1., 4., 4., 5., 4., 4., 4., 5., 5., 3., 4., 4.,\n",
       "       5., 5., 1., 5., 4., 5., 5., 4., 4., 1., 5., 5., 5., 4., 4., 4., 4.,\n",
       "       5., 4., 5., 5., 5., 5., 1., 4., 5., 2., 5., 4., 4., 5., 1., 5., 4.,\n",
       "       5., 4., 5., 4., 4., 4., 4., 5., 5., 4., 4., 4., 5., 5., 2., 4., 4.,\n",
       "       4., 4., 3., 5., 4., 4., 5., 2., 5., 4., 5., 5., 5., 5., 1., 4., 3.,\n",
       "       5., 4., 3., 4., 4., 3., 4., 4., 5., 2., 4., 5., 4., 1., 4., 5., 5.,\n",
       "       4., 4., 4., 3., 4., 5., 5., 4., 4., 5., 5., 4., 5., 4., 3., 1., 4.,\n",
       "       5., 4., 5., 4., 5., 4., 4., 4., 5., 2., 5., 4., 5., 3., 4., 5., 4.,\n",
       "       4., 5., 5., 4., 5., 4., 1., 3., 4., 5., 4., 4., 5., 4., 5., 5., 4.,\n",
       "       4., 5., 5., 5., 5., 2., 5., 4., 4., 4., 5., 5., 5., 4., 4., 5., 5.,\n",
       "       4., 4., 4., 5., 4., 5., 3., 4., 4., 4., 3., 2., 4., 5., 4., 5., 5.,\n",
       "       4., 4., 4., 4., 4., 5., 3., 4., 4., 4., 4., 5., 4., 4., 5., 5., 1.,\n",
       "       2., 5., 4., 3., 4., 4., 5., 2., 5., 4., 5., 5., 4., 5., 5., 5., 5.,\n",
       "       4., 5., 4., 4., 4., 4., 4., 4., 5., 4., 1., 4., 4., 3., 5., 5., 1.,\n",
       "       4., 4., 5., 4., 5., 4., 1., 5., 2., 5., 3., 5., 5., 4., 5., 5., 5.,\n",
       "       5., 4., 5., 5., 2., 5., 3., 4., 5., 4., 1., 4., 5., 5., 4., 3., 5.,\n",
       "       5., 3., 5., 4., 4., 5., 3., 1., 4., 5., 4., 5., 4., 5., 4., 5., 1.,\n",
       "       3., 5., 5., 5., 4., 5., 4., 5., 4., 5., 5., 5., 5., 4., 4., 4., 5.,\n",
       "       5., 4., 4., 5., 4., 5., 5., 4., 3., 5., 5., 2., 5., 5., 4., 4., 5.,\n",
       "       4., 4., 5., 2., 5., 5., 5., 2., 1., 4., 5., 5., 4., 5., 5., 4., 5.,\n",
       "       1., 4., 5., 5., 4., 2., 4., 5., 4., 5., 4., 4., 5., 4., 4., 4.])"
      ]
     },
     "metadata": {},
     "output_type": "display_data"
    },
    {
     "name": "stdout",
     "output_type": "stream",
     "text": [
      "Film Matrix: [0.96780751 0.03219249 2.58133786]\n",
      "Film Quality: 2.5813378582112056\n",
      "Average Rating: 4.003669724770642\n"
     ]
    },
    {
     "data": {
      "text/plain": [
       "array([4., 5., 3., 4., 4., 4., 3., 5., 1., 2., 4., 5., 4., 5., 5., 2., 5.,\n",
       "       4., 4., 1., 5., 1., 3., 4., 5., 5., 5., 4., 5., 1., 5., 5., 2., 4.,\n",
       "       4., 1., 2., 1., 4., 5., 4., 5., 5., 4., 5., 5., 5., 5., 2., 4., 3.,\n",
       "       5., 5., 5., 3., 5., 5., 4., 4., 3., 5., 5., 3., 5., 4., 5., 3., 5.,\n",
       "       4., 3., 5., 4., 4., 4., 4., 5., 5., 2., 5., 5., 4., 4., 5., 4., 4.,\n",
       "       5., 4., 4., 5., 4., 5., 3., 4., 5., 3., 5., 5., 4., 4., 5., 5., 5.,\n",
       "       4., 5., 4., 5., 4., 4., 5., 4., 2., 5., 5., 2., 5., 4., 4., 4., 4.,\n",
       "       4., 2., 4., 5., 4., 4., 5., 4., 1., 4., 1., 4., 5., 4., 5., 5., 5.,\n",
       "       5., 4., 5., 5., 4., 4., 5., 4., 1., 5., 1., 5., 4., 4., 5., 5., 1.,\n",
       "       4., 5., 4., 5., 2., 1., 5., 4., 5., 5., 5., 5., 1., 5., 4., 4., 4.,\n",
       "       4., 5., 4., 5., 5., 4., 5., 4., 3., 3., 4., 5., 4., 5., 4., 4., 5.,\n",
       "       5., 2., 5., 5., 5., 3., 3., 5., 4., 4., 5., 5., 5., 5., 4., 5., 4.,\n",
       "       3., 4., 4., 4., 5., 4., 4., 4., 4., 5., 5., 5., 5., 5., 4., 5., 1.,\n",
       "       5., 2., 1., 4., 5., 2., 5., 5., 5., 3., 5., 4., 5., 5., 4., 5., 5.,\n",
       "       1., 3., 5., 5., 5., 5., 4., 1., 5., 5., 5., 5., 5., 5., 5., 5., 5.,\n",
       "       3., 1., 1., 4., 5., 4., 4., 5., 3., 5., 4., 4., 5., 4., 4., 5., 4.,\n",
       "       4., 5., 2., 5., 3., 5., 1., 4., 5., 5., 4., 5., 2., 4., 4., 2., 4.,\n",
       "       4., 5., 5., 5., 5., 5., 5., 5., 4., 5., 4., 1., 5., 5., 4., 5., 4.,\n",
       "       5., 5., 5., 5., 5., 5., 1., 5., 5., 1., 1., 4., 4., 3., 2., 2., 1.,\n",
       "       2., 4., 1., 5., 4., 5., 5., 5., 1., 3., 2., 4., 3., 5., 5., 1., 5.,\n",
       "       2., 4., 5., 5., 5., 4., 4., 5., 4., 5., 4., 5., 4., 5., 4., 5., 5.,\n",
       "       3., 1., 4., 4., 3., 3., 5., 5., 1., 5., 4., 5., 5., 5., 5., 5., 1.,\n",
       "       5., 4., 4., 2., 4., 4., 5., 5., 4., 5., 4., 5., 4., 4., 4., 4., 5.,\n",
       "       5., 1., 1., 4., 2., 1., 2., 5., 5., 5., 4., 5., 4., 4., 5., 5., 4.,\n",
       "       5., 5., 4., 5., 4., 4., 5., 5., 5., 5., 5., 4., 1., 2., 4., 3., 4.,\n",
       "       4., 3., 4., 4., 3., 3., 3., 4., 4., 2., 1., 4., 4., 5., 1., 5., 5.,\n",
       "       4., 2., 4., 2., 4., 5., 5., 2., 5., 5., 5., 5., 5., 3., 5., 4., 1.,\n",
       "       4., 5., 3., 4., 4., 2., 4., 4., 1., 5., 1., 1., 1., 5., 5., 5., 1.,\n",
       "       5., 4., 4., 5., 4., 5., 4., 5., 5., 5., 5., 5., 1., 5., 5., 5., 5.,\n",
       "       5., 5., 3., 5., 5., 4., 4., 1., 4., 4., 4., 5., 5., 4., 3., 5., 4.,\n",
       "       1., 4., 5., 3., 5., 5., 5., 1., 5., 5., 5., 4., 5., 5., 4., 5., 5.,\n",
       "       4., 4., 5., 2., 5., 4., 5., 5., 5., 4., 5., 5., 2., 5., 4., 1., 5.,\n",
       "       1.])"
      ]
     },
     "metadata": {},
     "output_type": "display_data"
    },
    {
     "name": "stdout",
     "output_type": "stream",
     "text": [
      "Film Matrix: [0.92079221 0.07920779 1.93971556]\n",
      "Film Quality: 1.9397155594688278\n",
      "Average Rating: 3.98974358974359\n"
     ]
    },
    {
     "data": {
      "text/plain": [
       "array([4., 1., 4., 5., 4., 5., 1., 3., 4., 4., 5., 1., 5., 4., 2., 5., 4.,\n",
       "       4., 4., 4., 1., 4., 4., 4., 5., 5., 4., 3., 5., 1., 4., 4., 5., 5.,\n",
       "       4., 5., 4., 5., 5., 5., 4., 2., 4., 5., 5., 5., 5., 4., 2., 4., 4.,\n",
       "       3., 5., 4., 5., 5., 5., 4., 5., 4., 5., 4., 3., 4., 4., 1., 4., 5.,\n",
       "       1., 4., 4., 2., 4., 4., 4., 5., 5., 4., 4., 4., 5., 5., 4., 4., 4.,\n",
       "       4., 1., 5., 4., 4., 4., 2., 5., 5., 4., 5., 4., 4., 4., 5., 5., 5.,\n",
       "       1., 5., 3., 1., 4., 4., 1., 1., 4., 4., 5., 5., 5., 4., 5., 4., 5.,\n",
       "       4., 1., 4., 1., 3., 5., 1., 4., 4., 4., 5., 2., 3., 2., 3., 4., 4.,\n",
       "       5., 3., 4., 5., 5., 5., 1., 5., 5., 4., 5., 5., 4., 4., 5., 5., 5.,\n",
       "       4., 4., 5., 1., 4., 4., 1., 5., 5., 1., 4., 5., 4., 5., 4., 4., 4.,\n",
       "       5., 5., 5., 5., 5., 4., 5., 4., 4., 5., 5., 4., 5., 4., 4., 3., 5.,\n",
       "       3., 5., 5., 1., 4., 4., 5., 5., 4., 4., 4., 5., 5., 5., 5., 5., 1.,\n",
       "       5., 1., 4., 4., 5., 5., 4., 3., 4., 5., 2., 1., 5., 5., 5., 5., 4.,\n",
       "       3., 4., 4., 4., 4., 4., 5., 4., 5., 4., 3., 5., 4., 4., 4., 4., 2.,\n",
       "       2., 5., 1., 4., 5., 5., 5., 4., 4., 5., 2., 3., 4., 4., 4., 5., 4.,\n",
       "       1., 4., 5., 4., 5., 4., 5., 4., 5., 1., 5., 4., 5., 5., 4., 4., 4.,\n",
       "       5., 5., 5., 4., 5., 4., 4., 4., 5., 5., 4., 1., 4., 5., 4., 4., 1.,\n",
       "       4., 4., 4., 4., 2., 4., 4., 5., 4., 4., 5., 5., 4., 4., 5., 4., 4.,\n",
       "       2., 5., 3., 5., 4., 2., 5., 5., 3., 5., 4., 5., 1., 5., 5., 4., 4.,\n",
       "       4., 5., 4., 5., 4., 4., 5., 4., 4., 4., 4., 5., 4., 4., 5., 5., 4.,\n",
       "       5., 5., 5., 4., 4., 4., 4., 5., 4., 5., 5., 5., 2., 4., 5., 4., 4.,\n",
       "       3., 5., 5., 1., 4., 4., 1., 5., 5., 4., 5., 3., 4., 4., 4., 4., 5.,\n",
       "       5., 4., 3., 4., 1., 4., 4., 5., 5., 4., 4., 4., 5., 3., 4., 1., 4.,\n",
       "       5., 4., 1., 4., 5., 4., 5., 5., 4., 4., 4., 4., 4., 4., 5., 5., 5.,\n",
       "       4., 4., 5., 1., 5., 2., 4., 4., 2., 1., 5., 5., 5., 5., 4., 4., 5.,\n",
       "       4., 4., 5., 5., 4., 4., 3., 4., 2., 5., 5., 5., 4., 4., 5., 5., 3.,\n",
       "       1., 5., 1., 5., 4., 5., 4., 1., 4., 4., 4., 4., 2., 4., 5., 5., 4.,\n",
       "       5., 5., 4., 3., 4., 2., 4., 2., 5., 4., 3., 5., 4., 3., 5., 4., 3.,\n",
       "       5., 5., 5., 4., 4., 1., 5., 5., 1., 3., 4., 5., 5., 5., 4., 4., 5.,\n",
       "       4., 5., 4., 4., 5., 4., 5., 5., 4., 5., 5., 4., 5., 4., 5., 4., 1.,\n",
       "       5., 1., 4., 4., 4., 3., 5., 4., 4., 5., 4., 4., 4., 4., 1., 5., 1.,\n",
       "       4., 4., 4., 4., 4., 2., 5., 4., 5., 4., 4., 4., 4., 4., 2., 4., 5.,\n",
       "       5., 4., 4., 4., 5., 4., 1., 4., 5., 4., 5., 4., 5., 4., 4., 1., 5.,\n",
       "       5., 5., 5., 4., 5., 1., 1., 4., 5., 4., 5., 4., 5., 5., 4., 5., 1.,\n",
       "       4., 4., 4., 5., 4., 5., 5.])"
      ]
     },
     "metadata": {},
     "output_type": "display_data"
    },
    {
     "name": "stdout",
     "output_type": "stream",
     "text": [
      "Film Matrix: [0.04995718 0.95004282 1.53470024]\n",
      "Film Quality: 1.5347002440848154\n",
      "Average Rating: 3.964765100671141\n"
     ]
    },
    {
     "data": {
      "text/plain": [
       "array([3., 4., 5., 4., 5., 5., 4., 4., 5., 4., 4., 5., 5., 5., 5., 5., 3.,\n",
       "       3., 5., 5., 5., 5., 5., 1., 4., 5., 4., 4., 5., 4., 4., 5., 5., 4.,\n",
       "       4., 1., 4., 4., 5., 4., 5., 3., 4., 4., 4., 4., 4., 1., 5., 4., 2.,\n",
       "       5., 4., 4., 4., 4., 3., 4., 4., 2., 3., 5., 5., 2., 4., 4., 1., 5.,\n",
       "       5., 5., 4., 5., 4., 1., 3., 5., 4., 4., 4., 1., 4., 5., 5., 1., 3.,\n",
       "       4., 1., 5., 2., 5., 4., 5., 5., 4., 1., 4., 4., 5., 5., 5., 4., 4.,\n",
       "       3., 4., 4., 5., 4., 5., 4., 1., 1., 5., 5., 5., 4., 4., 4., 4., 5.,\n",
       "       4., 5., 5., 4., 5., 1., 4., 4., 4., 4., 5., 4., 5., 4., 4., 5., 5.,\n",
       "       4., 5., 4., 3., 5., 2., 4., 3., 1., 4., 5., 5., 5., 4., 5., 1., 1.,\n",
       "       1., 4., 5., 4., 4., 5., 4., 4., 2., 4., 4., 1., 5., 1., 5., 4., 5.,\n",
       "       4., 4., 5., 4., 1., 4., 5., 5., 4., 4., 4., 5., 4., 4., 4., 5., 5.,\n",
       "       4., 4., 4., 4., 4., 4., 4., 1., 4., 1., 5., 2., 4., 5., 5., 4., 5.,\n",
       "       2., 4., 5., 5., 2., 4., 4., 5., 4., 5., 5., 4., 5., 5., 3., 5., 4.,\n",
       "       4., 4., 5., 5., 4., 4., 4., 4., 4., 5., 5., 4., 5., 4., 4., 4., 1.,\n",
       "       5., 4., 5., 5., 4., 4., 5., 1., 4., 4., 3., 4., 5., 4., 4., 4., 3.,\n",
       "       4., 1., 4., 4., 5., 4., 2., 5., 4., 2., 5., 5., 5., 4., 4., 2., 4.,\n",
       "       5., 4., 5., 4., 4., 5., 4., 5., 4., 5., 5., 4., 4., 3., 4., 4., 5.,\n",
       "       4., 1., 4., 5., 5., 2., 4., 4., 5., 4., 4., 5., 5., 5., 4., 5., 4.,\n",
       "       5., 3., 5., 5., 5., 5., 5., 4., 1., 2., 5., 1., 4., 5., 1., 5., 4.,\n",
       "       4., 4., 5., 4., 5., 5., 5., 1., 4., 5., 5., 4., 4., 2., 5., 1., 4.,\n",
       "       5., 4., 4., 1., 5., 4., 4., 5., 5., 4., 4., 4., 5., 4., 4., 4., 5.,\n",
       "       5., 4., 4., 1., 4., 3., 5., 4., 5., 4., 4., 4., 5., 4., 4., 3., 4.,\n",
       "       4., 4., 5., 5., 5., 4., 4., 2., 4., 4., 5., 4., 4., 2., 4., 5., 3.,\n",
       "       5., 4., 4., 5., 4., 5., 3., 1., 5., 5., 5., 4., 4., 4., 5., 3., 3.,\n",
       "       4., 2., 4., 4., 5., 5., 4., 5., 4., 5., 4., 4., 5., 5., 5., 2., 4.,\n",
       "       4., 2., 5., 1., 2., 4., 5., 4., 4., 5., 5., 4., 4., 4., 5., 5., 5.,\n",
       "       2., 3., 1., 4., 4., 5., 4., 5., 5., 4., 4., 4., 5., 3., 2., 5., 5.,\n",
       "       5., 4., 4., 5., 4., 4., 1., 4., 5., 4., 5., 1., 4., 4., 5., 5., 1.,\n",
       "       5., 5., 5., 5., 5., 4., 3., 3., 4., 4., 4., 1., 4., 4., 4., 1., 1.,\n",
       "       5., 4., 5., 5., 3., 1., 4., 4., 1., 5., 5., 5., 4., 5., 1., 5., 4.,\n",
       "       5., 4., 4., 5., 4., 4., 5., 3., 1., 3., 5., 5., 5., 5., 2., 1., 1.,\n",
       "       5., 4., 5., 5., 4., 4., 1., 5., 1., 5., 4., 4., 4., 5., 5., 4., 4.,\n",
       "       4., 4., 4., 1., 5., 4., 4., 5., 4., 1., 4., 4., 4., 5., 4., 5., 4.,\n",
       "       4., 5., 4., 5., 1., 5., 3., 4., 4., 5., 4., 5., 4., 4., 5., 5., 5.,\n",
       "       4., 5., 5., 4., 5., 4., 5., 5., 5., 1., 1., 3., 4., 4., 4., 5., 5.,\n",
       "       4.])"
      ]
     },
     "metadata": {},
     "output_type": "display_data"
    },
    {
     "name": "stdout",
     "output_type": "stream",
     "text": [
      "Film Matrix: [0.00888582 0.99111418 3.0269672 ]\n",
      "Film Quality: 3.0269672042353797\n",
      "Average Rating: 3.957865168539326\n"
     ]
    },
    {
     "data": {
      "text/plain": [
       "array([5., 1., 4., 4., 4., 4., 5., 4., 5., 4., 1., 4., 4., 3., 4., 4., 4.,\n",
       "       5., 2., 5., 5., 4., 5., 5., 4., 5., 4., 1., 2., 4., 4., 5., 3., 1.,\n",
       "       4., 5., 5., 5., 5., 3., 4., 5., 1., 5., 3., 5., 5., 4., 5., 5., 5.,\n",
       "       4., 5., 4., 4., 4., 4., 5., 4., 5., 5., 4., 4., 3., 4., 1., 4., 4.,\n",
       "       3., 5., 4., 4., 4., 4., 4., 4., 5., 4., 4., 4., 4., 5., 4., 5., 5.,\n",
       "       2., 4., 5., 4., 4., 4., 4., 4., 5., 4., 4., 1., 2., 4., 2., 4., 1.,\n",
       "       1., 4., 5., 1., 5., 5., 5., 5., 5., 5., 4., 4., 1., 4., 4., 4., 5.,\n",
       "       3., 5., 5., 4., 5., 4., 3., 4., 5., 4., 4., 5., 4., 5., 3., 5., 5.,\n",
       "       4., 5., 1., 4., 4., 5., 5., 3., 2., 4., 4., 5., 4., 4., 5., 4., 4.,\n",
       "       4., 5., 3., 4., 4., 5., 4., 4., 4., 2., 4., 4., 5., 5., 4., 1., 4.,\n",
       "       5., 1., 4., 4., 5., 3., 1., 4., 4., 5., 4., 1., 5., 4., 5., 4., 5.,\n",
       "       1., 3., 4., 4., 1., 4., 4., 4., 4., 1., 5., 4., 1., 5., 1., 2., 4.,\n",
       "       5., 4., 4., 5., 4., 5., 4., 4., 5., 4., 4., 2., 5., 4., 4., 1., 4.,\n",
       "       5., 4., 5., 4., 5., 2., 1., 5., 1., 4., 4., 5., 4., 5., 4., 5., 5.,\n",
       "       5., 4., 4., 3., 5., 4., 2., 4., 4., 3., 5., 5., 3., 4., 4., 4., 4.,\n",
       "       4., 5., 4., 4., 5., 5., 5., 4., 4., 5., 4., 4., 5., 4., 4., 4., 5.,\n",
       "       5., 4., 4., 2., 5., 5., 2., 5., 4., 4., 3., 5., 4., 5., 3., 4., 4.,\n",
       "       1., 5., 5., 4., 4., 4., 4., 1., 1., 4., 5., 4., 4., 4., 4., 4., 4.,\n",
       "       1., 5., 4., 4., 4., 5., 4., 3., 2., 2., 1., 5., 5., 3., 1., 4., 5.,\n",
       "       5., 4., 4., 4., 1., 5., 4., 5., 2., 2., 1., 5., 4., 4., 5., 5., 4.,\n",
       "       4., 4., 5., 5., 5., 1., 4., 5., 4., 1., 5., 5., 5., 5., 5., 5., 4.,\n",
       "       4., 4., 5., 5., 5., 4., 4., 4., 4., 2., 4., 5., 4., 4., 4., 1., 5.,\n",
       "       5., 5., 4., 5., 4., 5., 4., 3., 4., 5., 4., 5., 4., 4., 1., 4., 4.,\n",
       "       1., 4., 1., 5., 4., 4., 5., 3., 4., 5., 4., 5., 4., 5., 4., 4., 4.,\n",
       "       3., 4., 4., 5., 4., 4., 4., 4., 5., 4., 5., 5., 1., 1., 4., 4., 4.,\n",
       "       4., 5., 1., 2., 5., 5., 3., 5., 4., 4., 5., 5., 5., 5., 1., 1., 4.,\n",
       "       1., 5., 4., 4., 4., 4., 5., 4., 1., 1., 5., 4., 4., 3., 5., 5., 5.,\n",
       "       5., 5., 5., 4., 5., 5., 5., 4., 4., 5., 4., 4., 4., 5., 4., 5., 4.,\n",
       "       4., 5., 4., 1., 5., 1., 1., 4., 5., 4., 5., 1., 1., 5., 4., 4., 4.,\n",
       "       4., 4., 4., 4., 4., 5., 4., 5., 2., 5., 4., 4., 5., 5., 5., 2., 4.,\n",
       "       1., 4., 4., 4., 4., 5., 5., 5., 4., 2., 4., 4., 4., 5., 1., 3., 4.,\n",
       "       4., 5., 3., 5., 1., 5., 4., 5., 5., 5., 5., 4., 5., 4., 5., 5., 4.,\n",
       "       1., 5., 3., 4., 5., 4., 4., 4., 4., 4., 5., 4., 4., 3., 4., 4., 5.,\n",
       "       5., 4., 4., 4., 5., 5., 5., 5., 1., 5., 4., 4., 4., 5., 5., 1., 4.,\n",
       "       5., 4., 5., 5., 4., 5., 5., 5., 5., 4., 4., 5., 5., 3., 5., 4., 5.,\n",
       "       4., 1., 5., 1., 4., 4., 4., 5., 4., 4., 5., 3., 5., 4., 4., 5., 4.,\n",
       "       4., 4., 4., 5., 4., 4., 4., 4., 5., 5., 4., 5., 5., 2., 4., 4., 4.,\n",
       "       5., 3., 4., 5., 4., 4., 3., 5., 1., 5., 5., 4., 4., 4., 4., 1., 5.,\n",
       "       4., 4., 5., 4., 5., 5., 3., 4., 5., 5., 4., 4., 5., 1., 5., 4., 1.,\n",
       "       3., 5., 5., 4., 5., 1., 5., 4., 5., 5., 5., 5., 1., 5., 3., 4., 5.,\n",
       "       5., 4., 5., 5., 4., 4., 4., 5., 4., 4., 4., 1., 5., 4., 5., 4., 4.,\n",
       "       4., 4., 4., 5., 5., 5., 4., 4., 1., 4., 3., 4., 5., 5., 4.])"
      ]
     },
     "metadata": {},
     "output_type": "display_data"
    }
   ],
   "source": [
    "sorted_movies = np.argsort(-mean_ratings)\n",
    "\n",
    "for i in range(10):\n",
    "    display_ratings_stats(sorted_movies[i])"
   ]
  },
  {
   "cell_type": "code",
   "execution_count": null,
   "metadata": {},
   "outputs": [],
   "source": []
  }
 ],
 "metadata": {
  "celltoolbar": "Raw Cell Format",
  "kernelspec": {
   "display_name": "Python 2",
   "language": "python",
   "name": "python2"
  },
  "language_info": {
   "codemirror_mode": {
    "name": "ipython",
    "version": 2
   },
   "file_extension": ".py",
   "mimetype": "text/x-python",
   "name": "python",
   "nbconvert_exporter": "python",
   "pygments_lexer": "ipython2",
   "version": "2.7.14"
  }
 },
 "nbformat": 4,
 "nbformat_minor": 2
}
