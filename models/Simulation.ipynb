{
 "cells": [
  {
   "cell_type": "code",
   "execution_count": 10,
   "metadata": {
    "collapsed": true
   },
   "outputs": [],
   "source": [
    "import pandas as pd\n",
    "import numpy as np\n",
    "from scipy.sparse.linalg import svds\n",
    "import random\n",
    "from random import randint"
   ]
  },
  {
   "cell_type": "markdown",
   "metadata": {},
   "source": [
    "We have two types of movies, type 1 and type 2. Each movie has a vector assciotate with them, [x,y]. x and y are binary variables with possible values of 0 and 1. x = 1 means that the film is of type 1, and y = 1 means that the film is of type2.\n",
    "Each user also has a hidden vector associated with him or her, [b,c], where b and c are preferences for type 1 and type 2 films respectively. $0 \\leq b,c \\leq 1$ and $b + c = 1$. If a user's perference for a type of film is [a,b], then this user has $a$ chance of accepting recommendations of films of type 1 and $b$ chance of accepting recommendations of films of type 2. This user will rate a film of type a: $a*5 $"
   ]
  },
  {
   "cell_type": "code",
   "execution_count": 71,
   "metadata": {
    "collapsed": true
   },
   "outputs": [],
   "source": [
    "# Generate number_of_users of users. Return a number_of_users * 2 array, \n",
    "# where each row of the array indicates the user's movie preference.\n",
    "def generate_Users(number_of_users):\n",
    "    result = []\n",
    "    for i in range(0,number_of_users):\n",
    "        a = random.uniform(0,1)\n",
    "        result.append([a, 1 - a])\n",
    "    return(np.array(result))"
   ]
  },
  {
   "cell_type": "code",
   "execution_count": 193,
   "metadata": {
    "collapsed": true
   },
   "outputs": [],
   "source": [
    "# Generate a matrix films, where each row of the matrix\n",
    "# represents the properties of a single film.\n",
    "def generate_Films(number_of_films):\n",
    "    result = []\n",
    "    for i in range(0,number_of_films):\n",
    "        a = randint(0,1)\n",
    "        result.append([a, 1-a])\n",
    "    return(np.array(result))"
   ]
  },
  {
   "cell_type": "code",
   "execution_count": 194,
   "metadata": {},
   "outputs": [],
   "source": [
    "# Total number of films and user preference matrix\n",
    "# Percentage is the chance a user has viewed a given film\n",
    "# Return Value: Each row represents a single film\n",
    "def user_movie_ratings(films, users, percentage):\n",
    "    num_films = films.shape[0]\n",
    "    result = []\n",
    "    movies = films.tolist()\n",
    "    Users = users.tolist()\n",
    "    for film in movies:\n",
    "        rating = []\n",
    "        for user in Users:\n",
    "            ran = random.uniform(0,1)\n",
    "            if (ran <= percentage):\n",
    "                t = round(5 * (user[0] * film[0]+ user[1] * film[1])/2)\n",
    "                if t == 0:\n",
    "                    t = round(5 * random.uniform(0.1,1))\n",
    "                rating.append(t)\n",
    "            else:\n",
    "                rating.append(0)\n",
    "        result.append(rating)\n",
    "    return(np.array(result))"
   ]
  },
  {
   "cell_type": "code",
   "execution_count": 266,
   "metadata": {},
   "outputs": [],
   "source": [
    "users = generate_Users(6040)\n",
    "films = generate_Films(3883)\n",
    "ratings = user_movie_ratings(films, users, 0.05)\n"
   ]
  },
  {
   "cell_type": "code",
   "execution_count": 206,
   "metadata": {},
   "outputs": [],
   "source": [
    "def rec(rates):\n",
    "    user_ratings_mean = np.mean(rates.T, axis = 1)\n",
    "    R_demeaned = ratings.T - user_ratings_mean.reshape(-1, 1)\n",
    "    U, sigma, Vt = svds(R_demeaned, k = 50)\n",
    "    sigma = np.diag(sigma)\n",
    "    all_user_predicted_ratings = np.round(np.dot(np.dot(U, sigma), Vt) + user_ratings_mean.reshape(-1, 1))\n",
    "    return(all_user_predicted_ratings)"
   ]
  },
  {
   "cell_type": "markdown",
   "metadata": {},
   "source": [
    "Question: Should we also recommend videos that users have already viewed? At least for me, Youtube recommends videos that I have already watched all the time."
   ]
  },
  {
   "cell_type": "code",
   "execution_count": 250,
   "metadata": {
    "collapsed": true
   },
   "outputs": [],
   "source": [
    "def recommend_movies(predictions_df, userID,num_recommendations=5):\n",
    "    temp = predictions_df[userID,]\n",
    "    recommendations = np.argsort(temp)[-num_recommendations:]\n",
    "    return recommendations"
   ]
  },
  {
   "cell_type": "markdown",
   "metadata": {},
   "source": [
    "Initial Recommendations"
   ]
  },
  {
   "cell_type": "code",
   "execution_count": 267,
   "metadata": {
    "collapsed": true
   },
   "outputs": [],
   "source": [
    "Recommended = rec(ratings)"
   ]
  },
  {
   "cell_type": "code",
   "execution_count": 268,
   "metadata": {},
   "outputs": [],
   "source": [
    "initial = []\n",
    "for i in range(0,users.shape[0]):\n",
    "    temp = recommend_movies(Recommended, i).tolist()\n",
    "    type1 = 0\n",
    "    type2 = 0\n",
    "    for item in temp:\n",
    "        if (films[item,0] == 1):\n",
    "            type1 += 1\n",
    "        else:\n",
    "            type2 += 1\n",
    "    initial.append([type1,type2])"
   ]
  },
  {
   "cell_type": "code",
   "execution_count": 269,
   "metadata": {
    "collapsed": true
   },
   "outputs": [],
   "source": [
    "# Simulating what happens when receiving a recommendation\n",
    "# Take in a list of recommendations\n",
    "def accepting_recommendations(recommend,initial):\n",
    "    isChange = False\n",
    "    j = 0\n",
    "    for i in range(0,users.shape[0]):\n",
    "        videos = recommend_movies(recommend,i).tolist()\n",
    "        type1 = 0\n",
    "        type2 = 0\n",
    "        for item in videos:\n",
    "            if (films[item,0] == 1):\n",
    "                type1 += 1\n",
    "            else:\n",
    "                type2 += 1\n",
    "\n",
    "        user = users[i,]\n",
    "        if type1 != initial[i][0] or type2 != initial[i][1]:\n",
    "            isChange = True\n",
    "            j += 1\n",
    "            initial[i][0] = type1\n",
    "            initial[i][1] = type2\n",
    "        for video in videos:\n",
    "            if films[video][0] == 1:\n",
    "                ran = random.uniform(0,1)\n",
    "                if ran <= user[0]:\n",
    "                    mean_rating = np.mean(ratings[:,video])\n",
    "                    rate = min(round(mean_rating + user[0]),5)\n",
    "                    ratings[video,i] = rate\n",
    "            else: \n",
    "                ran = random.uniform(0,1)\n",
    "                if ran <= user[1]:\n",
    "                    mean_rating = np.mean(ratings[:,video])\n",
    "                    rate = min(round(mean_rating + user[1]),5)\n",
    "                    ratings[video,i] = rate\n",
    "    return(isChange,initial,j)"
   ]
  },
  {
   "cell_type": "markdown",
   "metadata": {},
   "source": [
    "Run Simulation"
   ]
  },
  {
   "cell_type": "code",
   "execution_count": null,
   "metadata": {},
   "outputs": [
    {
     "name": "stdout",
     "output_type": "stream",
     "text": [
      "change\n",
      "0\n",
      "complete round 1\n",
      "change\n",
      "1477\n",
      "complete round 2\n",
      "change\n",
      "1398\n",
      "complete round 3\n",
      "change\n",
      "1393\n",
      "complete round 4\n",
      "change\n",
      "1415\n",
      "complete round 5\n",
      "change\n",
      "1371\n",
      "complete round 6\n",
      "change\n",
      "1347\n",
      "complete round 7\n",
      "change\n",
      "1416\n",
      "complete round 8\n",
      "change\n",
      "1448\n",
      "complete round 9\n",
      "change\n",
      "1375\n",
      "complete round 10\n",
      "change\n",
      "1399\n",
      "complete round 11\n",
      "change\n",
      "1365\n",
      "complete round 12\n",
      "change\n",
      "1381\n",
      "complete round 13\n",
      "change\n",
      "1349\n",
      "complete round 14\n",
      "change\n",
      "1356\n",
      "complete round 15\n",
      "change\n",
      "1329\n",
      "complete round 16\n",
      "change\n",
      "1383\n",
      "complete round 17\n",
      "change\n",
      "1382\n",
      "complete round 18\n",
      "change\n",
      "1375\n",
      "complete round 19\n",
      "change\n",
      "1391\n",
      "complete round 20\n",
      "change\n",
      "1360\n",
      "complete round 21\n",
      "change\n",
      "1347\n",
      "complete round 22\n",
      "change\n",
      "1399\n",
      "complete round 23\n",
      "change\n",
      "1412\n",
      "complete round 24\n",
      "change\n",
      "1374\n",
      "complete round 25\n",
      "change\n",
      "1408\n",
      "complete round 26\n",
      "change\n",
      "1345\n",
      "complete round 27\n",
      "change\n",
      "1303\n",
      "complete round 28\n"
     ]
    }
   ],
   "source": [
    "i = 0\n",
    "final_result = []\n",
    "while True:\n",
    "    Recommended = rec(ratings)\n",
    "    Changed, initial, j = accepting_recommendations(Recommended, initial)\n",
    "    if not Changed and i != 0:\n",
    "        final_result = initial\n",
    "        break\n",
    "    i = i + 1\n",
    "    print('change')\n",
    "    print(j)\n",
    "    print('complete round ' + str(i))"
   ]
  }
 ],
 "metadata": {
  "kernelspec": {
   "display_name": "Python 3",
   "language": "python",
   "name": "python3"
  },
  "language_info": {
   "codemirror_mode": {
    "name": "ipython",
    "version": 3
   },
   "file_extension": ".py",
   "mimetype": "text/x-python",
   "name": "python",
   "nbconvert_exporter": "python",
   "pygments_lexer": "ipython3",
   "version": "3.6.1"
  }
 },
 "nbformat": 4,
 "nbformat_minor": 2
}
